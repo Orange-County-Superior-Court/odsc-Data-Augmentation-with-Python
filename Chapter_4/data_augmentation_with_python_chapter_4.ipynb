{
  "cells": [
    {
      "cell_type": "markdown",
      "metadata": {
        "id": "view-in-github",
        "colab_type": "text"
      },
      "source": [
        "<a href=\"https://colab.research.google.com/github/duchaba/Data-Augmentation-with-Python/blob/main/data_augmentation_with_python_chapter_4.ipynb\" target=\"_parent\"><img src=\"https://colab.research.google.com/assets/colab-badge.svg\" alt=\"Open In Colab\"/></a>"
      ]
    },
    {
      "cell_type": "markdown",
      "metadata": {
        "id": "qtnHR_uG0m7Z"
      },
      "source": [
        "# 🌻 Welcome to Chapter 4, Image Augmentation for Segmentation\n",
        "\n",
        "\n",
        "---\n",
        "\n",
        "I am glad to see you using this Python Notebook. 🐶\n",
        "\n",
        "The Python Notebook is an integral part of the book. You can add new “code cells” to extend the functions, add your data, and explore new possibilities, such as downloading additional real-world datasets from the Kaggle website and coding the **Fun challenges**. Furthermore, the book has **Fun facts**, in-depth discussion about augmentation techniques, and Pluto, an imaginary Siberian Huskey coding companion. Together they will guide you every steps of the way. \n",
        "\n",
        "Pluto encourages you to copy or save a copy of this Python Notebook to your local space and add the “text cells” to keep your notes. In other words, read the book and copy the relevant concept to this Python Notebook’s text-cells. Thus, you can have the explanation, note, original code, your code, and any crazy future ideas in one place.  \n",
        "\n",
        "\n",
        "💗 I hope you enjoy reading the book and hacking code as much as I enjoy writing it. \n",
        "\n",
        "\n",
        "## 🌟 Amazon Book\n",
        "\n",
        "---\n",
        "\n",
        "- The book is available on the Amazon Book website: \n",
        "  - https://www.amazon.com/dp/1803246456\n",
        "\n",
        "  - Author: Duc Haba\n",
        "  - Published: 2023\n",
        "  - Page count: 390+\n",
        "\n",
        "\n",
        "- The original Python Notebook is on: \n",
        "  - https://github.com/PacktPublishing/Data-Augmentation-with-Python/blob/main/Chapter_4/data_augmentation_with_python_chapter_4.ipynb \n",
        "\n",
        "- 🚀 Click on the blue \"Open in Colab\" button at the top of this page to begin hacking.\n",
        "\n"
      ]
    },
    {
      "cell_type": "markdown",
      "source": [
        "# 😀 Excerpt from Chapter 4, Image Augmentation for Segmentation\n",
        "\n",
        "---\n",
        "\n",
        "> In case you haven’t bought the book. Here is an teaser from the first page of Chapter 4.\n",
        "\n",
        "---\n",
        "\n",
        "Image segmentation, like image classification, is the cornerstone in the computer vision domain. Image segmentation involves grouping parts of an image that belong to the same object, also known as pixel-level classification. Unlike image classification, which identifies and predicts the subject or label of a photo, image segmentation determines if a pixel belongs to a list of objects – for example, an urban photograph has streets, street signs, cars, trucks, bicycles, buildings, trees, and pedestrians. Image segmentation’s job is to decide if this image pixel belongs to a car, tree, or other objects.  \n",
        "\n",
        "Deep learning (DL), an artificial neural network (ANN) algorithm, has made a tremendous breakthrough in image segmentation. For example, image segmentation in DL makes it possible for autonomous vehicles and Advanced Driver Assistance Systems (ADASs) to detect navigable surfaces or pedestrians. Many medical applications use segmentation for tumor boundary drawing or measuring tissue volumes, for example. \n",
        "\n",
        "The image augmentation methods for segmentation or classification are the same, except segmentation comes with an additional mask image or ground-truth image. Therefore, most of what we learned about augmenting images for classification in Chapter 3 applies to augmenting segmentation.  \n",
        "\n",
        "This chapter aims to provide continuing geometric and photometric transformations for image segmentation. In particular, you will learn about the following topics: \n",
        "\n",
        "- Geometric and photometric transformations \n",
        "\n",
        "- Real-world segmentation datasets \n",
        "\n",
        "- Reinforce learning through Python code  \n",
        "\n",
        "\n",
        "Let’s begin with the geometric and photometric transformations for segmentation. \n",
        "\n",
        "---\n",
        "\n",
        "🌴 *end of excerpt from the book*"
      ],
      "metadata": {
        "id": "fQyQpZW1tRIv"
      }
    },
    {
      "cell_type": "markdown",
      "metadata": {
        "id": "psur6TottXJs"
      },
      "source": [
        "### GitHub Clone"
      ]
    },
    {
      "cell_type": "code",
      "execution_count": null,
      "metadata": {
        "id": "-e-E23OC33r_"
      },
      "outputs": [],
      "source": [
        "# git version should be 2.17.1 or higher\n",
        "!git --version"
      ]
    },
    {
      "cell_type": "code",
      "execution_count": null,
      "metadata": {
        "id": "Kk-kUBgEnYzg"
      },
      "outputs": [],
      "source": [
        "url = 'https://github.com/PacktPublishing/Data-Augmentation-with-Python'\n",
        "!git clone {url}"
      ]
    },
    {
      "cell_type": "markdown",
      "metadata": {
        "id": "ktmuZO3xteG1"
      },
      "source": [
        "### Fetch file from URL (Optional)"
      ]
    },
    {
      "cell_type": "markdown",
      "source": [
        "- Uncommend the below 2 code cells if you want to use URL and not Git Clone"
      ],
      "metadata": {
        "id": "wGPwtc1p9zQu"
      }
    },
    {
      "cell_type": "code",
      "execution_count": null,
      "metadata": {
        "id": "oObUsdZcj3Hk"
      },
      "outputs": [],
      "source": [
        "# import requests\n",
        "# #\n",
        "# def fetch_file(url, dst):\n",
        "#   downloaded_obj = requests.get(url)\n",
        "#   with open(dst, \"wb\") as file:\n",
        "#     file.write(downloaded_obj.content)\n",
        "#   return"
      ]
    },
    {
      "cell_type": "code",
      "execution_count": null,
      "metadata": {
        "id": "Nrz6ykdEj3RT"
      },
      "outputs": [],
      "source": [
        "# url = ''\n",
        "# dst = 'pluto_chapter_1.py'\n",
        "# fetch_file(url,dst)"
      ]
    },
    {
      "cell_type": "markdown",
      "source": [
        "### Pluto"
      ],
      "metadata": {
        "id": "u9oQ-Do542nh"
      }
    },
    {
      "cell_type": "markdown",
      "metadata": {
        "id": "yuljFGYftoyb"
      },
      "source": [
        "- Instantiate up Pluto, aka. \"Pluto, wake up!\""
      ]
    },
    {
      "cell_type": "code",
      "source": [
        "!pip install -Uqq fastai\n",
        "!pip install albumentations\n",
        "#\n",
        "# tested on the following version:\n",
        "# !pip install -Uqq fastai==2.6.3\n",
        "# !pip install albumentations==1.2.1"
      ],
      "metadata": {
        "id": "ZMXhhrwa-o7z"
      },
      "execution_count": null,
      "outputs": []
    },
    {
      "cell_type": "code",
      "execution_count": null,
      "metadata": {
        "id": "dDqYkFLYgSGV"
      },
      "outputs": [],
      "source": [
        "#load and run the pluto chapter 1 Python code.\n",
        "pluto_file = 'Data-Augmentation-with-Python/pluto/pluto_chapter_3.py'\n",
        "%run {pluto_file}"
      ]
    },
    {
      "cell_type": "markdown",
      "metadata": {
        "id": "WqZKpMYA3YO1"
      },
      "source": [
        "- Double check on the server environments"
      ]
    },
    {
      "cell_type": "code",
      "execution_count": null,
      "metadata": {
        "id": "DFMl76ungbF7"
      },
      "outputs": [],
      "source": [
        "pluto.say_sys_info()"
      ]
    },
    {
      "cell_type": "code",
      "source": [
        "pluto_chapter_4 = 'Data-Augmentation-with-Python/pluto/pluto_chapter_4.py'\n",
        "!cp {pluto_file} {pluto_chapter_4}"
      ],
      "metadata": {
        "id": "_zXvft_Cjb3k"
      },
      "execution_count": null,
      "outputs": []
    },
    {
      "cell_type": "code",
      "source": [
        "# !cat {pluto_file}"
      ],
      "metadata": {
        "id": "6cdLfXlF6ays"
      },
      "execution_count": null,
      "outputs": []
    },
    {
      "cell_type": "markdown",
      "source": [
        "### ✋ STOP: Reinitalize Kaggle\n",
        "\n",
        "- Install the following libraries, and import it on the Notebook.\n",
        "- Follow by initialize Kaggle username, key and fetch methods.\n",
        "- STOP: Update your Kaggle access username or key first."
      ],
      "metadata": {
        "id": "GEq5UZk-SDec"
      }
    },
    {
      "cell_type": "code",
      "source": [
        "# -------------------- : --------------------\n",
        "# READ ME\n",
        "# Chapter 2 begin:\n",
        "# Install the following libraries, and import it on the Notebook.\n",
        "# Follow by initialize Kaggle username, key and fetch methods.\n",
        "# STOP: Update your Kaggle access username or key first.\n",
        "# -------------------- : --------------------\n",
        "\n",
        "!pip install opendatasets --upgrade\n",
        "import opendatasets\n",
        "print(\"\\nrequired version 0.1.22 or higher: \", opendatasets.__version__)\n",
        "\n",
        "!pip install pyspellchecker \n",
        "import spellchecker\n",
        "print(\"\\nRequired version 0.7+\", spellchecker.__version__)\n",
        "\n",
        "# STOP: Update your Kaggle access username or key first.\n",
        "pluto.remember_kaggle_access_keys(\"YOUR_KAGGLE_USERNAME\", \"YOUR_KAGGLE_API_KEY\")\n",
        "pluto._write_kaggle_credit()\n",
        "import kaggle\n",
        "\n",
        "@add_method(PacktDataAug)\n",
        "def fetch_kaggle_comp_data(self,cname):\n",
        "  #self._write_kaggle_credit()  # need to run only once.\n",
        "  path = pathlib.Path(cname)\n",
        "  kaggle.api.competition_download_cli(str(path))\n",
        "  zipfile.ZipFile(f'{path}.zip').extractall(path)\n",
        "  return\n",
        "\n",
        "@add_method(PacktDataAug)\n",
        "def fetch_kaggle_dataset(self,url,dest=\"kaggle\"):\n",
        "  #self._write_kaggle_credit()    # need to run only once.\n",
        "  opendatasets.download(url,data_dir=dest)\n",
        "  return\n",
        "# -------------------- : --------------------\n"
      ],
      "metadata": {
        "id": "2VXY3ROiSNsv"
      },
      "execution_count": null,
      "outputs": []
    },
    {
      "cell_type": "markdown",
      "metadata": {
        "id": "Xf1ZN68a46on"
      },
      "source": [
        "# Fetch Kaggle Data"
      ]
    },
    {
      "cell_type": "markdown",
      "metadata": {
        "id": "DmuApvJnHbNu"
      },
      "source": [
        "## CamVid (Cambridge-Driving Labeled Video Database)"
      ]
    },
    {
      "cell_type": "code",
      "execution_count": null,
      "metadata": {
        "id": "RjQn8Y-FAUMs"
      },
      "outputs": [],
      "source": [
        "url = 'https://www.kaggle.com/datasets/carlolepelaars/camvid'\n",
        "pluto.fetch_kaggle_dataset(url)"
      ]
    },
    {
      "cell_type": "code",
      "source": [
        "# remove white space in directory and filename\n",
        "# run this until no error/output\n",
        "f = 'kaggle/camvid/CamVid/train'\n",
        "!find {f} -name \"* *\" -type d | rename 's/ /_/g'\n",
        "#!find {f} -name \"* *\" -type f | rename 's/ /_/g'"
      ],
      "metadata": {
        "id": "iwrgOj4-X75h"
      },
      "execution_count": null,
      "outputs": []
    },
    {
      "cell_type": "code",
      "source": [
        "# change method name to make_dir_dframe\n",
        "pluto.df_camvid = pluto.make_dir_dataframe(f)\n",
        "pluto.df_camvid.head(3)"
      ],
      "metadata": {
        "id": "m4w5JoK1Yd4G"
      },
      "execution_count": null,
      "outputs": []
    },
    {
      "cell_type": "code",
      "source": [
        "# %%writefile -a {pluto_chapter_4}\n",
        "\n",
        "pluto.version = 4.0\n",
        "@add_method(PacktDataAug)\n",
        "def _make_df_mask_name(self,fname):\n",
        "  p = pathlib.Path(fname)\n",
        "  return(f'{p.parent.parent}/{p.parent.name}_labels/{p.stem}_L{p.suffix}')\n",
        "#\n",
        "@add_method(PacktDataAug)\n",
        "def make_df_mask_name(self,df):\n",
        "  df['mask_name'] = df.fname.apply(self._make_df_mask_name)\n",
        "  return"
      ],
      "metadata": {
        "id": "iRWrMh118U8I"
      },
      "execution_count": null,
      "outputs": []
    },
    {
      "cell_type": "code",
      "source": [
        "@add_method(PacktDataAug)\n",
        "def _fetch_larger_font(self):\n",
        "  heading_properties = [('font-size', '20px')]\n",
        "  cell_properties = [('font-size', '18px')]\n",
        "  dfstyle = [dict(selector=\"th\", props=heading_properties),\n",
        "    dict(selector=\"td\", props=cell_properties)]\n",
        "  return dfstyle\n",
        "#\n",
        "@add_method(PacktDataAug)\n",
        "def print_batch_text(self,df_orig, disp_max=6, cols=[\"title\", \"description\"],is_larger_font=True): \n",
        "  df = df_orig[cols] \n",
        "  with pandas.option_context(\"display.max_colwidth\", None):\n",
        "    if (is_larger_font):\n",
        "      display(df.sample(disp_max).style.set_table_styles(self._fetch_larger_font()))\n",
        "    else:\n",
        "      display(df.sample(disp_max))\n",
        "  return"
      ],
      "metadata": {
        "id": "V1tzcmaHaqfI"
      },
      "execution_count": null,
      "outputs": []
    },
    {
      "cell_type": "code",
      "source": [
        "pluto.make_df_mask_name(pluto.df_camvid)\n",
        "#pluto.df_camvid.head(3).style.set_table_styles(pluto._fetch_larger_font())"
      ],
      "metadata": {
        "id": "OrQBYKAz91bQ"
      },
      "execution_count": null,
      "outputs": []
    },
    {
      "cell_type": "code",
      "source": [
        "pluto.print_batch_text(pluto.df_camvid.head(3), disp_max=3, cols=['fname', 'mask_name'])"
      ],
      "metadata": {
        "id": "PBSEWittbPTW"
      },
      "execution_count": null,
      "outputs": []
    },
    {
      "cell_type": "code",
      "source": [
        "x = pluto.draw_batch(pluto.df_camvid.fname, is_shuffle=True)"
      ],
      "metadata": {
        "id": "4xMdU2nfZhgi"
      },
      "execution_count": null,
      "outputs": []
    },
    {
      "cell_type": "code",
      "source": [
        "x = pluto.draw_batch(pluto.df_camvid.mask_name, is_shuffle=True)"
      ],
      "metadata": {
        "id": "AbJAPWs4B7qN"
      },
      "execution_count": null,
      "outputs": []
    },
    {
      "cell_type": "code",
      "source": [
        "# %%writefile -a {pluto_chapter_4}\n",
        "\n",
        "@add_method(PacktDataAug)\n",
        "def _make_batch_segmentation(self,df, disp_max=8,is_shuffle=False):\n",
        "  # get random or not\n",
        "  if (is_shuffle):\n",
        "    _fns = df.sample(disp_max)\n",
        "    _fns.reset_index(drop=True, inplace=True)\n",
        "  else:\n",
        "    _fns = df.head(disp_max)\n",
        "\n",
        "  # merge the list\n",
        "  fname = []\n",
        "  fmask = []\n",
        "  for i in range(disp_max):\n",
        "    fname.append(str(_fns.fname[i]))\n",
        "    fname.append(str(_fns.mask_name[i]))\n",
        "    #\n",
        "    fmask.append(str(pathlib.Path(_fns.fname[i]).name))\n",
        "    fmask.append('Mask: ' +str(pathlib.Path(_fns.mask_name[i]).name))\n",
        "  #\n",
        "  return fname, fmask\n",
        "#\n",
        "@add_method(PacktDataAug)\n",
        "def draw_batch_segmentation(self,df, disp_max=8,is_shuffle=False, figsize=(16,8), disp_col=4):\n",
        "  disp_row = int(numpy.round((disp_max/disp_col)+0.4, 0))\n",
        "  #\n",
        "  fname, fmask = self._make_batch_segmentation(df, disp_max,is_shuffle)\n",
        "  canvas, pic = matplotlib.pyplot.subplots(disp_row,disp_col, figsize=figsize)\n",
        "  #\n",
        "  _pics = pic.flatten()\n",
        "  # display it\n",
        "  for i, ax in enumerate(_pics):\n",
        "    try:\n",
        "      im = PIL.Image.open(fname[i])\n",
        "      ax.imshow(im)\n",
        "      ax.set_title(fmask[i])\n",
        "    except:\n",
        "      self._pp(\"Error, invalid image\", fname[i])\n",
        "  canvas.tight_layout()\n",
        "  self._drop_image(canvas)\n",
        "  canvas.show()\n",
        "  return "
      ],
      "metadata": {
        "id": "h59VziyfcJXs"
      },
      "execution_count": null,
      "outputs": []
    },
    {
      "cell_type": "code",
      "source": [
        "pluto.draw_batch_segmentation(pluto.df_camvid, is_shuffle=True)"
      ],
      "metadata": {
        "id": "G54EI5imB7tm"
      },
      "execution_count": null,
      "outputs": []
    },
    {
      "cell_type": "markdown",
      "source": [
        "## Semantic segmentation of aerial imagery"
      ],
      "metadata": {
        "id": "C1X2pxkiEAL2"
      }
    },
    {
      "cell_type": "code",
      "source": [
        "url = 'https://www.kaggle.com/datasets/humansintheloop/semantic-segmentation-of-aerial-imagery'\n",
        "pluto.fetch_kaggle_dataset(url)"
      ],
      "metadata": {
        "id": "QyZBfjLJBlWI"
      },
      "execution_count": null,
      "outputs": []
    },
    {
      "cell_type": "code",
      "source": [
        "# remove white space in directory and filename\n",
        "# run this until no error/output\n",
        "f = 'kaggle/semantic-segmentation-of-aerial-imagery'\n",
        "!find {f} -name \"* *\" -type d | rename 's/ /_/g'\n",
        "#!find {f} -name \"* *\" -type f | rename 's/ /_/g'"
      ],
      "metadata": {
        "id": "qrSfIg7rTEhh"
      },
      "execution_count": null,
      "outputs": []
    },
    {
      "cell_type": "code",
      "source": [
        "# remove white space in directory and filename\n",
        "# run this until no error/output\n",
        "f = 'kaggle/semantic-segmentation-of-aerial-imagery'\n",
        "!find {f} -name \"* *\" -type d | rename 's/ /_/g'\n",
        "#!find {f} -name \"* *\" -type f | rename 's/ /_/g'"
      ],
      "metadata": {
        "id": "Hqiw6m-pTEkv"
      },
      "execution_count": null,
      "outputs": []
    },
    {
      "cell_type": "code",
      "source": [
        "!rm kaggle/semantic-segmentation-of-aerial-imagery/Semantic_segmentation_dataset/classes.json"
      ],
      "metadata": {
        "id": "XSRmoNuAqt7j"
      },
      "execution_count": null,
      "outputs": []
    },
    {
      "cell_type": "code",
      "source": [
        "pluto.df_aerial = pluto.make_dir_dataframe(f)\n",
        "pluto.df_aerial.head()"
      ],
      "metadata": {
        "id": "GozytNUoTEoP"
      },
      "execution_count": null,
      "outputs": []
    },
    {
      "cell_type": "code",
      "source": [
        "pluto.print_batch_text(pluto.df_aerial.head(3), disp_max=3, cols=['fname', 'label'])"
      ],
      "metadata": {
        "id": "Gj6bLlaGcc1m"
      },
      "execution_count": null,
      "outputs": []
    },
    {
      "cell_type": "code",
      "source": [
        "# %%writefile -a {pluto_chapter_4}\n",
        "\n",
        "@add_method(PacktDataAug)\n",
        "def _make_df_mask_name_aerial(self,fname):\n",
        "  p = pathlib.Path(fname)\n",
        "  return (f'{p.parent.parent}/masks/{p.stem}.png')\n",
        "#\n",
        "@add_method(PacktDataAug)\n",
        "def make_df_mask_name_aerial(self,df):\n",
        "  i = df[df['label'] =='masks'].index\n",
        "  df.drop(i, inplace=True)\n",
        "  df.reset_index(drop=True, inplace=True)\n",
        "  df['mask_name'] = df.fname.apply(self._make_df_mask_name_aerial)\n",
        "  return"
      ],
      "metadata": {
        "id": "sJRau4dSvndx"
      },
      "execution_count": null,
      "outputs": []
    },
    {
      "cell_type": "code",
      "source": [
        "pluto.make_df_mask_name_aerial(pluto.df_aerial)\n",
        "pluto.df_aerial.head(3)"
      ],
      "metadata": {
        "id": "eoR72wrCvt1U"
      },
      "execution_count": null,
      "outputs": []
    },
    {
      "cell_type": "code",
      "source": [
        "pluto.print_batch_text(pluto.df_aerial.head(3), disp_max=3, cols=['mask_name'])"
      ],
      "metadata": {
        "id": "UhYE3Pb2dNxL"
      },
      "execution_count": null,
      "outputs": []
    },
    {
      "cell_type": "code",
      "source": [
        "pluto.draw_batch_segmentation(pluto.df_aerial, is_shuffle=True)"
      ],
      "metadata": {
        "id": "hnxgAx6Evt4c"
      },
      "execution_count": null,
      "outputs": []
    },
    {
      "cell_type": "markdown",
      "source": [
        "# Geometric transformations filters "
      ],
      "metadata": {
        "id": "smpQgFW0YR3l"
      }
    },
    {
      "cell_type": "code",
      "source": [
        "# %%writefile -a {pluto_chapter_4}\n",
        "\n",
        "@add_method(PacktDataAug)\n",
        "def draw_image_flip_pil_segmen(self,fname):\n",
        "  img = PIL.Image.open(fname)\n",
        "  mirror_img = PIL.ImageOps.mirror(img)\n",
        "  canvas, pic = matplotlib.pyplot.subplots(1,2, figsize=(16,6))\n",
        "  #display(img, mirror_img)\n",
        "  pic[0].imshow(img)\n",
        "  pic[0].set_title(pathlib.Path(fname).name)\n",
        "  pic[1].imshow(mirror_img)\n",
        "  pic[1].set_title('Horizontal Flip')\n",
        "  #\n",
        "  canvas.tight_layout()\n",
        "  self._drop_image(canvas)\n",
        "  canvas.show()\n",
        "  return"
      ],
      "metadata": {
        "id": "nN2cRz4BtAIX"
      },
      "execution_count": null,
      "outputs": []
    },
    {
      "cell_type": "markdown",
      "source": [
        "## Horizontal flip"
      ],
      "metadata": {
        "id": "5pHBMc2YA6x9"
      }
    },
    {
      "cell_type": "code",
      "source": [
        "pluto.draw_image_flip_pil_segmen(pluto.df_camvid.fname[0])"
      ],
      "metadata": {
        "id": "4esbEC_pAxwC"
      },
      "execution_count": null,
      "outputs": []
    },
    {
      "cell_type": "code",
      "source": [
        "pluto.draw_image_flip_pil_segmen(pluto.df_camvid.mask_name[0])"
      ],
      "metadata": {
        "id": "O4MD67KdYAbY"
      },
      "execution_count": null,
      "outputs": []
    },
    {
      "cell_type": "code",
      "source": [
        "pluto.draw_image_flip_pil_segmen(pluto.df_aerial.fname[0])"
      ],
      "metadata": {
        "id": "m-kq2R1T6xD7"
      },
      "execution_count": null,
      "outputs": []
    },
    {
      "cell_type": "code",
      "source": [
        "pluto.draw_image_flip_pil_segmen(pluto.df_aerial.mask_name[0])"
      ],
      "metadata": {
        "id": "OKXWRI4Z6yA6"
      },
      "execution_count": null,
      "outputs": []
    },
    {
      "cell_type": "code",
      "source": [
        "# %%writefile -a {pluto_chapter_4}\n",
        "\n",
        "@add_method(PacktDataAug)\n",
        "def _draw_image_album_segmentation(self,df,aug_album,label_name):\n",
        "  bsize = 2\n",
        "  ncol = 4\n",
        "  nrow = 2\n",
        "  w = 18\n",
        "  h = 8\n",
        "  #\n",
        "  canvas, pic = matplotlib.pyplot.subplots(nrow, ncol, figsize=(w, h))\n",
        "  pics = pic.flatten()\n",
        "  # select random images\n",
        "  samp = df.sample(bsize)\n",
        "  samp.reset_index(drop=True, inplace=True)\n",
        "  #\n",
        "  _img = []\n",
        "  _label = []\n",
        "  for i in range(2):\n",
        "    img = PIL.Image.open(samp.fname[i])\n",
        "    imask = PIL.Image.open(samp.mask_name[i])\n",
        "    _img.append(img)\n",
        "    _img.append(imask)\n",
        "    img_numpy = numpy.array(img)\n",
        "    imask_numpy = numpy.array(imask)\n",
        "    album = aug_album(image=img_numpy,mask=imask_numpy)\n",
        "    _img.append(album['image'])\n",
        "    _img.append(album['mask'])\n",
        "    #\n",
        "    _label.append(str(pathlib.Path(samp.fname[i]).name))\n",
        "    _label.append('Mask:')\n",
        "    _label.append(label_name)\n",
        "    _label.append(label_name + ': Mask:')\n",
        "  #\n",
        "  for i, ax in enumerate(pics):\n",
        "    ax.imshow(_img[i])\n",
        "    ax.set_title(_label[i])\n",
        "  canvas.tight_layout()\n",
        "  self._drop_image(canvas)\n",
        "  canvas.show()\n",
        "  return"
      ],
      "metadata": {
        "id": "GmoJKM1i69Cu"
      },
      "execution_count": null,
      "outputs": []
    },
    {
      "cell_type": "code",
      "source": [
        "# %%writefile -a {pluto_chapter_4}\n",
        "\n",
        "@add_method(PacktDataAug)\n",
        "def draw_image_flip_segmen(self,df):\n",
        "  aug_album = albumentations.HorizontalFlip(p=1.0)\n",
        "  self._draw_image_album_segmentation(df,aug_album,'Horizontal Flip')\n",
        "  return"
      ],
      "metadata": {
        "id": "rrF6AzsI0kl3"
      },
      "execution_count": null,
      "outputs": []
    },
    {
      "cell_type": "code",
      "source": [
        "pluto.draw_image_flip_segmen(pluto.df_aerial)"
      ],
      "metadata": {
        "id": "BILiPNRh0kpP"
      },
      "execution_count": null,
      "outputs": []
    },
    {
      "cell_type": "code",
      "source": [
        "pluto.draw_image_flip_segmen(pluto.df_camvid)"
      ],
      "metadata": {
        "id": "Rgu3BtLo0ksZ"
      },
      "execution_count": null,
      "outputs": []
    },
    {
      "cell_type": "markdown",
      "source": [
        "## Vertical and horizontal flip"
      ],
      "metadata": {
        "id": "UCDbWSenPyGy"
      }
    },
    {
      "cell_type": "code",
      "source": [
        "# %%writefile -a {pluto_chapter_4}\n",
        "\n",
        "@add_method(PacktDataAug)\n",
        "def draw_image_flip_both_segmen(self,df):\n",
        "  aug_album = albumentations.Flip(p=1.0)\n",
        "  self._draw_image_album_segmentation(df,aug_album,'Vertical Flip')\n",
        "  return"
      ],
      "metadata": {
        "id": "qqm3fGY70kvr"
      },
      "execution_count": null,
      "outputs": []
    },
    {
      "cell_type": "code",
      "source": [
        "pluto.draw_image_flip_both_segmen(pluto.df_camvid)"
      ],
      "metadata": {
        "id": "IILw0ujR0kzH"
      },
      "execution_count": null,
      "outputs": []
    },
    {
      "cell_type": "code",
      "source": [
        "pluto.draw_image_flip_both_segmen(pluto.df_aerial)"
      ],
      "metadata": {
        "id": "91d6bfCh0k1_"
      },
      "execution_count": null,
      "outputs": []
    },
    {
      "cell_type": "markdown",
      "source": [
        "## Rotating"
      ],
      "metadata": {
        "id": "ywT8RqkpSRUq"
      }
    },
    {
      "cell_type": "code",
      "source": [
        "# albumentations.Rotate?"
      ],
      "metadata": {
        "id": "nOvxU-M00k5C"
      },
      "execution_count": null,
      "outputs": []
    },
    {
      "cell_type": "code",
      "source": [
        "# %%writefile -a {pluto_chapter_4}\n",
        "\n",
        "@add_method(PacktDataAug)\n",
        "def draw_image_rotate_segmen(self,df):\n",
        "  aug_album = albumentations.Rotate(limit=45, p=1.0)\n",
        "  self._draw_image_album_segmentation(df,aug_album,'Rotate')\n",
        "  return"
      ],
      "metadata": {
        "id": "Ys5tC12l0k8K"
      },
      "execution_count": null,
      "outputs": []
    },
    {
      "cell_type": "code",
      "source": [
        "pluto.draw_image_rotate_segmen(pluto.df_aerial)"
      ],
      "metadata": {
        "id": "-c0_lkdQ0k_i"
      },
      "execution_count": null,
      "outputs": []
    },
    {
      "cell_type": "code",
      "source": [
        "pluto.draw_image_rotate_segmen(pluto.df_camvid)"
      ],
      "metadata": {
        "id": "cAV2D4580lCa"
      },
      "execution_count": null,
      "outputs": []
    },
    {
      "cell_type": "markdown",
      "source": [
        "## Random Resize and Crop"
      ],
      "metadata": {
        "id": "0TOOFz2JwZmX"
      }
    },
    {
      "cell_type": "code",
      "source": [
        "# %%writefile -a {pluto_chapter_4}\n",
        "\n",
        "@add_method(PacktDataAug)\n",
        "def draw_image_resize_segmen(self,df):\n",
        "  aug_album = albumentations.RandomSizedCrop(min_max_height=(500, 600), height=500, width=500, p=1.0)\n",
        "  self._draw_image_album_segmentation(df,aug_album,'Resize')\n",
        "  return"
      ],
      "metadata": {
        "id": "V8ladPvYq-lF"
      },
      "execution_count": null,
      "outputs": []
    },
    {
      "cell_type": "code",
      "source": [
        "pluto.draw_image_resize_segmen(pluto.df_camvid)"
      ],
      "metadata": {
        "id": "O61a4c93q-oQ"
      },
      "execution_count": null,
      "outputs": []
    },
    {
      "cell_type": "code",
      "source": [
        "pluto.draw_image_resize_segmen(pluto.df_aerial)"
      ],
      "metadata": {
        "id": "bh3dTqobq-r-"
      },
      "execution_count": null,
      "outputs": []
    },
    {
      "cell_type": "markdown",
      "source": [
        "## Transpose"
      ],
      "metadata": {
        "id": "2Rm1g2Udu-O_"
      }
    },
    {
      "cell_type": "code",
      "source": [
        "# %%writefile -a {pluto_chapter_4}\n",
        "\n",
        "@add_method(PacktDataAug)\n",
        "def draw_image_transpose_segmen(self,df):\n",
        "  aug_album = albumentations.Transpose(p=1.0)\n",
        "  self._draw_image_album_segmentation(df,aug_album,'Transpose')\n",
        "  return"
      ],
      "metadata": {
        "id": "Pwx-dhuwu-b0"
      },
      "execution_count": null,
      "outputs": []
    },
    {
      "cell_type": "code",
      "source": [
        "# albumentations.Transpose?"
      ],
      "metadata": {
        "id": "MEUxlH9bRU2b"
      },
      "execution_count": null,
      "outputs": []
    },
    {
      "cell_type": "code",
      "source": [
        "pluto.draw_image_transpose_segmen(pluto.df_aerial)"
      ],
      "metadata": {
        "id": "zVU_3Bw-u-f8"
      },
      "execution_count": null,
      "outputs": []
    },
    {
      "cell_type": "code",
      "source": [
        "pluto.draw_image_transpose_segmen(pluto.df_camvid)"
      ],
      "metadata": {
        "id": "uQAnbS0kUSGw"
      },
      "execution_count": null,
      "outputs": []
    },
    {
      "cell_type": "markdown",
      "source": [
        "# Photometric transformations"
      ],
      "metadata": {
        "id": "5adKElIq-6uF"
      }
    },
    {
      "cell_type": "markdown",
      "source": [
        "## Lighting"
      ],
      "metadata": {
        "id": "Kpj6PEQDanJP"
      }
    },
    {
      "cell_type": "code",
      "source": [
        "# %%writefile -a {pluto_chapter_4}\n",
        "\n",
        "@add_method(PacktDataAug)\n",
        "def draw_image_brightness_segmen(self,df,brightness=0.5):\n",
        "  aug_album = albumentations.ColorJitter(brightness=brightness,\n",
        "    contrast=0.0, saturation=0.0,hue=0.0,always_apply=True, p=1.0)\n",
        "  self._draw_image_album_segmentation(df,aug_album,'Brightness')\n",
        "  return"
      ],
      "metadata": {
        "id": "FyBKfRMuVlQ4"
      },
      "execution_count": null,
      "outputs": []
    },
    {
      "cell_type": "code",
      "source": [
        "pluto.draw_image_brightness_segmen(pluto.df_aerial)"
      ],
      "metadata": {
        "id": "xAJVZ4BgVlUr"
      },
      "execution_count": null,
      "outputs": []
    },
    {
      "cell_type": "code",
      "source": [
        "pluto.draw_image_brightness_segmen(pluto.df_camvid)"
      ],
      "metadata": {
        "id": "tMq1aq2EVtLj"
      },
      "execution_count": null,
      "outputs": []
    },
    {
      "cell_type": "markdown",
      "source": [
        "## Contrast"
      ],
      "metadata": {
        "id": "DCBhy4zOd-60"
      }
    },
    {
      "cell_type": "code",
      "source": [
        "# %%writefile -a {pluto_chapter_4}\n",
        "\n",
        "@add_method(PacktDataAug)\n",
        "def draw_image_contrast_segmen(self,df,contrast=0.5):\n",
        "  aug_album = albumentations.ColorJitter(brightness=0.0,\n",
        "    contrast=contrast, saturation=0.0,hue=0.0,always_apply=True, p=1.0)\n",
        "  self._draw_image_album_segmentation(df,aug_album,'Contrast')\n",
        "  return"
      ],
      "metadata": {
        "id": "GGoJeACLiDlJ"
      },
      "execution_count": null,
      "outputs": []
    },
    {
      "cell_type": "code",
      "source": [
        "pluto.draw_image_contrast_segmen(pluto.df_aerial)"
      ],
      "metadata": {
        "id": "nHnvM8GMiDoZ"
      },
      "execution_count": null,
      "outputs": []
    },
    {
      "cell_type": "code",
      "source": [
        "pluto.draw_image_contrast_segmen(pluto.df_camvid)"
      ],
      "metadata": {
        "id": "dBKqQwMKiDrd"
      },
      "execution_count": null,
      "outputs": []
    },
    {
      "cell_type": "markdown",
      "source": [
        "## FancyPCA "
      ],
      "metadata": {
        "id": "kgZdYdzk0VqC"
      }
    },
    {
      "cell_type": "code",
      "source": [
        "# %%writefile -a {pluto_chapter_4}\n",
        "\n",
        "@add_method(PacktDataAug)\n",
        "def draw_image_fancyPCA_segmen(self,df,alpha=0.3):\n",
        "  aug_album = albumentations.FancyPCA(alpha=alpha, always_apply=True, p=1.0)\n",
        "  self._draw_image_album_segmentation(df,aug_album,'FancyPCA')\n",
        "  return"
      ],
      "metadata": {
        "id": "4c-PqTZUyq79"
      },
      "execution_count": null,
      "outputs": []
    },
    {
      "cell_type": "code",
      "source": [
        "pluto.draw_image_fancyPCA_segmen(pluto.df_aerial)"
      ],
      "metadata": {
        "id": "O1Go4Ge8yq-k"
      },
      "execution_count": null,
      "outputs": []
    },
    {
      "cell_type": "code",
      "source": [
        "pluto.draw_image_fancyPCA_segmen(pluto.df_camvid)"
      ],
      "metadata": {
        "id": "cnZN0JC40Ysi"
      },
      "execution_count": null,
      "outputs": []
    },
    {
      "cell_type": "markdown",
      "source": [
        "# Combination"
      ],
      "metadata": {
        "id": "4OMdms3tO4V6"
      }
    },
    {
      "cell_type": "markdown",
      "source": [
        "## draw table"
      ],
      "metadata": {
        "id": "pTm8mMAkO-YJ"
      }
    },
    {
      "cell_type": "code",
      "source": [
        "# %%writefile -a {pluto_chapter_4}\n",
        "\n",
        "@add_method(PacktDataAug)\n",
        "def print_safe_parameters_segmen(self):\n",
        "  data = [\n",
        "    ['Horizontal Flip','Yes','Yes','Yes','Yes'],\n",
        "    ['Vertical Flip','Yes','Yes','Yes','Yes'],\n",
        "    ['Resize and Crop','Yes','Yes','Yes','Yes'],\n",
        "    ['Rotation','Yes','Yes','Yes','Yes'],\n",
        "    ['Transpose','Yes','Yes','Yes','Yes'],\n",
        "    ['Lighting','Yes','No','Yes','No'],\n",
        "    ['FancyPCA','Yes','No','Yes','No']]\n",
        "  # Create the pandas DataFrame\n",
        "  df = pandas.DataFrame(data, columns=['filters','CamVid','CamVid Mask', 'Aerial', 'Aerial Mask'])\n",
        "  display(df)\n",
        "  return"
      ],
      "metadata": {
        "id": "Rr_qx52jPJ83"
      },
      "execution_count": null,
      "outputs": []
    },
    {
      "cell_type": "code",
      "source": [
        "pluto.print_safe_parameters_segmen()"
      ],
      "metadata": {
        "id": "W8t4oN04PKAQ"
      },
      "execution_count": null,
      "outputs": []
    },
    {
      "cell_type": "markdown",
      "source": [
        "## draw segmentation"
      ],
      "metadata": {
        "id": "6wTmkF7Slmzf"
      }
    },
    {
      "cell_type": "code",
      "source": [
        "# %%writefile -a {pluto_chapter_4}\n",
        "\n",
        "@add_method(PacktDataAug)\n",
        "def draw_uber_segmen(self,df,contrast=0.5):\n",
        "  aug_album = albumentations.Compose([\n",
        "    albumentations.ColorJitter(brightness=0.5,contrast=0.0, saturation=0.0,hue=0.0,p=0.5),\n",
        "    albumentations.HorizontalFlip(p=0.5),\n",
        "    albumentations.Flip(p=0.5),\n",
        "    albumentations.Rotate(limit=45, p=0.5),\n",
        "    albumentations.RandomSizedCrop(min_max_height=(500, 600), height=500, width=500,p=0.5),\n",
        "    albumentations.Transpose(p=0.5),\n",
        "    albumentations.FancyPCA(alpha=0.2, p=0.5)\n",
        "  ])\n",
        "  self._draw_image_album_segmentation(df,aug_album,'Combine')\n",
        "  return"
      ],
      "metadata": {
        "id": "w8ykI6QJp4_4"
      },
      "execution_count": null,
      "outputs": []
    },
    {
      "cell_type": "code",
      "source": [
        "pluto.draw_uber_segmen(pluto.df_camvid)"
      ],
      "metadata": {
        "id": "ntleGJ6-SnuX"
      },
      "execution_count": null,
      "outputs": []
    },
    {
      "cell_type": "code",
      "source": [
        "pluto.draw_uber_segmen(pluto.df_aerial)"
      ],
      "metadata": {
        "id": "KKRfq8-YWm3J"
      },
      "execution_count": null,
      "outputs": []
    },
    {
      "cell_type": "code",
      "source": [
        "# end of chapter 4\n",
        "print('End of chapter 4.')"
      ],
      "metadata": {
        "id": "87VP_baYX5ap"
      },
      "execution_count": null,
      "outputs": []
    },
    {
      "cell_type": "markdown",
      "source": [
        "# Push up all changes (Optional)"
      ],
      "metadata": {
        "id": "LEj7fgaIN9_S"
      }
    },
    {
      "cell_type": "markdown",
      "source": [
        "- username: [your username]\n",
        "\n",
        "- password: [use the token]"
      ],
      "metadata": {
        "id": "lHXRf21BT9N8"
      }
    },
    {
      "cell_type": "code",
      "source": [
        "# import os\n",
        "# f = 'Data-Augmentation-with-Python'\n",
        "# os.chdir(f)\n",
        "# !git add -A\n",
        "# !git config --global user.email \"duc.haba@gmail.com\"\n",
        "# !git config --global user.name \"duchaba\"\n",
        "# !git commit -m \"end of session\"\n",
        "# # do the git push in the xterm console\n",
        "# #!git push"
      ],
      "metadata": {
        "id": "eSXJKJFlOEeE"
      },
      "execution_count": null,
      "outputs": []
    },
    {
      "cell_type": "code",
      "source": [
        "# import google.colab\n",
        "# import datetime\n",
        "# @add_method(PacktDataAug)\n",
        "# def zip_download(self,dname='/content/Data-Augmentation-with-Python/pluto_img'):\n",
        "#   d = datetime.datetime.now()\n",
        "#   d = d.strftime('%Y%m%d_')\n",
        "#   fname = f'img{d}{self.fname_id}.zip'\n",
        "#   !zip {fname} {dname}/*\n",
        "#   google.colab.files.download(fname)\n",
        "#   return"
      ],
      "metadata": {
        "id": "unPfU8_5vZdV"
      },
      "execution_count": null,
      "outputs": []
    },
    {
      "cell_type": "code",
      "source": [
        "# pluto.zip_download()"
      ],
      "metadata": {
        "id": "VrACmFh6va0M"
      },
      "execution_count": null,
      "outputs": []
    },
    {
      "cell_type": "markdown",
      "metadata": {
        "id": "EzO7lDYDWeLz"
      },
      "source": [
        "# Summary "
      ]
    },
    {
      "cell_type": "markdown",
      "metadata": {
        "id": "X2iUPf3EWePd"
      },
      "source": [
        "Every chaper will begin with same base class \"PacktDataAug\".\n",
        "\n",
        "✋ FAIR WARNING:\n",
        "\n",
        "- The coding uses long and complete function path name.\n",
        "\n",
        "- Pluto wrote the code for easy to understand and not for compactness, fast execution, nor cleaverness.\n",
        "\n",
        "- Use Xterm to debug cloud server\n",
        "\n"
      ]
    },
    {
      "cell_type": "code",
      "source": [
        "# !pip install colab-xterm\n",
        "# %load_ext colabxterm\n",
        "# %xterm"
      ],
      "metadata": {
        "id": "vXRG3KaeWbGx"
      },
      "execution_count": null,
      "outputs": []
    }
  ],
  "metadata": {
    "accelerator": "GPU",
    "colab": {
      "provenance": [],
      "toc_visible": true,
      "authorship_tag": "ABX9TyNBLz0hlEVyZMHVzJq43TNB",
      "include_colab_link": true
    },
    "gpuClass": "standard",
    "kernelspec": {
      "display_name": "Python 3",
      "name": "python3"
    },
    "language_info": {
      "name": "python"
    }
  },
  "nbformat": 4,
  "nbformat_minor": 0
}