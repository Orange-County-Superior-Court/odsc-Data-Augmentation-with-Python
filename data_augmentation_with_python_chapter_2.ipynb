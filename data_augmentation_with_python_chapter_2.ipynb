{
  "cells": [
    {
      "cell_type": "markdown",
      "metadata": {
        "id": "view-in-github",
        "colab_type": "text"
      },
      "source": [
        "<a href=\"https://colab.research.google.com/github/duchaba/Data-Augmentation-with-Python/blob/main/data_augmentation_with_python_chapter_2.ipynb\" target=\"_parent\"><img src=\"https://colab.research.google.com/assets/colab-badge.svg\" alt=\"Open In Colab\"/></a>"
      ]
    },
    {
      "cell_type": "markdown",
      "metadata": {
        "id": "qtnHR_uG0m7Z"
      },
      "source": [
        "# Data Augmentation with Python, Chapter 2"
      ]
    },
    {
      "cell_type": "markdown",
      "metadata": {
        "id": "a5EqgaYW08Cm"
      },
      "source": [
        "## 🌻 Welcome to Chapter 2, \"Biases and Data Augmentation\"\n"
      ]
    },
    {
      "cell_type": "markdown",
      "metadata": {
        "id": "1qKNeMfdruTQ"
      },
      "source": [
        "In this chapter, we’ll cover the following primary topics. \n",
        "\n",
        "- Computational Biases \n",
        "\n",
        "- Human Biases \n",
        "\n",
        "- Systemic Biases \n",
        "\n",
        "- Deep Dive to Image Augmentation Biases \n",
        "\n",
        "- Deep Dive to Text Augmentation Biases "
      ]
    },
    {
      "cell_type": "markdown",
      "source": [
        "# Load Notebook"
      ],
      "metadata": {
        "id": "ddyed6Hc5ucR"
      }
    },
    {
      "cell_type": "markdown",
      "source": [
        "- This Notebook original link is: \n",
        "  - https://github.com/PacktPublishing/Data-Augmentation-with-Python/blob/main/data_augmentation_with_python_chapter_2.ipynb\n",
        "\n"
      ],
      "metadata": {
        "id": "_LSQZ_H_5z6p"
      }
    },
    {
      "cell_type": "markdown",
      "metadata": {
        "id": "psur6TottXJs"
      },
      "source": [
        "# GitHub Clone"
      ]
    },
    {
      "cell_type": "code",
      "execution_count": null,
      "metadata": {
        "id": "-e-E23OC33r_"
      },
      "outputs": [],
      "source": [
        "# git version should be 2.17.1 or higher\n",
        "!git --version"
      ]
    },
    {
      "cell_type": "code",
      "execution_count": null,
      "metadata": {
        "id": "Kk-kUBgEnYzg"
      },
      "outputs": [],
      "source": [
        "# url = 'https://github.com/duchaba/Data-Augmentation-with-Python'  # for testing: remove after the book is finished.\n",
        "\n",
        "url = 'https://github.com/PacktPublishing/Data-Augmentation-with-Python'\n",
        "!git clone {url}"
      ]
    },
    {
      "cell_type": "markdown",
      "metadata": {
        "id": "ktmuZO3xteG1"
      },
      "source": [
        "## (Optional) Fetch file from URL"
      ]
    },
    {
      "cell_type": "markdown",
      "source": [
        "- Uncommend the below 2 code cells if you want to use URL and not Git Clone"
      ],
      "metadata": {
        "id": "wGPwtc1p9zQu"
      }
    },
    {
      "cell_type": "code",
      "execution_count": null,
      "metadata": {
        "id": "oObUsdZcj3Hk"
      },
      "outputs": [],
      "source": [
        "# import requests\n",
        "# #\n",
        "# def fetch_file(url, dst):\n",
        "#   downloaded_obj = requests.get(url)\n",
        "#   with open(dst, \"wb\") as file:\n",
        "#     file.write(downloaded_obj.content)\n",
        "#   return"
      ]
    },
    {
      "cell_type": "code",
      "execution_count": null,
      "metadata": {
        "id": "Nrz6ykdEj3RT"
      },
      "outputs": [],
      "source": [
        "# url = ''\n",
        "# dst = 'pluto_chapter_1.py'\n",
        "# fetch_file(url,dst)"
      ]
    },
    {
      "cell_type": "markdown",
      "metadata": {
        "id": "yuljFGYftoyb"
      },
      "source": [
        "# Run Pluto"
      ]
    },
    {
      "cell_type": "code",
      "execution_count": null,
      "metadata": {
        "id": "dDqYkFLYgSGV"
      },
      "outputs": [],
      "source": [
        "#load and run the pluto chapter 1 Python code.\n",
        "pluto_file = 'Data-Augmentation-with-Python/pluto/pluto_chapter_1.py'\n",
        "%run {pluto_file}"
      ]
    },
    {
      "cell_type": "markdown",
      "metadata": {
        "id": "WqZKpMYA3YO1"
      },
      "source": [
        "# Verify Pluto"
      ]
    },
    {
      "cell_type": "code",
      "execution_count": null,
      "metadata": {
        "id": "DFMl76ungbF7"
      },
      "outputs": [],
      "source": [
        "pluto.say_sys_info()"
      ]
    },
    {
      "cell_type": "markdown",
      "metadata": {
        "id": "-jrAWhOY92ik"
      },
      "source": [
        "- (Optional) Copy the Pluto chapter 1 to begin chapter 2"
      ]
    },
    {
      "cell_type": "code",
      "execution_count": null,
      "metadata": {
        "id": "c0FKopIH-LZS"
      },
      "outputs": [],
      "source": [
        "pluto_chapter_2 = 'Data-Augmentation-with-Python/pluto/pluto_chapter_2.py'\n",
        "!cp {pluto_file} {pluto_chapter_2}"
      ]
    },
    {
      "cell_type": "markdown",
      "source": [
        "# Get Kaggle ID, key, and setup\n",
        "\n",
        "✋ STOP\n",
        "\n",
        "- First, sign up on kaggle.com. Get username and api key (refer to the book, Chapter 2)"
      ],
      "metadata": {
        "id": "Y9azxfCb7tu4"
      }
    },
    {
      "cell_type": "code",
      "execution_count": null,
      "metadata": {
        "id": "lrIk0IyLjubl"
      },
      "outputs": [],
      "source": [
        "# %%CARRY-OVER install\n",
        "\n",
        "# easy method to download kaggle data files\n",
        "!pip install opendatasets --upgrade"
      ]
    },
    {
      "cell_type": "code",
      "execution_count": null,
      "metadata": {
        "id": "oA9BmaTrAhjB"
      },
      "outputs": [],
      "source": [
        "# %%writefile -a {pluto_chapter_2}\n",
        "\n",
        "pluto.version = 2.0\n",
        "import opendatasets\n",
        "#\n",
        "@add_method(PacktDataAug)\n",
        "def remember_kaggle_access_keys(self,username,key):\n",
        "  self.kaggle_username = username\n",
        "  self.kaggle_key = key\n",
        "  return"
      ]
    },
    {
      "cell_type": "code",
      "source": [
        "print(\"\\nrequired version 0.1.22 or higher: \", opendatasets.__version__)"
      ],
      "metadata": {
        "id": "sLI0Yku39gzm"
      },
      "execution_count": null,
      "outputs": []
    },
    {
      "cell_type": "code",
      "execution_count": null,
      "metadata": {
        "id": "xlzyUNdHfJF_"
      },
      "outputs": [],
      "source": [
        "# %%writefile -a {pluto_chapter_2}\n",
        "\n",
        "@add_method(PacktDataAug)\n",
        "def _write_kaggle_credit(self):\n",
        "  creds = '{\"username\":\"'+self.kaggle_username+'\",\"key\":\"'+self.kaggle_key+'\"}'\n",
        "  kdirs = [\"~/.kaggle/kaggle.json\", \"./kaggle.json\"]\n",
        "  #\n",
        "  for k in kdirs:\n",
        "    cred_path = pathlib.Path(k).expanduser()\n",
        "    cred_path.parent.mkdir(exist_ok=True)\n",
        "    cred_path.write_text(creds)\n",
        "    cred_path.chmod(0o600)\n",
        "  import kaggle\n",
        "  #\n",
        "  return\n",
        "#\n",
        "@add_method(PacktDataAug)\n",
        "def fetch_kaggle_comp_data(self,cname):\n",
        "  #self._write_kaggle_credit()  # need to run only once.\n",
        "  path = pathlib.Path(cname)\n",
        "  kaggle.api.competition_download_cli(str(path))\n",
        "  zipfile.ZipFile(f'{path}.zip').extractall(path)\n",
        "  return\n",
        "#\n",
        "#\n",
        "@add_method(PacktDataAug)\n",
        "def fetch_kaggle_dataset(self,url,dest=\"kaggle\"):\n",
        "  #self._write_kaggle_credit()    # need to run only once.\n",
        "  opendatasets.download(url,data_dir=dest)\n",
        "  return"
      ]
    },
    {
      "cell_type": "markdown",
      "source": [
        "✋ STOP\n",
        "\n",
        "- user (your_kaggle_username) and (your_kaggle_api_key)"
      ],
      "metadata": {
        "id": "o44jBb0J96Ae"
      }
    },
    {
      "cell_type": "code",
      "source": [
        "# %%CARRY-OVER code\n",
        "\n",
        "pluto.remember_kaggle_access_keys(\"YOR_KAGGLE_KEY\", \"YOUR_KAGGLE_API_KEY\")\n",
        "\n",
        "pluto._write_kaggle_credit()\n",
        "import kaggle"
      ],
      "metadata": {
        "id": "zzdhZW3qTTr7"
      },
      "execution_count": null,
      "outputs": []
    },
    {
      "cell_type": "markdown",
      "metadata": {
        "id": "DmuApvJnHbNu"
      },
      "source": [
        "# Fetch State Farm real-world dataset"
      ]
    },
    {
      "cell_type": "code",
      "execution_count": null,
      "metadata": {
        "id": "JlsPtSrcD1m2"
      },
      "outputs": [],
      "source": [
        "# %%writefile -a {pluto_chapter_2}\n",
        "\n",
        "import zipfile\n",
        "import os"
      ]
    },
    {
      "cell_type": "code",
      "execution_count": null,
      "metadata": {
        "id": "RjQn8Y-FAUMs"
      },
      "outputs": [],
      "source": [
        "kaggle_competition_name = \"state-farm-distracted-driver-detection\"\n",
        "pluto.fetch_kaggle_comp_data(kaggle_competition_name)"
      ]
    },
    {
      "cell_type": "markdown",
      "source": [
        "## Quick view"
      ],
      "metadata": {
        "id": "PkNc5RNH-k7L"
      }
    },
    {
      "cell_type": "code",
      "execution_count": null,
      "metadata": {
        "id": "o4brCy6pHgBU"
      },
      "outputs": [],
      "source": [
        "# quick view one image\n",
        "f = 'state-farm-distracted-driver-detection/imgs/train/c0/img_100026.jpg'\n",
        "img = PIL.Image.open(f)\n",
        "display(img)"
      ]
    },
    {
      "cell_type": "markdown",
      "source": [
        "# Import to Pandas"
      ],
      "metadata": {
        "id": "LFwEBM-owqDU"
      }
    },
    {
      "cell_type": "code",
      "source": [
        "# %%writefile -a {pluto_chapter_2}\n",
        "\n",
        "@add_method(PacktDataAug)\n",
        "def fetch_df(self, csv,sep=','):\n",
        "  df = pandas.read_csv(csv, encoding='latin-1', sep=sep)\n",
        "  return df\n",
        "#\n",
        "@add_method(PacktDataAug)\n",
        "def _fetch_larger_font(self):\n",
        "  heading_properties = [('font-size', '20px')]\n",
        "  cell_properties = [('font-size', '18px')]\n",
        "  dfstyle = [dict(selector=\"th\", props=heading_properties),\n",
        "    dict(selector=\"td\", props=cell_properties)]\n",
        "  return dfstyle"
      ],
      "metadata": {
        "id": "jbz6nKN8SaqS"
      },
      "execution_count": null,
      "outputs": []
    },
    {
      "cell_type": "code",
      "execution_count": null,
      "metadata": {
        "id": "T4PtPK9yAUTO"
      },
      "outputs": [],
      "source": [
        "f = 'state-farm-distracted-driver-detection/driver_imgs_list.csv'\n",
        "pluto.df_sf_data = pluto.fetch_df(f)"
      ]
    },
    {
      "cell_type": "code",
      "source": [
        "# pluto.df_sf_data.tail(3)\n",
        "# larger fonts\n",
        "pluto.df_sf_data.tail(3).style.set_table_styles(pluto._fetch_larger_font())"
      ],
      "metadata": {
        "id": "RCQBHimuG7y3"
      },
      "execution_count": null,
      "outputs": []
    },
    {
      "cell_type": "code",
      "source": [
        "pluto.df_sf_data.describe()"
      ],
      "metadata": {
        "id": "V7eS4Svou-fJ"
      },
      "execution_count": null,
      "outputs": []
    },
    {
      "cell_type": "code",
      "execution_count": null,
      "metadata": {
        "id": "fds6nk64Q78Y"
      },
      "outputs": [],
      "source": [
        "# %%writefile -a {pluto_chapter_2}\n",
        "\n",
        "@add_method(PacktDataAug)\n",
        "def build_sf_fname(self, df):\n",
        "  root = 'state-farm-distracted-driver-detection/imgs/train/'\n",
        "  df[\"fname\"] = root + df.classname+'/'+df.img\n",
        "  return"
      ]
    },
    {
      "cell_type": "code",
      "execution_count": null,
      "metadata": {
        "id": "HNwTrfCGSPfz"
      },
      "outputs": [],
      "source": [
        "pluto.build_sf_fname(pluto.df_sf_data)"
      ]
    },
    {
      "cell_type": "code",
      "source": [
        "# pluto.df_sf_data.head(3)\n",
        "# use larger font\n",
        "pluto.df_sf_data.head(3).style.set_table_styles(pluto._fetch_larger_font())"
      ],
      "metadata": {
        "id": "0WJhKFR2JaTF"
      },
      "execution_count": null,
      "outputs": []
    },
    {
      "cell_type": "markdown",
      "source": [
        "- Verify the fname is correct"
      ],
      "metadata": {
        "id": "A5StcAzNE-W_"
      }
    },
    {
      "cell_type": "code",
      "source": [
        "img = PIL.Image.open(pluto.df_sf_data.fname[0])\n",
        "display(img)"
      ],
      "metadata": {
        "id": "P2oKH7i3u-h9"
      },
      "execution_count": null,
      "outputs": []
    },
    {
      "cell_type": "markdown",
      "metadata": {
        "id": "jPJDMqrwHhCR"
      },
      "source": [
        "# Draw the Images"
      ]
    },
    {
      "cell_type": "code",
      "execution_count": null,
      "metadata": {
        "id": "24Ow2g2SAUP8"
      },
      "outputs": [],
      "source": [
        "# %%writefile -a {pluto_chapter_2}\n",
        "\n",
        "# set internal counter for image to be zero, e.g. pluto0.jpg, pluto1.jpg, etc.\n",
        "pluto.fname_id = 0\n",
        "#\n",
        "@add_method(PacktDataAug)\n",
        "def _drop_image(self,canvas, fname=None,format=\".jpg\",dname=\"Data-Augmentation-with-Python/pluto_img\"):\n",
        "  if (fname is None):\n",
        "    self.fname_id += 1\n",
        "    if not os.path.exists(dname):\n",
        "      os.makedirs(dname)\n",
        "    fn = f'{dname}/pluto{self.fname_id}{format}'\n",
        "  else:\n",
        "    fn = fname\n",
        "  canvas.savefig(fn, cmap=\"Greys\", bbox_inches=\"tight\", pad_inches=0.25)\n",
        "  return\n",
        "#\n",
        "@add_method(PacktDataAug)\n",
        "def draw_batch(self,df_filenames, disp_max=10,is_shuffle=False, figsize=(16,8)):\n",
        "  disp_col = 5\n",
        "  disp_row = int(numpy.round((disp_max/disp_col)+0.4, 0))\n",
        "  _fns = list(df_filenames)\n",
        "  if (is_shuffle):\n",
        "    numpy.random.shuffle(_fns)\n",
        "  k = 0\n",
        "  clean_fns = []\n",
        "  if (len(_fns) >= disp_max):\n",
        "    canvas, pic = matplotlib.pyplot.subplots(disp_row,disp_col, figsize=figsize)\n",
        "    for i in range(disp_row):\n",
        "      for j in range(disp_col):\n",
        "        try:\n",
        "          im = PIL.Image.open(_fns[k])\n",
        "          pic[i][j].imshow(im)\n",
        "          pic[i][j].set_title(pathlib.Path(_fns[k]).name)\n",
        "          clean_fns.append(_fns[k])\n",
        "        except:\n",
        "          pic[i][j].set_title(pathlib.Path(_fns[k]).name)\n",
        "        k += 1\n",
        "    canvas.tight_layout()\n",
        "    self._drop_image(canvas)\n",
        "    canvas.show()\n",
        "  else:\n",
        "    print(\"**Warning: the length should be more then \", disp_max, \". The given length: \", len(_fns))\n",
        "  return clean_fns"
      ]
    },
    {
      "cell_type": "markdown",
      "source": [
        "## State Farm"
      ],
      "metadata": {
        "id": "xLpFNMbhosse"
      }
    },
    {
      "cell_type": "code",
      "execution_count": null,
      "metadata": {
        "id": "wBHg630AQ7-4"
      },
      "outputs": [],
      "source": [
        "x = pluto.draw_batch(pluto.df_sf_data[\"fname\"], is_shuffle=True)"
      ]
    },
    {
      "cell_type": "code",
      "execution_count": null,
      "metadata": {
        "id": "YDRAN9CMUPu_"
      },
      "outputs": [],
      "source": [
        "x = pluto.draw_batch(pluto.df_sf_data[\"fname\"], is_shuffle=True,disp_max=20,figsize=(18,14))"
      ]
    },
    {
      "cell_type": "markdown",
      "source": [
        "## Nike Shoe"
      ],
      "metadata": {
        "id": "vC6194qMFkjI"
      }
    },
    {
      "cell_type": "markdown",
      "source": [
        "- For Nike, Adidas and Converse Shoes Images"
      ],
      "metadata": {
        "id": "-twSheiJDcqw"
      }
    },
    {
      "cell_type": "code",
      "source": [
        "url = 'https://www.kaggle.com/datasets/die9origephit/nike-adidas-and-converse-imaged'\n",
        "pluto.fetch_kaggle_dataset(url)"
      ],
      "metadata": {
        "id": "976ioIMEDb14"
      },
      "execution_count": null,
      "outputs": []
    },
    {
      "cell_type": "code",
      "source": [
        "# %%writefile -a {pluto_chapter_2}\n",
        "\n",
        "@add_method(PacktDataAug)\n",
        "def build_shoe_fname(self, start_path):\n",
        "  df = pandas.DataFrame()\n",
        "  for root, dirs, files in os.walk(start_path, topdown=False):\n",
        "   for name in files:\n",
        "      f = os.path.join(root, name)\n",
        "      p = pathlib.Path(f).parent.name \n",
        "      d = pandas.DataFrame({'fname': [f], 'label': [p]})\n",
        "      df = df.append(d, ignore_index=True)\n",
        "  #\n",
        "  # clean it up\n",
        "  df = df.reset_index(drop=True)\n",
        "  return df\n",
        "#\n",
        "# create the same with a generic function name\n",
        "@add_method(PacktDataAug)\n",
        "def make_dir_dataframe(self, start_path):\n",
        "  return self.build_shoe_fname(start_path)"
      ],
      "metadata": {
        "id": "0YepsITDBCDO"
      },
      "execution_count": null,
      "outputs": []
    },
    {
      "cell_type": "code",
      "source": [
        "f = 'kaggle/nike-adidas-and-converse-imaged/train'\n",
        "pluto.df_shoe_data = pluto.build_shoe_fname(f)"
      ],
      "metadata": {
        "id": "pZd9PK8qBCGV"
      },
      "execution_count": null,
      "outputs": []
    },
    {
      "cell_type": "code",
      "source": [
        "# pluto.df_shoe_data.head(3)\n",
        "# use larger font\n",
        "pluto.df_shoe_data.head(3).style.set_table_styles(pluto._fetch_larger_font())"
      ],
      "metadata": {
        "id": "d6yQ9foxNQeU"
      },
      "execution_count": null,
      "outputs": []
    },
    {
      "cell_type": "code",
      "source": [
        "pluto.df_shoe_data.tail(3).style.set_table_styles(pluto._fetch_larger_font())"
      ],
      "metadata": {
        "id": "POnMlbypF6w6"
      },
      "execution_count": null,
      "outputs": []
    },
    {
      "cell_type": "code",
      "source": [
        "x = pluto.draw_batch(pluto.df_shoe_data[\"fname\"], is_shuffle=True)"
      ],
      "metadata": {
        "id": "5laIx-5CKHci"
      },
      "execution_count": null,
      "outputs": []
    },
    {
      "cell_type": "code",
      "source": [
        "x = pluto.draw_batch(pluto.df_shoe_data[\"fname\"], is_shuffle=True,disp_max=20,figsize=(18,14))"
      ],
      "metadata": {
        "id": "GttGBLD7KHgH"
      },
      "execution_count": null,
      "outputs": []
    },
    {
      "cell_type": "markdown",
      "source": [
        "## Grapevine Images"
      ],
      "metadata": {
        "id": "f5yepxXNXP1j"
      }
    },
    {
      "cell_type": "code",
      "execution_count": null,
      "metadata": {
        "id": "2-d5upIYAUGQ"
      },
      "outputs": [],
      "source": [
        "#\n",
        "%%time\n",
        "url = \"https://www.kaggle.com/datasets/muratkokludataset/grapevine-leaves-image-dataset\"\n",
        "pluto.fetch_kaggle_dataset(url)"
      ]
    },
    {
      "cell_type": "code",
      "source": [
        "!ls -la kaggle/grapevine-leaves-image-dataset/Grapevine_Leaves_Image_Dataset"
      ],
      "metadata": {
        "id": "ZdUXalz5B9YS"
      },
      "execution_count": null,
      "outputs": []
    },
    {
      "cell_type": "code",
      "source": [
        "f = 'kaggle/grapevine-leaves-image-dataset/Grapevine_Leaves_Image_Dataset/Ak'\n",
        "!ls -la {f} | head"
      ],
      "metadata": {
        "id": "FThHU_5ADbzJ"
      },
      "execution_count": null,
      "outputs": []
    },
    {
      "cell_type": "markdown",
      "source": [
        "- remove all space in file name"
      ],
      "metadata": {
        "id": "fPZl5lLPDtGk"
      }
    },
    {
      "cell_type": "code",
      "source": [
        "# run this until no error/output\n",
        "f2 = 'kaggle/grapevine-leaves-image-dataset/Grapevine_Leaves_Image_Dataset'\n",
        "!find {f2} -name \"* *\" -type f | rename 's/ /_/g'"
      ],
      "metadata": {
        "id": "DZix-nbeDb2q"
      },
      "execution_count": null,
      "outputs": []
    },
    {
      "cell_type": "code",
      "source": [
        "!ls -la {f} | head"
      ],
      "metadata": {
        "id": "iUBs0dnpEWo5"
      },
      "execution_count": null,
      "outputs": []
    },
    {
      "cell_type": "code",
      "source": [
        "f = 'kaggle/grapevine-leaves-image-dataset/Grapevine_Leaves_Image_Dataset/Grapevine_Leaves_Image_Dataset_Citation_Request.txt'\n",
        "!cat {f}"
      ],
      "metadata": {
        "id": "YJQS_NbQEWr_"
      },
      "execution_count": null,
      "outputs": []
    },
    {
      "cell_type": "code",
      "source": [
        "!mv {f} ."
      ],
      "metadata": {
        "id": "sGO0X1OdEWvL"
      },
      "execution_count": null,
      "outputs": []
    },
    {
      "cell_type": "markdown",
      "source": [
        "- The grapevine image structure is the same as the shoe image.\n",
        "  - folder name is the label\n",
        "  - the images are in their respected folder\n",
        "  - No csv file"
      ],
      "metadata": {
        "id": "xoV6Y9fiHyEQ"
      }
    },
    {
      "cell_type": "code",
      "source": [
        "f = 'kaggle/grapevine-leaves-image-dataset/Grapevine_Leaves_Image_Dataset'\n",
        "pluto.df_grapevine_data = pluto.build_shoe_fname(f)\n",
        "pluto.df_grapevine_data.head(3)"
      ],
      "metadata": {
        "id": "mu6R0JvDIyRQ"
      },
      "execution_count": null,
      "outputs": []
    },
    {
      "cell_type": "code",
      "source": [
        "x = pluto.draw_batch(pluto.df_grapevine_data[\"fname\"], is_shuffle=True)"
      ],
      "metadata": {
        "id": "-iy0Mqw4IyUk"
      },
      "execution_count": null,
      "outputs": []
    },
    {
      "cell_type": "code",
      "source": [
        "x = pluto.draw_batch(pluto.df_grapevine_data[\"fname\"], is_shuffle=True,disp_max=20,figsize=(18,14))"
      ],
      "metadata": {
        "id": "bESehTZcIyYd"
      },
      "execution_count": null,
      "outputs": []
    },
    {
      "cell_type": "markdown",
      "source": [
        "## Monkeypox (optional for Notebook only)"
      ],
      "metadata": {
        "id": "X8RpBwppEPjJ"
      }
    },
    {
      "cell_type": "markdown",
      "source": [
        "- Uncoment before run."
      ],
      "metadata": {
        "id": "ivVgADDcSwNc"
      }
    },
    {
      "cell_type": "code",
      "source": [
        "# # quick view one image\n",
        "# f = 'kaggle/monkeypox-skin-lesion-dataset/Original Images/Original Images/Monkey Pox/M01_03.jpg'\n",
        "# img = PIL.Image.open(f)\n",
        "# display(img)"
      ],
      "metadata": {
        "id": "YzukIrKQRJP-"
      },
      "execution_count": null,
      "outputs": []
    },
    {
      "cell_type": "code",
      "source": [
        "# f = 'kaggle/monkeypox-skin-lesion-dataset/Augmented Images/Augmented Images/Monkeypox_augmented/M01_01_02.jpg'\n",
        "# img = PIL.Image.open(f)\n",
        "# display(img)"
      ],
      "metadata": {
        "id": "j8T7j5fQR10j"
      },
      "execution_count": null,
      "outputs": []
    },
    {
      "cell_type": "code",
      "source": [
        "# f = 'kaggle/monkeypox-skin-lesion-dataset/Monkeypox_Dataset_metadata.csv'\n",
        "# pluto.df_monkey_data = pluto.fetch_df(f)\n",
        "# pluto.df_monkey_data.tail(3)"
      ],
      "metadata": {
        "id": "2zF8CDztXOpq"
      },
      "execution_count": null,
      "outputs": []
    },
    {
      "cell_type": "markdown",
      "source": [
        "- Run this until No error\n",
        "- 3 times for monkeypox "
      ],
      "metadata": {
        "id": "7VW1NkFIaKeZ"
      }
    },
    {
      "cell_type": "code",
      "execution_count": null,
      "metadata": {
        "id": "94zilgGnUP4U"
      },
      "outputs": [],
      "source": [
        "# !find . -name \"* *\" -type d | rename 's/ /_/g'"
      ]
    },
    {
      "cell_type": "code",
      "execution_count": null,
      "metadata": {
        "id": "Jvj_VTTTUP1l"
      },
      "outputs": [],
      "source": [
        "# # %write -a {pluto_chapter_2}\n",
        "\n",
        "# @add_method(PacktDataAug)\n",
        "# def build_monkey_fname(self, df):\n",
        "#   url_monkey = 'kaggle/monkeypox-skin-lesion-dataset/Original_Images/Original_Images/Monkey_Pox/'\n",
        "#   url_other = 'kaggle/monkeypox-skin-lesion-dataset/Original_Images/Original_Images/Others/'\n",
        "#   df[\"fname\"] = url_monkey + df.ImageID + \".jpg\"\n",
        "#   # quick replace other\n",
        "#   df.loc[df['Label'] == 'Non Monkeypox', 'fname'] = url_other + df.ImageID + \".jpg\"\n",
        "#   return\n"
      ]
    },
    {
      "cell_type": "code",
      "source": [
        "# pluto.build_monkey_fname(pluto.df_monkey_data)\n",
        "# pluto.df_monkey_data.head(3)"
      ],
      "metadata": {
        "id": "6SzJwXD8-4Vc"
      },
      "execution_count": null,
      "outputs": []
    },
    {
      "cell_type": "code",
      "source": [
        "# pluto.df_monkey_data.tail(3)"
      ],
      "metadata": {
        "id": "y1vUEyMk_HlV"
      },
      "execution_count": null,
      "outputs": []
    },
    {
      "cell_type": "markdown",
      "source": [
        "- Draw it"
      ],
      "metadata": {
        "id": "TSHn4pBvBDd6"
      }
    },
    {
      "cell_type": "code",
      "source": [
        "# x = pluto.draw_batch(pluto.df_monkey_data[\"fname\"], is_shuffle=True)"
      ],
      "metadata": {
        "id": "jzPx3_93BCAY"
      },
      "execution_count": null,
      "outputs": []
    },
    {
      "cell_type": "code",
      "source": [
        "# x = pluto.draw_batch(pluto.df_monkey_data[\"fname\"], is_shuffle=True,disp_max=20,figsize=(18,14))"
      ],
      "metadata": {
        "id": "qhLRWfp8FfZh"
      },
      "execution_count": null,
      "outputs": []
    },
    {
      "cell_type": "markdown",
      "source": [
        "# NLP (Text) data"
      ],
      "metadata": {
        "id": "L-VcqVraHmUD"
      }
    },
    {
      "cell_type": "markdown",
      "source": [
        "## NetFlix"
      ],
      "metadata": {
        "id": "62oZJxvUv14r"
      }
    },
    {
      "cell_type": "code",
      "source": [
        "%%time\n",
        "url = 'https://www.kaggle.com/datasets/infamouscoder/dataset-netflix-shows'\n",
        "pluto.fetch_kaggle_dataset(url)"
      ],
      "metadata": {
        "id": "GxTEQAe3NLk_"
      },
      "execution_count": null,
      "outputs": []
    },
    {
      "cell_type": "code",
      "source": [
        "f = 'kaggle/dataset-netflix-shows/netflix_titles.csv'\n",
        "pluto.df_netflix_data = pluto.fetch_df(f)\n",
        "#pluto.df_netflix_data.head(3)"
      ],
      "metadata": {
        "id": "dULyUTA5NLv5"
      },
      "execution_count": null,
      "outputs": []
    },
    {
      "cell_type": "code",
      "source": [
        "# %%writefile -a {pluto_chapter_2}\n",
        "\n",
        "@add_method(PacktDataAug)\n",
        "def print_batch_text(self,df_orig, disp_max=6, cols=[\"title\", \"description\"],is_larger_font=True): \n",
        "  df = df_orig[cols] \n",
        "  with pandas.option_context(\"display.max_colwidth\", None):\n",
        "    if (is_larger_font):\n",
        "      display(df.sample(disp_max).style.set_table_styles(self._fetch_larger_font()))\n",
        "    else:\n",
        "      display(df.sample(disp_max))\n",
        "  return\n"
      ],
      "metadata": {
        "id": "y1AqoWw8W9WL"
      },
      "execution_count": null,
      "outputs": []
    },
    {
      "cell_type": "markdown",
      "source": [
        "- Show table in three part for book  "
      ],
      "metadata": {
        "id": "xAAtoTx7ET5V"
      }
    },
    {
      "cell_type": "code",
      "source": [
        "pluto.print_batch_text(pluto.df_netflix_data.head(3),\n",
        "  disp_max=3,\n",
        "  cols=['show_id', 'type','title','director','cast'])"
      ],
      "metadata": {
        "id": "nuPQ1xbNFH5G"
      },
      "execution_count": null,
      "outputs": []
    },
    {
      "cell_type": "code",
      "source": [
        "pluto.print_batch_text(pluto.df_netflix_data.head(3),\n",
        "  disp_max=3,\n",
        "  cols=['country', 'date_added','release_year','rating'])"
      ],
      "metadata": {
        "id": "-IU9lhl4FkV8"
      },
      "execution_count": null,
      "outputs": []
    },
    {
      "cell_type": "code",
      "source": [
        "#pluto.df_netflix_data.head(3)[['duration', 'listed_in','description']].style.set_table_styles(pluto._fetch_larger_font())\n",
        "pluto.print_batch_text(pluto.df_netflix_data.head(3),\n",
        "  disp_max=3,\n",
        "  cols=['duration', 'listed_in','description'])"
      ],
      "metadata": {
        "id": "T4b4QdarO0ba"
      },
      "execution_count": null,
      "outputs": []
    },
    {
      "cell_type": "code",
      "source": [
        "#print(pluto.df_netflix_data.description[0])"
      ],
      "metadata": {
        "id": "3yMBi-uKNLzU"
      },
      "execution_count": null,
      "outputs": []
    },
    {
      "cell_type": "code",
      "source": [
        "pluto.print_batch_text(pluto.df_netflix_data)"
      ],
      "metadata": {
        "id": "52RkujJwu8cV"
      },
      "execution_count": null,
      "outputs": []
    },
    {
      "cell_type": "code",
      "source": [
        "# %%writefile -a {pluto_chapter_2}\n",
        "\n",
        "@add_method(PacktDataAug)\n",
        "def count_word(self, df, col_dest=\"description\"):\n",
        "  df['wordc'] = df[col_dest].apply(lambda x: len(x.split()))\n",
        "  return"
      ],
      "metadata": {
        "id": "aAvOL1kSZ57w"
      },
      "execution_count": null,
      "outputs": []
    },
    {
      "cell_type": "code",
      "source": [
        "pluto.count_word(pluto.df_netflix_data)\n",
        "# pluto.df_netflix_data.head()\n",
        "pluto.print_batch_text(pluto.df_netflix_data,cols=['description','wordc'])"
      ],
      "metadata": {
        "id": "cmSKV0gQZ6mn"
      },
      "execution_count": null,
      "outputs": []
    },
    {
      "cell_type": "code",
      "source": [
        "# %%writefile -a {pluto_chapter_2}\n",
        "\n",
        "@add_method(PacktDataAug)\n",
        "def draw_word_count(self,df, wc='wordc',is_stack_verticle=True):\n",
        "  if (is_stack_verticle):\n",
        "    canvas, pic = matplotlib.pyplot.subplots(2,1, figsize=(8,10))\n",
        "  else:\n",
        "    canvas, pic = matplotlib.pyplot.subplots(1,2, figsize=(16,5))\n",
        "  df.boxplot(ax=pic[0],column=[wc],vert=False,color=\"black\")\n",
        "  df[wc].hist(ax=pic[1], color=\"cornflowerblue\", alpha=0.9)\n",
        "  #\n",
        "  title=[\"Description BoxPlot\", \"Description Histogram\"]\n",
        "  yaxis=[\"Description\", \"Stack\"]\n",
        "  x1 = f'Word Count: Mean: {df[wc].mean():0.2f}, Min: {df[wc].min()}, Max: {df[wc].max()}'\n",
        "  xaxis=[x1, \"Word Count\"]\n",
        "  #\n",
        "  pic[0].set_title(title[0], fontweight =\"bold\")\n",
        "  pic[1].set_title(title[1], fontweight =\"bold\")\n",
        "  pic[0].set_ylabel(yaxis[0])\n",
        "  pic[1].set_ylabel(yaxis[1])\n",
        "  pic[0].set_xlabel(xaxis[0])\n",
        "  pic[1].set_xlabel(xaxis[1])\n",
        "  #\n",
        "  canvas.tight_layout()\n",
        "  self._drop_image(canvas)\n",
        "  # \n",
        "  canvas.show()\n",
        "  return"
      ],
      "metadata": {
        "id": "acjTlcQSdV8b"
      },
      "execution_count": null,
      "outputs": []
    },
    {
      "cell_type": "code",
      "source": [
        "pluto.draw_word_count(pluto.df_netflix_data, is_stack_verticle=False)"
      ],
      "metadata": {
        "id": "yT6sgrOggfmJ"
      },
      "execution_count": null,
      "outputs": []
    },
    {
      "cell_type": "code",
      "source": [
        "pluto.draw_word_count(pluto.df_netflix_data)"
      ],
      "metadata": {
        "id": "MXJLBhwdtbGl"
      },
      "execution_count": null,
      "outputs": []
    },
    {
      "cell_type": "markdown",
      "source": [
        "## Spell checker"
      ],
      "metadata": {
        "id": "Se_OcR7cWc8p"
      }
    },
    {
      "cell_type": "code",
      "source": [
        "# %%CARRY-OVER code install\n",
        "\n",
        "!pip install pyspellchecker "
      ],
      "metadata": {
        "id": "fCygEQbLWbj6"
      },
      "execution_count": null,
      "outputs": []
    },
    {
      "cell_type": "code",
      "source": [
        "# %%writefile -a {pluto_chapter_2}\n",
        "\n",
        "import re\n",
        "import spellchecker\n",
        "@add_method(PacktDataAug)\n",
        "def _strip_punc(self,s):\n",
        "  p = re.sub(r'[^\\w\\s]','',s)\n",
        "  return(p)\n",
        "#\n",
        "@add_method(PacktDataAug)\n",
        "def check_spelling(self,df, col_dest='description'):\n",
        "  spell = spellchecker.SpellChecker()\n",
        "  df[\"misspelled\"] = df[col_dest].apply(lambda x: spell.unknown(self._strip_punc(x).split()))\n",
        "  df[\"misspelled_count\"] = df[\"misspelled\"].apply(lambda x: len(x))\n",
        "  return"
      ],
      "metadata": {
        "id": "4D-0hhx0WbnA"
      },
      "execution_count": null,
      "outputs": []
    },
    {
      "cell_type": "code",
      "source": [
        "pluto._pp(\"Required version 0.7+\", spellchecker.__version__)"
      ],
      "metadata": {
        "id": "-kEGGHiHG7Xu"
      },
      "execution_count": null,
      "outputs": []
    },
    {
      "cell_type": "code",
      "source": [
        "pluto.check_spelling(pluto.df_netflix_data)"
      ],
      "metadata": {
        "id": "stTJxEYWWbqT"
      },
      "execution_count": null,
      "outputs": []
    },
    {
      "cell_type": "code",
      "source": [
        "pluto.print_batch_text(pluto.df_netflix_data,cols=['description', 'misspelled'])"
      ],
      "metadata": {
        "id": "UnplTCzBbJHU"
      },
      "execution_count": null,
      "outputs": []
    },
    {
      "cell_type": "code",
      "source": [
        "pluto.draw_word_count(pluto.df_netflix_data,wc='misspelled_count')"
      ],
      "metadata": {
        "id": "r4XDpkifbJKi"
      },
      "execution_count": null,
      "outputs": []
    },
    {
      "cell_type": "markdown",
      "source": [
        "## Amazon review"
      ],
      "metadata": {
        "id": "hTrkXuUUX8bS"
      }
    },
    {
      "cell_type": "code",
      "source": [
        "%%time\n",
        "url = 'https://www.kaggle.com/datasets/tarkkaanko/amazon'\n",
        "pluto.fetch_kaggle_dataset(url)"
      ],
      "metadata": {
        "id": "sqcBOQJSX7XG"
      },
      "execution_count": null,
      "outputs": []
    },
    {
      "cell_type": "code",
      "source": [
        "f = 'kaggle/amazon/amazon_reviews.csv'\n",
        "pluto.df_amazon_data = pluto.fetch_df(f)\n",
        "pluto.df_amazon_data.head(3)"
      ],
      "metadata": {
        "id": "Qze-n7Q6X7aS"
      },
      "execution_count": null,
      "outputs": []
    },
    {
      "cell_type": "code",
      "source": [
        "# there is a \"nan\" in the amazon data, so drop/delete it.\n",
        "pluto.df_amazon_data = pluto.df_amazon_data.dropna()"
      ],
      "metadata": {
        "id": "mHPoeB93HAER"
      },
      "execution_count": null,
      "outputs": []
    },
    {
      "cell_type": "code",
      "source": [
        "pluto.check_spelling(pluto.df_amazon_data,col_dest='reviewText')"
      ],
      "metadata": {
        "id": "eB6OwxXmdvQb"
      },
      "execution_count": null,
      "outputs": []
    },
    {
      "cell_type": "code",
      "source": [
        "pluto.print_batch_text(pluto.df_amazon_data, cols=['reviewText','misspelled'])"
      ],
      "metadata": {
        "id": "PkZewkTTX7d_"
      },
      "execution_count": null,
      "outputs": []
    },
    {
      "cell_type": "code",
      "source": [
        "pluto.count_word(pluto.df_amazon_data,col_dest='reviewText')"
      ],
      "metadata": {
        "id": "KKzQYshSX7kN"
      },
      "execution_count": null,
      "outputs": []
    },
    {
      "cell_type": "code",
      "source": [
        "pluto.draw_word_count(pluto.df_amazon_data)"
      ],
      "metadata": {
        "id": "CNA2t2UdHfGc"
      },
      "execution_count": null,
      "outputs": []
    },
    {
      "cell_type": "code",
      "source": [
        "pluto.draw_word_count(pluto.df_amazon_data, wc='misspelled_count')"
      ],
      "metadata": {
        "id": "KOIXZwOkedAU"
      },
      "execution_count": null,
      "outputs": []
    },
    {
      "cell_type": "code",
      "source": [
        "# end of chapter 2\n",
        "print('End of chapter 2')"
      ],
      "metadata": {
        "id": "B1EShKkLVpWL"
      },
      "execution_count": null,
      "outputs": []
    },
    {
      "cell_type": "markdown",
      "source": [
        "# Push up all changes (optional)"
      ],
      "metadata": {
        "id": "LEj7fgaIN9_S"
      }
    },
    {
      "cell_type": "markdown",
      "source": [
        "- username: [use your name or email]\n",
        "\n",
        "- password: [use the token]"
      ],
      "metadata": {
        "id": "lHXRf21BT9N8"
      }
    },
    {
      "cell_type": "code",
      "source": [
        "# import os\n",
        "# f = 'Data-Augmentation-with-Python'\n",
        "# os.chdir(f)\n",
        "# !git add -A\n",
        "# !git config --global user.email \"duc.haba@gmail.com\"\n",
        "# !git config --global user.name \"duchaba\"\n",
        "# !git commit -m \"end of session\"\n",
        "# #do the git push in the xterm console\n",
        "# #!git push"
      ],
      "metadata": {
        "id": "eSXJKJFlOEeE"
      },
      "execution_count": null,
      "outputs": []
    },
    {
      "cell_type": "markdown",
      "metadata": {
        "id": "EzO7lDYDWeLz"
      },
      "source": [
        "# Summary"
      ]
    },
    {
      "cell_type": "markdown",
      "metadata": {
        "id": "X2iUPf3EWePd"
      },
      "source": [
        "Every chaper will begin with same base class \"PacktDataAug\".\n",
        "\n",
        "✋ FAIR WARNING:\n",
        "\n",
        "- The coding uses long and complete function path name.\n",
        "\n",
        "- I wrote the code for easy to understand and not for compactness, fast execution, nor cleaverness.\n",
        "\n"
      ]
    },
    {
      "cell_type": "code",
      "source": [
        "# !pip install colab-xterm\n",
        "# %load_ext colabxterm\n",
        "# %xterm"
      ],
      "metadata": {
        "id": "vXRG3KaeWbGx"
      },
      "execution_count": null,
      "outputs": []
    }
  ],
  "metadata": {
    "accelerator": "GPU",
    "colab": {
      "provenance": [],
      "authorship_tag": "ABX9TyOCKRjIV1WBzvCeqW9gwOq+",
      "include_colab_link": true
    },
    "gpuClass": "standard",
    "kernelspec": {
      "display_name": "Python 3",
      "name": "python3"
    },
    "language_info": {
      "name": "python"
    }
  },
  "nbformat": 4,
  "nbformat_minor": 0
}