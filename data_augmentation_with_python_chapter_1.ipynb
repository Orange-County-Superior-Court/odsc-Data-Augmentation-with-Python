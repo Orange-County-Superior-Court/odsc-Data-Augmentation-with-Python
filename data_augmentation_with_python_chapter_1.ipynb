{
  "nbformat": 4,
  "nbformat_minor": 0,
  "metadata": {
    "colab": {
      "provenance": [],
      "authorship_tag": "ABX9TyP/ew1Uv62mJHN1xFzV2pd8",
      "include_colab_link": true
    },
    "kernelspec": {
      "name": "python3",
      "display_name": "Python 3"
    },
    "language_info": {
      "name": "python"
    },
    "accelerator": "GPU",
    "gpuClass": "standard"
  },
  "cells": [
    {
      "cell_type": "markdown",
      "metadata": {
        "id": "view-in-github",
        "colab_type": "text"
      },
      "source": [
        "<a href=\"https://colab.research.google.com/github/duchaba/Data-Augmentation-with-Python/blob/main/data_augmentation_with_python_chapter_1.ipynb\" target=\"_parent\"><img src=\"https://colab.research.google.com/assets/colab-badge.svg\" alt=\"Open In Colab\"/></a>"
      ]
    },
    {
      "cell_type": "markdown",
      "source": [
        "# Data Augmentation with Python, Chapter 1"
      ],
      "metadata": {
        "id": "qtnHR_uG0m7Z"
      }
    },
    {
      "cell_type": "markdown",
      "source": [
        "## 🌻 Welcome to Chapter 1, section Programing Style and Pluto\n",
        "\n",
        "  - GitHub access \n",
        "\n",
        "  - Object-Oriented \n",
        "\n",
        "  - Full library variable name \n",
        "\n",
        "  - Export to pure Python code \n",
        "\n",
        "  - Coding companion "
      ],
      "metadata": {
        "id": "a5EqgaYW08Cm"
      }
    },
    {
      "cell_type": "markdown",
      "source": [
        "## GitHub Access (from Collab)"
      ],
      "metadata": {
        "id": "0Mo-idJS3eDh"
      }
    },
    {
      "cell_type": "markdown",
      "source": [
        "1. From the Colab menu, click on \"File\"\n",
        "\n",
        "1. Select \"Open Notebook\"\n",
        "\n",
        "1. Click on \"GitHub\" tab\n",
        "\n",
        "1. Enter \"https://github.com/PacktPublishing/data-augmentation-with-python\" in the \"Repository\" field. \n",
        "\n",
        "1. You should see all Notebooks available."
      ],
      "metadata": {
        "id": "hJ6ydtag4Nvc"
      }
    },
    {
      "cell_type": "markdown",
      "source": [
        "## Object-Oriented"
      ],
      "metadata": {
        "id": "ukspBUMp4N97"
      }
    },
    {
      "cell_type": "code",
      "source": [
        "# git version should be 2.17.1 or higher\n",
        "!git --version"
      ],
      "metadata": {
        "id": "AEoYuTg6y1YN"
      },
      "execution_count": null,
      "outputs": []
    },
    {
      "cell_type": "code",
      "source": [
        "# url = 'https://github.com/duchaba/Data-Augmentation-with-Python'  # for testing: remove after the book is finished.\n",
        "\n",
        "url = 'https://github.com/PacktPublishing/Data-Augmentation-with-Python'\n",
        "!git clone {url}"
      ],
      "metadata": {
        "id": "BgGgEP3SytI4"
      },
      "execution_count": null,
      "outputs": []
    },
    {
      "cell_type": "code",
      "source": [
        "pluto_chapter_1 = '/content/Data-Augmentation-with-Python/pluto/pluto_chapter_1.py'"
      ],
      "metadata": {
        "id": "pibFWfy-0w5z"
      },
      "execution_count": null,
      "outputs": []
    },
    {
      "cell_type": "code",
      "execution_count": null,
      "metadata": {
        "id": "F7hGhKAE0bmh"
      },
      "outputs": [],
      "source": [
        "# %%writefile {pluto_chapter_1}\n",
        "\n",
        "# create an object\n",
        "# First, importing the basic library\n",
        "import torch\n",
        "import pandas\n",
        "import numpy\n",
        "import matplotlib\n",
        "import pathlib\n",
        "import PIL\n",
        "import datetime\n",
        "import sys\n",
        "import psutil\n",
        "# create class/object \n",
        "class PacktDataAug(object):\n",
        "  #\n",
        "  # initialize the object\n",
        "  def __init__(self, name=\"Pluto\", is_verbose=True,*args, **kwargs):\n",
        "    super(PacktDataAug, self).__init__(*args, **kwargs)\n",
        "    self.author = \"Duc Haba\"\n",
        "    self.version = 1.0\n",
        "    self.name = name\n",
        "    if (is_verbose):\n",
        "      self._ph()\n",
        "      self._pp(\"Hello from class\", f\"{self.__class__} Class: {self.__class__.__name__}\")\n",
        "      self._pp(\"Code name\", self.name)\n",
        "      self._pp(\"Author is\", self.author)\n",
        "      self._ph()\n",
        "    #\n",
        "    return\n",
        "  #\n",
        "  # pretty print output name-value line\n",
        "  def _pp(self, a, b):\n",
        "    print(\"%28s : %s\" % (str(a), str(b)))\n",
        "    return\n",
        "  #\n",
        "  # pretty print the header or footer lines\n",
        "  def _ph(self):\n",
        "    print(\"-\" * 28, \":\", \"-\" * 28)\n",
        "    return\n",
        "# ---end of class\n",
        "#\n",
        "# Hack it! Add new decorator\n",
        "# add_method() is inspired Michael Garod's blog, \n",
        "# AND correction by: Филя Усков\n",
        "#\n",
        "import functools\n",
        "def add_method(x):\n",
        "  def dec(z):\n",
        "    @functools.wraps(z) \n",
        "    def y(*args, **kwargs): \n",
        "      return z(*args, **kwargs)\n",
        "    setattr(x, z.__name__, y)\n",
        "    return z \n",
        "  return dec\n",
        "#"
      ]
    },
    {
      "cell_type": "markdown",
      "source": [
        "- Instantiate your [pluto] coding companion."
      ],
      "metadata": {
        "id": "tibZw65iC9lx"
      }
    },
    {
      "cell_type": "code",
      "source": [
        "# %%writefile -a {pluto_chapter_1}\n",
        "\n",
        "pluto = PacktDataAug(\"Pluto\")"
      ],
      "metadata": {
        "id": "rtOsxJVNC8AV"
      },
      "execution_count": null,
      "outputs": []
    },
    {
      "cell_type": "code",
      "source": [
        "# %%writefile -a {pluto_chapter_1}\n",
        "\n",
        "@add_method(PacktDataAug)\n",
        "def say_sys_info(self):\n",
        "  self._ph()\n",
        "  now = datetime.datetime.now()\n",
        "  self._pp(\"System time\", now.strftime(\"%Y/%m/%d %H:%M\"))\n",
        "  self._pp(\"Platform\", sys.platform)\n",
        "  self._pp(\"Pluto Version (Chapter)\", self.version)\n",
        "  v = sys.version.replace('\\n', '')\n",
        "  self._pp(\"Python (3.7.10)\", f'actual: {v}')\n",
        "  self._pp(\"PyTorch (1.11.0)\", f'actual: {torch.__version__}')\n",
        "  self._pp(\"Pandas (1.3.5)\", f'actual: {pandas.__version__}')\n",
        "  self._pp(\"PIL (9.0.0)\", f'actual: {PIL.__version__}')\n",
        "  self._pp(\"Matplotlib (3.2.2)\", f'actual: {matplotlib.__version__}')\n",
        "  #\n",
        "  try:\n",
        "    val = psutil.cpu_count()\n",
        "    self._pp(\"CPU count\", val)\n",
        "    val = psutil.cpu_freq()\n",
        "    if (None != val):\n",
        "      val = val._asdict()\n",
        "      self._pp(\"CPU speed\",  f'{val[\"current\"]/1000:.2f} GHz')\n",
        "      self._pp(\"CPU max speed\", f'{val[\"max\"]/1000:.2f} GHz') \n",
        "    else:\n",
        "      self._pp(\"*CPU speed\", \"NOT available\")\n",
        "  except:\n",
        "    pass\n",
        "  self._ph()\n",
        "  return"
      ],
      "metadata": {
        "id": "eaYZdpesv7_V"
      },
      "execution_count": null,
      "outputs": []
    },
    {
      "cell_type": "code",
      "source": [
        "pluto.say_sys_info()"
      ],
      "metadata": {
        "id": "ZeTJo-9-Lrv1"
      },
      "execution_count": null,
      "outputs": []
    },
    {
      "cell_type": "code",
      "source": [
        "# end of chapter 1"
      ],
      "metadata": {
        "id": "FWpmCx6sJiFg"
      },
      "execution_count": null,
      "outputs": []
    },
    {
      "cell_type": "markdown",
      "source": [
        "## Export to pure Python code (Optional)"
      ],
      "metadata": {
        "id": "9t1NqPdsR6kS"
      }
    },
    {
      "cell_type": "markdown",
      "source": [
        "- Add the \"%%writefile your_file_name.py\" to the first code cell that you want export\n",
        "\n",
        "- Add the \"%%writefile -a your_file_name.py\" (-a is for append) to the code cells that you want to export.\n",
        "\n",
        "- Make it a comment when you using the code cells normally.\n",
        "\n",
        "- Uncommend the \"%%writefile\" and run each code cells to export the file."
      ],
      "metadata": {
        "id": "ajnizD18R6vm"
      }
    },
    {
      "cell_type": "markdown",
      "source": [
        "## Push up all changes (Optional)"
      ],
      "metadata": {
        "id": "LEj7fgaIN9_S"
      }
    },
    {
      "cell_type": "markdown",
      "source": [
        "- username: [your github username or email]\n",
        "\n",
        "- password: [use github token]"
      ],
      "metadata": {
        "id": "lHXRf21BT9N8"
      }
    },
    {
      "cell_type": "code",
      "source": [
        "# import os\n",
        "# f = 'Data-Augmentation-with-Python'\n",
        "# os.chdir(f)\n",
        "# !git add -A\n",
        "# !git config --global user.email \"duc.haba@gmail.com\"\n",
        "# !git config --global user.name \"duchaba\"\n",
        "# !git commit -m \"end of session\"\n"
      ],
      "metadata": {
        "id": "eSXJKJFlOEeE"
      },
      "execution_count": null,
      "outputs": []
    },
    {
      "cell_type": "code",
      "source": [
        "# end of chapter 1\n",
        "print('End of chapter 1')"
      ],
      "metadata": {
        "id": "zeFM8XUHc1c7"
      },
      "execution_count": null,
      "outputs": []
    },
    {
      "cell_type": "markdown",
      "source": [
        "## Summary"
      ],
      "metadata": {
        "id": "EzO7lDYDWeLz"
      }
    },
    {
      "cell_type": "markdown",
      "source": [
        "Every chaper will begin with same base class \"PacktDataAug\".\n",
        "\n",
        "✋ FAIR WARNING:\n",
        "\n",
        "- The coding uses long and complete function path name.\n",
        "\n",
        "- I wrote the code for easy to understand and not for compactness, fast execution, nor cleaverness.\n",
        "\n"
      ],
      "metadata": {
        "id": "X2iUPf3EWePd"
      }
    },
    {
      "cell_type": "code",
      "source": [
        "# # do the git push in the xterm console\n",
        "# #!git push\n",
        "\n",
        "# !pip install colab-xterm\n",
        "# %load_ext colabxterm\n",
        "# %xterm"
      ],
      "metadata": {
        "id": "s2MlGMMzz4mS"
      },
      "execution_count": null,
      "outputs": []
    }
  ]
}