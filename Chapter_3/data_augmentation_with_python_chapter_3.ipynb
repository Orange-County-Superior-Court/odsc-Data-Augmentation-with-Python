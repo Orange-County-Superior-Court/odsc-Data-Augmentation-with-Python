{
  "cells": [
    {
      "cell_type": "markdown",
      "metadata": {
        "id": "view-in-github",
        "colab_type": "text"
      },
      "source": [
        "<a href=\"https://colab.research.google.com/github/duchaba/Data-Augmentation-with-Python/blob/main/data_augmentation_with_python_chapter_3.ipynb\" target=\"_parent\"><img src=\"https://colab.research.google.com/assets/colab-badge.svg\" alt=\"Open In Colab\"/></a>"
      ]
    },
    {
      "cell_type": "markdown",
      "metadata": {
        "id": "a5EqgaYW08Cm"
      },
      "source": [
        "# 🌻 Welcome to Chapter 3, Image Augmentation for Classification\n",
        "\n",
        "\n",
        "---\n",
        "\n",
        "I am glad to see you using this Python Notebook. 🐶\n",
        "\n",
        "The Python Notebook is an integral part of the book. You can add new “code cells” to extend the functions, add your data, and explore new possibilities, such as downloading additional real-world datasets from the Kaggle website and coding the **Fun challenges**. Furthermore, the book has **Fun facts**, in-depth discussion about augmentation techniques, and Pluto, an imaginary Siberian Huskey coding companion. Together they will guide you every steps of the way. \n",
        "\n",
        "Pluto encourages you to copy or save a copy of this Python Notebook to your local space and add the “text cells” to keep your notes. In other words, read the book and copy the relevant concept to this Python Notebook’s text-cells. Thus, you can have the explanation, note, original code, your code, and any crazy future ideas in one place.  \n",
        "\n",
        "\n",
        "💗 I hope you enjoy reading the book and hacking code as much as I enjoy writing it. \n",
        "\n",
        "\n",
        "## 🌟 Amazon Book\n",
        "\n",
        "---\n",
        "\n",
        "- The book is available on the Amazon Book website: \n",
        "  - https://www.amazon.com/dp/1803246456\n",
        "\n",
        "  - Author: Duc Haba\n",
        "  - Published: 2023\n",
        "  - Page count: 390+\n",
        "\n",
        "\n",
        "- The original Python Notebook is on: \n",
        "  - https://github.com/PacktPublishing/Data-Augmentation-with-Python/blob/main/Chapter_3/data_augmentation_with_python_chapter_3.ipynb \n",
        "\n",
        "- 🚀 Click on the blue \"Open in Colab\" button at the top of this page to begin hacking.\n",
        "\n"
      ]
    },
    {
      "cell_type": "markdown",
      "metadata": {
        "id": "ukspBUMp4N97"
      },
      "source": [
        "# 😀 Excerpt from Chapter 3, Image Augmentation for Classification\n",
        "\n",
        "---\n",
        "\n",
        "> In case you haven’t bought the book. Here is an teaser from the first page of Chapter 3.\n",
        "\n",
        "---\n",
        "\n",
        "Image augmentation in machine learning (ML) is a stable diet for increasing prediction accuracy, especially for the image classification domain. The causality logic is linear, meaning the more robust the data input, the higher the forecast accuracy.  \n",
        "\n",
        "Deep learning (DL) is a subset of ML that uses artificial neural networks to learn patterns and forecast based on the input data. Unlike traditional ML algorithms, which depend on programmer coding and rules to analyze data, DL algorithms automatically learn, solve, and categorize the relationship between data and labels. Thus, expanding the datasets directly impacts DL predictions on new insights that it has not seen in the training data. \n",
        "\n",
        "DL algorithms are designed to mimic the human brain, with layers of neurons that process information and pass it on to the next layer. Each layer of neurons learns to extract increasingly complex features from the input data, allowing the network to identify patterns and make predictions with increasing accuracy. \n",
        "\n",
        "DL for image classification has proven highly effective in various industries, ranging from healthcare, finance, transportation, and consumer products to social media. Some examples include identifying 120 dog breeds, detecting cervical spine fractures, cataloging landmarks, classifying Nike shoes, spotting celebrity faces, and separating paper and plastic for recycling.  \n",
        "\n",
        "There is no standard formula to estimate how many images you need to achieve a designer prediction accuracy for image classification. Acquiring additional photos may not be a viable option because of cost and time. On the other hand, image data augmentation is a cost-effective technique that increases the number of photos for image classification training.  \n",
        "\n",
        "This chapter consists of two parts. First, you will learn the concepts and techniques of augmentation for image classification, followed by hands-on Python coding and a detailed explanation of the image augmentation techniques.  \n",
        "\n",
        "---\n",
        "\n",
        "Fun fact \n",
        "\n",
        "---\n",
        "\n",
        "The image dataset is typically broken into 75% training, 20% validation, and 5% testing in the image classification model. Typically, the images allotted for training are augmented but outside the validation and testing set.  \n",
        "\n",
        "---\n",
        "\n",
        "\n",
        "The two primary approaches for image augmentation are pre-processing and dynamic. They share the same techniques but differ when augmentation is done. The pre-processing method creates and saves the augmented photos in disk storage before training, while the dynamic method expands the input images during the training cycle.  \n",
        "\n",
        "In Chapter 2, you learned about data biases, and it is worth remembering that image augmentation will increase the DL model’s accuracy and may also increase the biases.  \n",
        "\n",
        "In addition to biases, the other noteworthy concept is safety. It refers to the distortion magnitude that does not alter the original image label post-transformation. Different photo domains have different safety levels. For example, horizontally flipping a person’s portrait photo is an acceptable augmentation technique, but reversing the hand gesture images in sign language is unsafe. \n",
        "\n",
        "By the end of this chapter, you will have learned the concepts and hands-on techniques in Python coding for classification image augmentation using real-world datasets. In addition, you will have examined several Python open source libraries for image augmentation. In particular, this chapter covers the following topics: \n",
        "\n",
        "- Geometric transformations \n",
        "\n",
        "- Photometric transformations \n",
        "\n",
        "- Random erasing \n",
        "\n",
        "- Combining \n",
        "\n",
        "- Reinforcing your learning through Python code \n",
        "\n",
        "Geometric transformations are the primary image augmentation technique used commonly across multiple image datasets. Thus, this is a good place to begin discussing image augmentation. \n",
        "\n",
        "---\n",
        "\n",
        "🌴 *end of excerpt from the book*\n",
        "\n"
      ]
    },
    {
      "cell_type": "markdown",
      "metadata": {
        "id": "psur6TottXJs"
      },
      "source": [
        "# GitHub Clone"
      ]
    },
    {
      "cell_type": "code",
      "execution_count": null,
      "metadata": {
        "id": "-e-E23OC33r_"
      },
      "outputs": [],
      "source": [
        "# git version should be 2.17.1 or higher\n",
        "!git --version"
      ]
    },
    {
      "cell_type": "code",
      "execution_count": null,
      "metadata": {
        "id": "Kk-kUBgEnYzg"
      },
      "outputs": [],
      "source": [
        "url = 'https://github.com/PacktPublishing/Data-Augmentation-with-Python'\n",
        "!git clone {url}"
      ]
    },
    {
      "cell_type": "markdown",
      "metadata": {
        "id": "ktmuZO3xteG1"
      },
      "source": [
        "## Fetch file from URL (Optional)"
      ]
    },
    {
      "cell_type": "markdown",
      "source": [
        "- Uncommend the below 2 code cells if you want to use URL and not Git Clone"
      ],
      "metadata": {
        "id": "wGPwtc1p9zQu"
      }
    },
    {
      "cell_type": "code",
      "execution_count": null,
      "metadata": {
        "id": "oObUsdZcj3Hk"
      },
      "outputs": [],
      "source": [
        "# import requests\n",
        "# #\n",
        "# def fetch_file(url, dst):\n",
        "#   downloaded_obj = requests.get(url)\n",
        "#   with open(dst, \"wb\") as file:\n",
        "#     file.write(downloaded_obj.content)\n",
        "#   return"
      ]
    },
    {
      "cell_type": "code",
      "execution_count": null,
      "metadata": {
        "id": "Nrz6ykdEj3RT"
      },
      "outputs": [],
      "source": [
        "# url = ''\n",
        "# dst = 'pluto_chapter_1.py'\n",
        "# fetch_file(url,dst)"
      ]
    },
    {
      "cell_type": "markdown",
      "source": [
        "# Run Pluto"
      ],
      "metadata": {
        "id": "u9oQ-Do542nh"
      }
    },
    {
      "cell_type": "markdown",
      "metadata": {
        "id": "yuljFGYftoyb"
      },
      "source": [
        "- Instantiate up Pluto, aka. \"Pluto, wake up!\""
      ]
    },
    {
      "cell_type": "code",
      "source": [
        "# %% CARRY-OVER code install\n",
        "\n",
        "!pip install opendatasets --upgrade\n",
        "!pip install pyspellchecker \n",
        "#\n",
        "# tested on the following version:\n",
        "# !pip install opendatasets==0.1.12 \n",
        "# !pip install pyspellchecker==0.7.1"
      ],
      "metadata": {
        "id": "ldsqlH7OVZOw"
      },
      "execution_count": null,
      "outputs": []
    },
    {
      "cell_type": "code",
      "execution_count": null,
      "metadata": {
        "id": "dDqYkFLYgSGV"
      },
      "outputs": [],
      "source": [
        "#load and run the pluto chapter 1 Python code.\n",
        "pluto_file = 'Data-Augmentation-with-Python/pluto/pluto_chapter_2.py'\n",
        "%run {pluto_file}"
      ]
    },
    {
      "cell_type": "markdown",
      "metadata": {
        "id": "WqZKpMYA3YO1"
      },
      "source": [
        "# Verify Pluto"
      ]
    },
    {
      "cell_type": "code",
      "execution_count": null,
      "metadata": {
        "id": "DFMl76ungbF7"
      },
      "outputs": [],
      "source": [
        "pluto.say_sys_info()"
      ]
    },
    {
      "cell_type": "markdown",
      "source": [
        "## (Optional) Export to .py"
      ],
      "metadata": {
        "id": "3ULjYzKMOHjN"
      }
    },
    {
      "cell_type": "code",
      "source": [
        "pluto_chapter_3 = 'Data-Augmentation-with-Python/pluto/pluto_chapter_3.py'\n",
        "!cp {pluto_file} {pluto_chapter_3}"
      ],
      "metadata": {
        "id": "v3yYyN1dzy2G"
      },
      "execution_count": null,
      "outputs": []
    },
    {
      "cell_type": "markdown",
      "source": [
        "# ✋ Setup Kaggle username and App ID\n",
        "\n",
        "- Install the following libraries, and import it on the Notebook.\n",
        "- Follow by initialize Kaggle username, key and fetch methods.\n",
        "- STOP: Update your Kaggle access username or key first."
      ],
      "metadata": {
        "id": "GEq5UZk-SDec"
      }
    },
    {
      "cell_type": "code",
      "source": [
        "pluto.fetch_df"
      ],
      "metadata": {
        "id": "rAZ1cgmuUkD5"
      },
      "execution_count": null,
      "outputs": []
    },
    {
      "cell_type": "code",
      "source": [
        "# %%CARRY-OVER code install\n",
        "\n",
        "# -------------------- : --------------------\n",
        "# READ ME\n",
        "# Chapter 2 begin:\n",
        "# Install the following libraries, and import it on the Notebook.\n",
        "# Follow by initialize Kaggle username, key and fetch methods.\n",
        "# STOP: Update your Kaggle access username or key first.\n",
        "# -------------------- : --------------------\n",
        "\n",
        "!pip install opendatasets --upgrade\n",
        "import opendatasets\n",
        "print(\"\\nrequired version 0.1.22 or higher: \", opendatasets.__version__)\n",
        "\n",
        "!pip install pyspellchecker \n",
        "import spellchecker\n",
        "print(\"\\nRequired version 0.7+\", spellchecker.__version__)\n",
        "\n",
        "# STOP: Update your Kaggle access username or key first.\n",
        "pluto.remember_kaggle_access_keys(\"YOUR_KAGGLE_USERNAME\", \"YOUR_KAGGLE_API_KEY\")\n",
        "pluto._write_kaggle_credit()\n",
        "import kaggle\n",
        "\n",
        "@add_method(PacktDataAug)\n",
        "def fetch_kaggle_comp_data(self,cname):\n",
        "  #self._write_kaggle_credit()  # need to run only once.\n",
        "  path = pathlib.Path(cname)\n",
        "  kaggle.api.competition_download_cli(str(path))\n",
        "  zipfile.ZipFile(f'{path}.zip').extractall(path)\n",
        "  return\n",
        "\n",
        "@add_method(PacktDataAug)\n",
        "def fetch_kaggle_dataset(self,url,dest=\"kaggle\"):\n",
        "  #self._write_kaggle_credit()    # need to run only once.\n",
        "  opendatasets.download(url,data_dir=dest)\n",
        "  return\n",
        "# -------------------- : --------------------\n"
      ],
      "metadata": {
        "id": "2VXY3ROiSNsv"
      },
      "execution_count": null,
      "outputs": []
    },
    {
      "cell_type": "markdown",
      "metadata": {
        "id": "Xf1ZN68a46on"
      },
      "source": [
        "# Fetch Kaggle Data"
      ]
    },
    {
      "cell_type": "markdown",
      "metadata": {
        "id": "DmuApvJnHbNu"
      },
      "source": [
        "## Fetch and display Sea Animals"
      ]
    },
    {
      "cell_type": "code",
      "execution_count": null,
      "metadata": {
        "id": "RjQn8Y-FAUMs"
      },
      "outputs": [],
      "source": [
        "url = 'https://www.kaggle.com/datasets/vencerlanz09/sea-animals-image-dataste'\n",
        "pluto.fetch_kaggle_dataset(url)"
      ]
    },
    {
      "cell_type": "code",
      "source": [
        "# remove white space in directory and filename\n",
        "# run this until no error/output\n",
        "f = 'kaggle/sea-animals-image-dataste'\n",
        "!find {f} -name \"* *\" -type d | rename 's/ /_/g'\n",
        "#!find {f} -name \"* *\" -type f | rename 's/ /_/g'"
      ],
      "metadata": {
        "id": "iwrgOj4-X75h"
      },
      "execution_count": null,
      "outputs": []
    },
    {
      "cell_type": "code",
      "source": [
        "# remove white space in directory and filename\n",
        "# run this until no error/output\n",
        "f = 'kaggle/sea-animals-image-dataste'\n",
        "#!find {f} -name \"* *\" -type d | rename 's/ /_/g'\n",
        "!find {f} -name \"* *\" -type f | rename 's/ /_/g'"
      ],
      "metadata": {
        "id": "tFWbf-9xKYKe"
      },
      "execution_count": null,
      "outputs": []
    },
    {
      "cell_type": "code",
      "source": [
        "# change method name to make_dir_dframe\n",
        "pluto.df_sea_animal = pluto.make_dir_dataframe(f)\n",
        "pluto.df_sea_animal.head(3)"
      ],
      "metadata": {
        "id": "m4w5JoK1Yd4G"
      },
      "execution_count": null,
      "outputs": []
    },
    {
      "cell_type": "code",
      "source": [
        "# pluto.make_dir_dframe = lambda f: pluto.build_shoe_fname(f)\n",
        "# df3 = pluto.make_dir_dframe('kaggle/sea-animals-image-dataste')\n",
        "# df3.head()"
      ],
      "metadata": {
        "id": "4xMdU2nfZhgi"
      },
      "execution_count": null,
      "outputs": []
    },
    {
      "cell_type": "code",
      "source": [
        "img = PIL.Image.open(pluto.df_sea_animal.fname[0])\n",
        "display(img)"
      ],
      "metadata": {
        "id": "wGwcTyvkYd6-"
      },
      "execution_count": null,
      "outputs": []
    },
    {
      "cell_type": "markdown",
      "source": [
        "## covid 19"
      ],
      "metadata": {
        "id": "aYm7QEp6Bw6g"
      }
    },
    {
      "cell_type": "code",
      "source": [
        "url = 'https://www.kaggle.com/datasets/pranavraikokte/covid19-image-dataset'\n",
        "pluto.fetch_kaggle_dataset(url)"
      ],
      "metadata": {
        "id": "deAORLIFBwCo"
      },
      "execution_count": null,
      "outputs": []
    },
    {
      "cell_type": "code",
      "source": [
        "# remove white space in directory and filename\n",
        "# run this until no error/output\n",
        "f = 'kaggle/covid19-image-dataset/Covid19-dataset/train'\n",
        "!find {f} -name \"* *\" -type d | rename 's/ /_/g'\n",
        "#!find {f} -name \"* *\" -type f | rename 's/ /_/g'"
      ],
      "metadata": {
        "id": "Wy9BU0O3BlPq"
      },
      "execution_count": null,
      "outputs": []
    },
    {
      "cell_type": "code",
      "source": [
        "pluto.df_covid19 = pluto.make_dir_dataframe(f)\n",
        "pluto.df_covid19.head(3)\n"
      ],
      "metadata": {
        "id": "ZKXOORjSBlSx"
      },
      "execution_count": null,
      "outputs": []
    },
    {
      "cell_type": "code",
      "source": [
        "img = PIL.Image.open(pluto.df_covid19.fname[0])\n",
        "display(img)"
      ],
      "metadata": {
        "id": "kwzEsR71EMRI"
      },
      "execution_count": null,
      "outputs": []
    },
    {
      "cell_type": "markdown",
      "source": [
        "## Mall Crowd"
      ],
      "metadata": {
        "id": "C1X2pxkiEAL2"
      }
    },
    {
      "cell_type": "code",
      "source": [
        "url = 'https://www.kaggle.com/datasets/ferasoughali/mall-crowd-estimation'\n",
        "pluto.fetch_kaggle_dataset(url)"
      ],
      "metadata": {
        "id": "QyZBfjLJBlWI"
      },
      "execution_count": null,
      "outputs": []
    },
    {
      "cell_type": "code",
      "source": [
        "f = 'kaggle/mall-crowd-estimation/mall_dataset/frames/Thumbs.db'\n",
        "!rm {f}"
      ],
      "metadata": {
        "id": "9SaDX-8vBlYh"
      },
      "execution_count": null,
      "outputs": []
    },
    {
      "cell_type": "code",
      "source": [
        "f = 'kaggle/mall-crowd-estimation/mall_dataset/frames'\n",
        "pluto.df_crowd = pluto.make_dir_dataframe(f)\n",
        "pluto.df_crowd.head(3)"
      ],
      "metadata": {
        "id": "_pktWm8kBlcJ"
      },
      "execution_count": null,
      "outputs": []
    },
    {
      "cell_type": "code",
      "source": [
        "img = PIL.Image.open(pluto.df_crowd.fname[0])\n",
        "display(img)"
      ],
      "metadata": {
        "id": "9-TG8JnIBlei"
      },
      "execution_count": null,
      "outputs": []
    },
    {
      "cell_type": "markdown",
      "source": [
        "## Indian pictures"
      ],
      "metadata": {
        "id": "JkTjSkCKGPU3"
      }
    },
    {
      "cell_type": "code",
      "source": [
        "url = 'https://www.kaggle.com/datasets/sinhayush29/indian-people'\n",
        "pluto.fetch_kaggle_dataset(url)"
      ],
      "metadata": {
        "id": "Vy2RfDR8BliM"
      },
      "execution_count": null,
      "outputs": []
    },
    {
      "cell_type": "code",
      "source": [
        "# remove white space in directory and filename\n",
        "# run this until no error/output\n",
        "f = 'kaggle/indian-people'\n",
        "!find {f} -name \"* *\" -type d | rename 's/ /_/g'\n",
        "#!find {f} -name \"* *\" -type f | rename 's/ /_/g'"
      ],
      "metadata": {
        "id": "WTx6TXkFGLdP"
      },
      "execution_count": null,
      "outputs": []
    },
    {
      "cell_type": "code",
      "source": [
        "# remove white space in directory and filename\n",
        "# run this until no error/output\n",
        "f = 'kaggle/indian-people/Indian_Train_Set'\n",
        "#!find {f} -name \"* *\" -type d | rename 's/ /_/g'\n",
        "!find {f} -name \"* *\" -type f | rename 's/ /_/g'"
      ],
      "metadata": {
        "id": "6l2WBut9GLgC"
      },
      "execution_count": null,
      "outputs": []
    },
    {
      "cell_type": "code",
      "source": [
        "f = 'kaggle/indian-people/Indian_Train_Set/Indian'\n",
        "pluto.df_people = pluto.make_dir_dataframe(f)\n",
        "pluto.df_people.head(3)"
      ],
      "metadata": {
        "id": "9iuZkdTsGLjn"
      },
      "execution_count": null,
      "outputs": []
    },
    {
      "cell_type": "code",
      "source": [
        "img = PIL.Image.open(pluto.df_people.fname[0])\n",
        "display(img)"
      ],
      "metadata": {
        "id": "6zydElp8GLmf"
      },
      "execution_count": null,
      "outputs": []
    },
    {
      "cell_type": "markdown",
      "source": [
        "## Vietnamese food"
      ],
      "metadata": {
        "id": "KB6KdgYoI3P2"
      }
    },
    {
      "cell_type": "code",
      "source": [
        "url = 'https://www.kaggle.com/datasets/quandang/vietnamese-foods'\n",
        "pluto.fetch_kaggle_dataset(url)\n",
        "# use word assemble"
      ],
      "metadata": {
        "id": "sbBiL-CUI3cR"
      },
      "execution_count": null,
      "outputs": []
    },
    {
      "cell_type": "code",
      "source": [
        "# remove white space in directory and filename\n",
        "# run this until no error/output\n",
        "f = 'kaggle/vietnamese-foods/Images/Train'\n",
        "!find {f} -name \"* *\" -type d | rename 's/ /_/g'\n",
        "#!find {f} -name \"* *\" -type f | rename 's/ /_/g'"
      ],
      "metadata": {
        "id": "Kj-f23ZCThYo"
      },
      "execution_count": null,
      "outputs": []
    },
    {
      "cell_type": "code",
      "source": [
        "f = 'kaggle/vietnamese-foods/Images/Train'\n",
        "pluto.df_food = pluto.make_dir_dataframe(f)\n",
        "pluto.df_food.head(3)"
      ],
      "metadata": {
        "id": "6EEq2AaxI3gF"
      },
      "execution_count": null,
      "outputs": []
    },
    {
      "cell_type": "code",
      "source": [
        "img = PIL.Image.open(pluto.df_food.fname[0])\n",
        "display(img)"
      ],
      "metadata": {
        "id": "Bk9vOeNbGLp6"
      },
      "execution_count": null,
      "outputs": []
    },
    {
      "cell_type": "markdown",
      "source": [
        "## Fungi"
      ],
      "metadata": {
        "id": "W93vq3aPCwlO"
      }
    },
    {
      "cell_type": "code",
      "source": [
        "url = 'https://www.kaggle.com/datasets/marcosvolpato/edible-and-poisonous-fungi'\n",
        "pluto.fetch_kaggle_dataset(url)\n",
        "# use word assemble"
      ],
      "metadata": {
        "id": "XSZFPap0Cvrh"
      },
      "execution_count": null,
      "outputs": []
    },
    {
      "cell_type": "code",
      "source": [
        "# remove white space in directory and filename\n",
        "# run this until no error/output\n",
        "f = 'kaggle/edible-and-poisonous-fungi'\n",
        "!find {f} -name \"* *\" -type d | rename 's/ /_/g'\n",
        "#!find {f} -name \"* *\" -type f | rename 's/ /_/g'"
      ],
      "metadata": {
        "id": "LiPF1m_AGLsn"
      },
      "execution_count": null,
      "outputs": []
    },
    {
      "cell_type": "code",
      "source": [
        "# remove white space in directory and filename\n",
        "# run this until no error/output\n",
        "f = 'kaggle/edible-and-poisonous-fungi'\n",
        "# !find {f} -name \"* *\" -type d | rename 's/ /_/g'\n",
        "!find {f} -name \"* *\" -type f | rename 's/ /_/g'"
      ],
      "metadata": {
        "id": "u38Pv8jBGLwH"
      },
      "execution_count": null,
      "outputs": []
    },
    {
      "cell_type": "code",
      "source": [
        "pluto.df_fungi = pluto.make_dir_dataframe(f)\n",
        "pluto.df_fungi.head(3)"
      ],
      "metadata": {
        "id": "vHCWg226GLyo"
      },
      "execution_count": null,
      "outputs": []
    },
    {
      "cell_type": "code",
      "source": [
        "img = PIL.Image.open(pluto.df_fungi.fname[0])\n",
        "display(img)"
      ],
      "metadata": {
        "id": "6YAd-y3HBllb"
      },
      "execution_count": null,
      "outputs": []
    },
    {
      "cell_type": "markdown",
      "metadata": {
        "id": "jPJDMqrwHhCR"
      },
      "source": [
        "# Draw the Images"
      ]
    },
    {
      "cell_type": "markdown",
      "source": [
        "## display patch"
      ],
      "metadata": {
        "id": "xLpFNMbhosse"
      }
    },
    {
      "cell_type": "code",
      "source": [
        "df = [pluto.df_covid19.sample(2), pluto.df_people.sample(2),\n",
        "  pluto.df_fungi.sample(2), pluto.df_sea_animal.sample(2),\n",
        "  pluto.df_food.sample(1), pluto.df_crowd.sample(1)]\n",
        "\n",
        "df_samp = pandas.concat(df)\n",
        "x = pluto.draw_batch(df_samp.fname)"
      ],
      "metadata": {
        "id": "-B-Y1s1NH93C"
      },
      "execution_count": null,
      "outputs": []
    },
    {
      "cell_type": "markdown",
      "source": [
        "# Geometric transformations filters "
      ],
      "metadata": {
        "id": "smpQgFW0YR3l"
      }
    },
    {
      "cell_type": "code",
      "source": [
        "# %%CARRY-OVER code install\n",
        "\n",
        "!pip install -Uqq fastai\n",
        "# \n",
        "# tested on version:\n",
        "# !pip install -Uqq fastai==2.6.3"
      ],
      "metadata": {
        "id": "TfkSCwau2WRE"
      },
      "execution_count": null,
      "outputs": []
    },
    {
      "cell_type": "code",
      "source": [
        "# %%writefile -a {pluto_chapter_3}\n",
        "\n",
        "# STOP: if failed the import below, you need to run:\n",
        "# !pip install -Uqq fastai\n",
        "#\n",
        "pluto.version = 3.0\n",
        "from fastcore.all import *\n",
        "import fastai\n",
        "import fastai.vision\n",
        "import fastai.vision.core\n",
        "import fastai.vision.augment\n",
        "import numpy\n",
        "print(\"\\nfastai version (should be 2.6.3 or higher): \", fastai.__version__)"
      ],
      "metadata": {
        "id": "v3Kd87JsYVYb"
      },
      "execution_count": null,
      "outputs": []
    },
    {
      "cell_type": "markdown",
      "source": [
        "## Horizontal flip"
      ],
      "metadata": {
        "id": "5pHBMc2YA6x9"
      }
    },
    {
      "cell_type": "code",
      "source": [
        "# %%writefile -a {pluto_chapter_3}\n",
        "\n",
        "import PIL\n",
        "import PIL.ImageOps\n",
        "@add_method(PacktDataAug)\n",
        "def draw_image_flip_pil(self,fname):\n",
        "  img = PIL.Image.open(fname)\n",
        "  mirror_img = PIL.ImageOps.mirror(img)\n",
        "  display(img, mirror_img)\n",
        "  return"
      ],
      "metadata": {
        "id": "odoUsUwmDdD-"
      },
      "execution_count": null,
      "outputs": []
    },
    {
      "cell_type": "code",
      "source": [
        "pluto.draw_image_flip_pil(pluto.df_people.fname[100])"
      ],
      "metadata": {
        "id": "4esbEC_pAxwC"
      },
      "execution_count": null,
      "outputs": []
    },
    {
      "cell_type": "code",
      "source": [
        "# %%writefile -a {pluto_chapter_3}\n",
        "\n",
        "@add_method(PacktDataAug)\n",
        "def _make_data_loader(self,df, tfms, i_tfms=None):\n",
        "  dls = fastai.vision.data.ImageDataLoaders.from_df(df, \n",
        "  fn_col=\"fname\",label_col=\"label\",\n",
        "  item_tfms=i_tfms,\n",
        "  batch_tfms=tfms,\n",
        "  valid_pct=0.2,\n",
        "  bs=32)\n",
        "  return dls\n",
        "#\n",
        "# fastai.vision.augment.RandomCrop\n",
        "# fastai.vision.augment.CropPad(480)\n",
        "# import fastai.vision.augment. (to see all other option like flip, hue, etc)\n",
        "@add_method(PacktDataAug)\n",
        "def draw_image_flip(self,df,bsize=15):\n",
        "  aug = [fastai.vision.augment.Flip(p=0.8)]\n",
        "  itfms = fastai.vision.augment.Resize(480)\n",
        "  dsl_org = self._make_data_loader(df, aug,itfms)\n",
        "  dsl_org.show_batch(max_n=bsize)\n",
        "  return dsl_org"
      ],
      "metadata": {
        "id": "76wncXh3RxSm"
      },
      "execution_count": null,
      "outputs": []
    },
    {
      "cell_type": "code",
      "source": [
        "pluto.dls_people = pluto.draw_image_flip(pluto.df_people)"
      ],
      "metadata": {
        "id": "k0KjkuAdRx1A"
      },
      "execution_count": null,
      "outputs": []
    },
    {
      "cell_type": "code",
      "source": [
        "pluto.dls_fungi = pluto.draw_image_flip(pluto.df_fungi)"
      ],
      "metadata": {
        "id": "c07-v_pYYSBn"
      },
      "execution_count": null,
      "outputs": []
    },
    {
      "cell_type": "code",
      "source": [
        "pluto.dls_covid19 = pluto.draw_image_flip(pluto.df_covid19)"
      ],
      "metadata": {
        "id": "1vgOYMdiYSE4"
      },
      "execution_count": null,
      "outputs": []
    },
    {
      "cell_type": "code",
      "source": [
        "# %%writefile -a {pluto_chapter_3}\n",
        "\n",
        "@add_method(PacktDataAug)\n",
        "def draw_image_flip_both(self,df,bsize=15,pad_mode='zeros'):\n",
        "  aug = fastai.vision.augment.Dihedral(p=0.8,pad_mode=pad_mode)\n",
        "  itfms = fastai.vision.augment.Resize(480)\n",
        "  dsl_org = self._make_data_loader(df, aug,itfms)\n",
        "  dsl_org.show_batch(max_n=bsize)\n",
        "  return dsl_org"
      ],
      "metadata": {
        "id": "iWZ5fcXKYSHz"
      },
      "execution_count": null,
      "outputs": []
    },
    {
      "cell_type": "code",
      "source": [
        "pluto.dls_people = pluto.draw_image_flip_both(pluto.df_people,pad_mode='reflection')"
      ],
      "metadata": {
        "id": "fSM3l3zvYSK2"
      },
      "execution_count": null,
      "outputs": []
    },
    {
      "cell_type": "code",
      "source": [
        "pluto.dls_sea_animal = pluto.draw_image_flip_both(pluto.df_sea_animal,pad_mode='border')"
      ],
      "metadata": {
        "id": "29TyX8GyYSN3"
      },
      "execution_count": null,
      "outputs": []
    },
    {
      "cell_type": "code",
      "source": [
        "pluto.dls_food = pluto.draw_image_flip_both(pluto.df_food,pad_mode='reflection')"
      ],
      "metadata": {
        "id": "-s_2S7BoYSRL"
      },
      "execution_count": null,
      "outputs": []
    },
    {
      "cell_type": "markdown",
      "source": [
        "## Croping and Padding"
      ],
      "metadata": {
        "id": "0TOOFz2JwZmX"
      }
    },
    {
      "cell_type": "code",
      "source": [
        "# %%writefile -a {pluto_chapter_3}\n",
        "\n",
        "@add_method(PacktDataAug)\n",
        "def draw_image_crop(self,df,bsize=15,pad_mode=\"zeros\",isize=480):\n",
        "  aug = fastai.vision.augment.CropPad(isize,pad_mode=pad_mode)\n",
        "  itfms = fastai.vision.augment.CropPad(isize, pad_mode=pad_mode)\n",
        "  dsl_org = self._make_data_loader(df, aug,itfms)\n",
        "  dsl_org.show_batch(max_n=bsize)\n",
        "  return dsl_org"
      ],
      "metadata": {
        "id": "V8ladPvYq-lF"
      },
      "execution_count": null,
      "outputs": []
    },
    {
      "cell_type": "code",
      "source": [
        "pluto.dls_people = pluto.draw_image_crop(pluto.df_people, pad_mode=\"border\",isize=640)"
      ],
      "metadata": {
        "id": "O61a4c93q-oQ"
      },
      "execution_count": null,
      "outputs": []
    },
    {
      "cell_type": "code",
      "source": [
        "pluto.dls_fungi = pluto.draw_image_crop(pluto.df_fungi,pad_mode=\"reflection\",isize=240)"
      ],
      "metadata": {
        "id": "bh3dTqobq-r-"
      },
      "execution_count": null,
      "outputs": []
    },
    {
      "cell_type": "code",
      "source": [
        "pluto.dls_food = pluto.draw_image_crop(pluto.df_food,pad_mode=\"reflection\",isize=640)"
      ],
      "metadata": {
        "id": "EeiC7w2Iq-u9"
      },
      "execution_count": null,
      "outputs": []
    },
    {
      "cell_type": "code",
      "source": [
        "pluto.dls_sea_animal = pluto.draw_image_crop(pluto.df_sea_animal,pad_mode=\"reflection\", isize=340)"
      ],
      "metadata": {
        "id": "wkpuldElq-yf"
      },
      "execution_count": null,
      "outputs": []
    },
    {
      "cell_type": "code",
      "source": [
        "pluto.dls_covid19 = pluto.draw_image_crop(pluto.df_covid19,pad_mode=\"zeros\", isize=1600)"
      ],
      "metadata": {
        "id": "VM6MT6Cnq-1d"
      },
      "execution_count": null,
      "outputs": []
    },
    {
      "cell_type": "code",
      "source": [
        "pluto.dls_crowd = pluto.draw_image_crop(pluto.df_crowd,pad_mode=\"zeros\", isize=512)"
      ],
      "metadata": {
        "id": "9BvhjOkGq-5H"
      },
      "execution_count": null,
      "outputs": []
    },
    {
      "cell_type": "markdown",
      "source": [
        "## Rotation"
      ],
      "metadata": {
        "id": "zUByR0DaOq9x"
      }
    },
    {
      "cell_type": "code",
      "source": [
        "# %%writefile -a {pluto_chapter_3}\n",
        "\n",
        "@add_method(PacktDataAug)\n",
        "def draw_image_rotate(self,df,bsize=15,max_rotate=45.0,pad_mode='zeros'):\n",
        "  aug = [fastai.vision.augment.Rotate(max_rotate,p=0.75,pad_mode=pad_mode)]\n",
        "  itfms = fastai.vision.augment.Resize(480)\n",
        "  dsl_org = self._make_data_loader(df, aug,itfms)\n",
        "  dsl_org.show_batch(max_n=bsize)\n",
        "  return dsl_org"
      ],
      "metadata": {
        "id": "Dc4b9LCAq-7z"
      },
      "execution_count": null,
      "outputs": []
    },
    {
      "cell_type": "code",
      "source": [
        "pluto.dls_people = pluto.draw_image_rotate(pluto.df_people,max_rotate=25.0, pad_mode='border')"
      ],
      "metadata": {
        "id": "IOv8NtPOq--5"
      },
      "execution_count": null,
      "outputs": []
    },
    {
      "cell_type": "code",
      "source": [
        "pluto.dls_sea_animal = pluto.draw_image_rotate(pluto.df_sea_animal,max_rotate=180.0, pad_mode='reflection')"
      ],
      "metadata": {
        "id": "x33n8jEBq_CP"
      },
      "execution_count": null,
      "outputs": []
    },
    {
      "cell_type": "code",
      "source": [
        "pluto.dls_crowd = pluto.draw_image_rotate(pluto.df_crowd,max_rotate=16.0, pad_mode='zeros')"
      ],
      "metadata": {
        "id": "7QVX7Zpbq_FE"
      },
      "execution_count": null,
      "outputs": []
    },
    {
      "cell_type": "code",
      "source": [
        "pluto.dls_fungi = pluto.draw_image_rotate(pluto.df_fungi,max_rotate=45.0, pad_mode='border')"
      ],
      "metadata": {
        "id": "XDjgG8UbYST1"
      },
      "execution_count": null,
      "outputs": []
    },
    {
      "cell_type": "code",
      "source": [
        "pluto.dls_food = pluto.draw_image_rotate(pluto.df_food,max_rotate=90.0, pad_mode='reflection')"
      ],
      "metadata": {
        "id": "7C2FjjlYYSWn"
      },
      "execution_count": null,
      "outputs": []
    },
    {
      "cell_type": "code",
      "source": [
        "pluto.dls_covid19 = pluto.draw_image_rotate(pluto.df_covid19,max_rotate=8.0, pad_mode='zeros')"
      ],
      "metadata": {
        "id": "tyEefo4NYSZz"
      },
      "execution_count": null,
      "outputs": []
    },
    {
      "cell_type": "code",
      "source": [
        "#fastai.vision.augment.cutout_gaussian?"
      ],
      "metadata": {
        "id": "8RSjNklUYSca"
      },
      "execution_count": null,
      "outputs": []
    },
    {
      "cell_type": "markdown",
      "source": [
        "## Warping"
      ],
      "metadata": {
        "id": "2Rm1g2Udu-O_"
      }
    },
    {
      "cell_type": "code",
      "source": [
        "# %%writefile -a {pluto_chapter_3}\n",
        "\n",
        "@add_method(PacktDataAug)\n",
        "def draw_image_warp(self,df,bsize=15,magnitude=0.2,pad_mode='zeros'):\n",
        "  aug = [fastai.vision.augment.Warp(magnitude=magnitude, pad_mode=pad_mode,p=0.75)]\n",
        "  itfms = fastai.vision.augment.Resize(480)\n",
        "  dsl_org = self._make_data_loader(df, aug,itfms)\n",
        "  dsl_org.show_batch(max_n=bsize)\n",
        "  return dsl_org"
      ],
      "metadata": {
        "id": "Pwx-dhuwu-b0"
      },
      "execution_count": null,
      "outputs": []
    },
    {
      "cell_type": "code",
      "source": [
        "pluto.dls_people = pluto.draw_image_warp(pluto.df_people,magnitude=0.4,pad_mode='border')"
      ],
      "metadata": {
        "id": "zVU_3Bw-u-f8"
      },
      "execution_count": null,
      "outputs": []
    },
    {
      "cell_type": "code",
      "source": [
        "pluto.dls_sea_animal = pluto.draw_image_warp(pluto.df_sea_animal,magnitude=0.5,pad_mode='border')"
      ],
      "metadata": {
        "id": "ueQBklDbu-6l"
      },
      "execution_count": null,
      "outputs": []
    },
    {
      "cell_type": "markdown",
      "source": [
        "## Translation"
      ],
      "metadata": {
        "id": "c5sfcJg1xhb2"
      }
    },
    {
      "cell_type": "code",
      "source": [
        "# %%writefile -a {pluto_chapter_3}\n",
        "\n",
        "@add_method(PacktDataAug)\n",
        "def draw_image_shift_pil(self,fname, x_axis, y_axis=0):\n",
        "  img = PIL.Image.open(fname)\n",
        "  shift_img = PIL.ImageChops.offset(img,x_axis,y_axis)\n",
        "  display(img, shift_img)\n",
        "  return"
      ],
      "metadata": {
        "id": "KSqySu5-2P9z"
      },
      "execution_count": null,
      "outputs": []
    },
    {
      "cell_type": "code",
      "source": [
        "f = pluto.df_people.fname[30]\n",
        "pluto.draw_image_shift_pil(f, -150, -50)"
      ],
      "metadata": {
        "id": "WnoXlO_43Ds2"
      },
      "execution_count": null,
      "outputs": []
    },
    {
      "cell_type": "markdown",
      "source": [
        "# Phometric transformations"
      ],
      "metadata": {
        "id": "5adKElIq-6uF"
      }
    },
    {
      "cell_type": "code",
      "source": [
        "# %%CARRY-OVER code install\n",
        "\n",
        "!pip install albumentations"
      ],
      "metadata": {
        "id": "l48Z5k7DyGD5"
      },
      "execution_count": null,
      "outputs": []
    },
    {
      "cell_type": "code",
      "source": [
        "# %%writefile -a {pluto_chapter_3}\n",
        "\n",
        "try:\n",
        "  pluto._ph()\n",
        "  import albumentations\n",
        "  pluto._pp(\"albumentations 1.2.1\", \"actual \" + albumentations.__version__)\n",
        "# import cat2\n",
        "except ImportError as e:\n",
        "  pluto._ph()\n",
        "  pluto._pp(\"**Error\", e)\n",
        "pluto._ph()"
      ],
      "metadata": {
        "id": "83fkacclVteH"
      },
      "execution_count": null,
      "outputs": []
    },
    {
      "cell_type": "code",
      "source": [
        "# %%writefile -a {pluto_chapter_3}\n",
        "\n",
        "@add_method(PacktDataAug)\n",
        "def _draw_image_album(self,df,aug_album,bsize=5):\n",
        "  if (bsize == 2):\n",
        "    ncol = 2\n",
        "    nrow = 1\n",
        "    w = 16\n",
        "    h = 8\n",
        "  else:\n",
        "    ncol = 5\n",
        "    nrow = int(numpy.ceil(bsize/ncol))\n",
        "    w = 14\n",
        "    h = int(4 * nrow)\n",
        "  #\n",
        "  canvas, pic = matplotlib.pyplot.subplots(nrow, ncol, figsize=(w, h))\n",
        "  pics = pic.flatten()\n",
        "  # select random images\n",
        "  samp = df.sample(int(ncol * nrow))\n",
        "  samp.reset_index(drop=True, inplace=True)\n",
        "  for i, ax in enumerate(pics):\n",
        "    # convert to an array\n",
        "    img_numpy = numpy.array(PIL.Image.open(samp.fname[i]))\n",
        "    label = df.label[i]\n",
        "    # perform the transformation using albumentations\n",
        "    img = aug_album(image=img_numpy)['image']\n",
        "    # display the image in batch modde\n",
        "    ax.imshow(img)\n",
        "    ax.set_title(label)\n",
        "  canvas.tight_layout()\n",
        "  self._drop_image(canvas)\n",
        "  canvas.show()\n",
        "  return"
      ],
      "metadata": {
        "id": "ywTYp3lYIHD_"
      },
      "execution_count": null,
      "outputs": []
    },
    {
      "cell_type": "markdown",
      "source": [
        "## Lighting"
      ],
      "metadata": {
        "id": "Kpj6PEQDanJP"
      }
    },
    {
      "cell_type": "code",
      "source": [
        "# %%writefile -a {pluto_chapter_3}\n",
        "\n",
        "@add_method(PacktDataAug)\n",
        "def draw_image_brightness(self,df,brightness=0.2,bsize=5):\n",
        "  aug_album = albumentations.ColorJitter(brightness=brightness,\n",
        "    contrast=0.0, saturation=0.0,hue=0.0,always_apply=True, p=1.0)\n",
        "  self._draw_image_album(df,aug_album,bsize)\n",
        "  return"
      ],
      "metadata": {
        "id": "FyBKfRMuVlQ4"
      },
      "execution_count": null,
      "outputs": []
    },
    {
      "cell_type": "code",
      "source": [
        "pluto.draw_image_brightness(pluto.df_people, brightness = 1.7)"
      ],
      "metadata": {
        "id": "xAJVZ4BgVlUr"
      },
      "execution_count": null,
      "outputs": []
    },
    {
      "cell_type": "code",
      "source": [
        "pluto.draw_image_brightness(pluto.df_food, brightness=0.3)"
      ],
      "metadata": {
        "id": "tMq1aq2EVtLj"
      },
      "execution_count": null,
      "outputs": []
    },
    {
      "cell_type": "markdown",
      "source": [
        "## Grayscale\n"
      ],
      "metadata": {
        "id": "8XBjKWlDAIFq"
      }
    },
    {
      "cell_type": "code",
      "source": [
        "# %%writefile -a {pluto_chapter_3}\n",
        "\n",
        "@add_method(PacktDataAug)\n",
        "def draw_image_grayscale(self,df,bsize=5):\n",
        "  aug_album = albumentations.ToGray(p=1.0)\n",
        "  self._draw_image_album(df,aug_album,bsize)\n",
        "  return"
      ],
      "metadata": {
        "id": "RcBF26T5LXrY"
      },
      "execution_count": null,
      "outputs": []
    },
    {
      "cell_type": "code",
      "source": [
        "pluto.draw_image_grayscale(pluto.df_fungi)"
      ],
      "metadata": {
        "id": "VpFb7Mu-Pkg3"
      },
      "execution_count": null,
      "outputs": []
    },
    {
      "cell_type": "code",
      "source": [
        "pluto.draw_image_grayscale(pluto.df_crowd)"
      ],
      "metadata": {
        "id": "qVVTb7QAQpYi"
      },
      "execution_count": null,
      "outputs": []
    },
    {
      "cell_type": "markdown",
      "source": [
        "## Contrast"
      ],
      "metadata": {
        "id": "DCBhy4zOd-60"
      }
    },
    {
      "cell_type": "code",
      "source": [
        "# %%writefile -a {pluto_chapter_3}\n",
        "\n",
        "@add_method(PacktDataAug)\n",
        "def draw_image_contrast(self,df,contrast=0.2,bsize=5):\n",
        "  aug_album = albumentations.ColorJitter(brightness=0.0,\n",
        "    contrast=contrast, saturation=0.0,hue=0.0,always_apply=True, p=1.0)\n",
        "  self._draw_image_album(df,aug_album,bsize)\n",
        "  return"
      ],
      "metadata": {
        "id": "GGoJeACLiDlJ"
      },
      "execution_count": null,
      "outputs": []
    },
    {
      "cell_type": "code",
      "source": [
        "pluto.draw_image_contrast(pluto.df_sea_animal,contrast=8.5,bsize=2)"
      ],
      "metadata": {
        "id": "nHnvM8GMiDoZ"
      },
      "execution_count": null,
      "outputs": []
    },
    {
      "cell_type": "code",
      "source": [
        "pluto.draw_image_contrast(pluto.df_people,contrast=0.3,bsize=2)"
      ],
      "metadata": {
        "id": "dBKqQwMKiDrd"
      },
      "execution_count": null,
      "outputs": []
    },
    {
      "cell_type": "markdown",
      "source": [
        "## saturation"
      ],
      "metadata": {
        "id": "W2aD1YO4fqr3"
      }
    },
    {
      "cell_type": "code",
      "source": [
        "# %%writefile -a {pluto_chapter_3}\n",
        "\n",
        "@add_method(PacktDataAug)\n",
        "def draw_image_saturation(self,df,saturation=0.2,bsize=5):\n",
        "  aug_album = albumentations.ColorJitter(brightness=0.0,\n",
        "    contrast=0.0, saturation=saturation,hue=0.0,always_apply=True, p=1.0)\n",
        "  self._draw_image_album(df,aug_album,bsize)\n",
        "  return"
      ],
      "metadata": {
        "id": "m5O0EbR7iDud"
      },
      "execution_count": null,
      "outputs": []
    },
    {
      "cell_type": "code",
      "source": [
        "pluto.draw_image_saturation(pluto.df_food, saturation=10.5)"
      ],
      "metadata": {
        "id": "S7is-xzEiDxk"
      },
      "execution_count": null,
      "outputs": []
    },
    {
      "cell_type": "code",
      "source": [
        "pluto.draw_image_saturation(pluto.df_fungi, saturation=2.5)"
      ],
      "metadata": {
        "id": "ShUHQZdziD0T"
      },
      "execution_count": null,
      "outputs": []
    },
    {
      "cell_type": "markdown",
      "source": [
        "## Hue"
      ],
      "metadata": {
        "id": "D7C59kWVhip9"
      }
    },
    {
      "cell_type": "code",
      "source": [
        "# %%writefile -a {pluto_chapter_3}\n",
        "\n",
        "@add_method(PacktDataAug)\n",
        "def draw_image_hue(self,df,hue=0.2,bsize=5):\n",
        "  aug_album = albumentations.ColorJitter(brightness=0.0,\n",
        "    contrast=0.0, saturation=0.0,hue=hue,always_apply=True, p=1.0)\n",
        "  self._draw_image_album(df,aug_album,bsize)\n",
        "  return"
      ],
      "metadata": {
        "id": "1boFb8FWiD3c"
      },
      "execution_count": null,
      "outputs": []
    },
    {
      "cell_type": "code",
      "source": [
        "pluto.draw_image_hue(pluto.df_people,hue=0.5)"
      ],
      "metadata": {
        "id": "HtOgLT2phygc"
      },
      "execution_count": null,
      "outputs": []
    },
    {
      "cell_type": "code",
      "source": [
        "pluto.draw_image_hue(pluto.df_crowd,hue=0.2)"
      ],
      "metadata": {
        "id": "o1nWuP_rhyjr"
      },
      "execution_count": null,
      "outputs": []
    },
    {
      "cell_type": "markdown",
      "source": [
        "## Noise"
      ],
      "metadata": {
        "id": "XpiwarVji28q"
      }
    },
    {
      "cell_type": "code",
      "source": [
        "# %%writefile -a {pluto_chapter_3}\n",
        "\n",
        "@add_method(PacktDataAug)\n",
        "def draw_image_noise(self,df,var_limit=(10.0, 50.0),bsize=5):\n",
        "  aug_album = albumentations.GaussNoise(var_limit=var_limit,\n",
        "    always_apply=True, p=1.0)\n",
        "  self._draw_image_album(df,aug_album,bsize)\n",
        "  return"
      ],
      "metadata": {
        "id": "U9Zk6sDBi1O0"
      },
      "execution_count": null,
      "outputs": []
    },
    {
      "cell_type": "code",
      "source": [
        "pluto.draw_image_noise(pluto.df_fungi,var_limit=(20000.0, 30000.0))"
      ],
      "metadata": {
        "id": "GTboZ6eyhym4"
      },
      "execution_count": null,
      "outputs": []
    },
    {
      "cell_type": "code",
      "source": [
        "pluto.draw_image_noise(pluto.df_fungi,var_limit=(10000.0, 20000.0),bsize=2)"
      ],
      "metadata": {
        "id": "YoAqmXZutiNd"
      },
      "execution_count": null,
      "outputs": []
    },
    {
      "cell_type": "code",
      "source": [
        "pluto.draw_image_noise(pluto.df_crowd,var_limit=(200.0, 400.0),bsize=2)"
      ],
      "metadata": {
        "id": "kLmcYh1Rhyp5"
      },
      "execution_count": null,
      "outputs": []
    },
    {
      "cell_type": "markdown",
      "source": [
        "## Snow (not cover in the book)"
      ],
      "metadata": {
        "id": "Bgx5i1gplu6I"
      }
    },
    {
      "cell_type": "code",
      "source": [
        "# # %%writefile -a {pluto_chapter_3}\n",
        "\n",
        "# @add_method(PacktDataAug)\n",
        "# def draw_image_snow(self,df,snow_point_lower=0.1,snow_point_upper=0.3,bsize=2,brightness_coeff=2.5):\n",
        "#   aug_album = albumentations.RandomSnow(snow_point_lower=snow_point_lower,\n",
        "#     snow_point_upper = snow_point_upper, always_apply=True, p=1.0,brightness_coeff=brightness_coeff)\n",
        "#   self._draw_image_album(df,aug_album,bsize)\n",
        "#   return"
      ],
      "metadata": {
        "id": "QUGZ9aOalvQX"
      },
      "execution_count": null,
      "outputs": []
    },
    {
      "cell_type": "code",
      "source": [
        "# pluto.draw_image_snow(pluto.df_people)"
      ],
      "metadata": {
        "id": "p2uCSrI5lvTy"
      },
      "execution_count": null,
      "outputs": []
    },
    {
      "cell_type": "code",
      "source": [
        "# pluto.draw_image_snow(pluto.df_fungi,snow_point_lower=0.01, snow_point_upper=0.1)"
      ],
      "metadata": {
        "id": "CJWZ57aSlvXn"
      },
      "execution_count": null,
      "outputs": []
    },
    {
      "cell_type": "markdown",
      "source": [
        "## Sunflare"
      ],
      "metadata": {
        "id": "90mU8d0trdg4"
      }
    },
    {
      "cell_type": "code",
      "source": [
        "# %%writefile -a {pluto_chapter_3}\n",
        "\n",
        "@add_method(PacktDataAug)\n",
        "def draw_image_sunflare(self,df,flare_roi=(0, 0, 1, 0.5),src_radius=400,bsize=2):\n",
        "  aug_album = albumentations.RandomSunFlare(flare_roi=flare_roi,\n",
        "    src_radius=src_radius, always_apply=True, p=1.0)\n",
        "  self._draw_image_album(df,aug_album,bsize)\n",
        "  return"
      ],
      "metadata": {
        "id": "hVvhwK8FrY-y"
      },
      "execution_count": null,
      "outputs": []
    },
    {
      "cell_type": "code",
      "source": [
        "pluto.draw_image_sunflare(pluto.df_people, flare_roi=(0, 0, 1, 0.5),src_radius=400,bsize=2)"
      ],
      "metadata": {
        "id": "uBybJE-vlvbQ"
      },
      "execution_count": null,
      "outputs": []
    },
    {
      "cell_type": "code",
      "source": [
        "pluto.draw_image_sunflare(pluto.df_people, src_radius=200)"
      ],
      "metadata": {
        "id": "1mEOjGolhytN"
      },
      "execution_count": null,
      "outputs": []
    },
    {
      "cell_type": "code",
      "source": [
        "pluto.draw_image_sunflare(pluto.df_fungi, src_radius=200)"
      ],
      "metadata": {
        "id": "8bX4UICahywT"
      },
      "execution_count": null,
      "outputs": []
    },
    {
      "cell_type": "code",
      "source": [
        "pluto.draw_image_sunflare(pluto.df_fungi, src_radius=120)"
      ],
      "metadata": {
        "id": "4CkXrjukhyzj"
      },
      "execution_count": null,
      "outputs": []
    },
    {
      "cell_type": "code",
      "source": [
        "pluto.draw_image_sunflare(pluto.df_fungi, src_radius=120)"
      ],
      "metadata": {
        "id": "DIyagqiuhy2u"
      },
      "execution_count": null,
      "outputs": []
    },
    {
      "cell_type": "markdown",
      "source": [
        "## Rain"
      ],
      "metadata": {
        "id": "lcp7CgFXv-Py"
      }
    },
    {
      "cell_type": "code",
      "source": [
        "# %%writefile -a {pluto_chapter_3}\n",
        "\n",
        "@add_method(PacktDataAug)\n",
        "def draw_image_rain(self,df,drop_length=20, drop_width=1,blur_value=1,bsize=2):\n",
        "  aug_album = albumentations.RandomRain(drop_length=drop_length, drop_width=drop_width,\n",
        "    blur_value=blur_value,always_apply=True, p=1.0)\n",
        "  self._draw_image_album(df,aug_album,bsize)\n",
        "  return"
      ],
      "metadata": {
        "id": "meprB6iXv9cS"
      },
      "execution_count": null,
      "outputs": []
    },
    {
      "cell_type": "code",
      "source": [
        "pluto.draw_image_rain(pluto.df_people, drop_length=20, drop_width=1,blur_value=1)"
      ],
      "metadata": {
        "id": "4ezxTK4Ehy5Q"
      },
      "execution_count": null,
      "outputs": []
    },
    {
      "cell_type": "code",
      "source": [
        "pluto.draw_image_rain(pluto.df_fungi,drop_length=5)"
      ],
      "metadata": {
        "id": "9ldeE8t6hy9G"
      },
      "execution_count": null,
      "outputs": []
    },
    {
      "cell_type": "markdown",
      "source": [
        "## Sepia"
      ],
      "metadata": {
        "id": "Dd-5Q3jJyqkb"
      }
    },
    {
      "cell_type": "code",
      "source": [
        "# %%writefile -a {pluto_chapter_3}\n",
        "\n",
        "@add_method(PacktDataAug)\n",
        "def draw_image_sepia(self,df,bsize=5):\n",
        "  aug_album = albumentations.ToSepia(always_apply=True, p=1.0)\n",
        "  self._draw_image_album(df,aug_album,bsize)\n",
        "  return"
      ],
      "metadata": {
        "id": "PAM5pBedyqxH"
      },
      "execution_count": null,
      "outputs": []
    },
    {
      "cell_type": "code",
      "source": [
        "pluto.draw_image_sepia(pluto.df_people)"
      ],
      "metadata": {
        "id": "qKhdnEhoyq0Q"
      },
      "execution_count": null,
      "outputs": []
    },
    {
      "cell_type": "code",
      "source": [
        "pluto.draw_image_sepia(pluto.df_fungi)"
      ],
      "metadata": {
        "id": "mZXrDOEJyq4F"
      },
      "execution_count": null,
      "outputs": []
    },
    {
      "cell_type": "markdown",
      "source": [
        "## FancyPCA"
      ],
      "metadata": {
        "id": "kgZdYdzk0VqC"
      }
    },
    {
      "cell_type": "code",
      "source": [
        "# %%writefile -a {pluto_chapter_3}\n",
        "\n",
        "@add_method(PacktDataAug)\n",
        "def draw_image_fancyPCA(self,df,alpha=0.1,bsize=5):\n",
        "  aug_album = albumentations.FancyPCA(alpha=alpha, always_apply=True, p=1.0)\n",
        "  self._draw_image_album(df,aug_album,bsize)\n",
        "  return"
      ],
      "metadata": {
        "id": "4c-PqTZUyq79"
      },
      "execution_count": null,
      "outputs": []
    },
    {
      "cell_type": "code",
      "source": [
        "pluto.draw_image_fancyPCA(pluto.df_people,alpha=5.0,bsize=2)"
      ],
      "metadata": {
        "id": "O1Go4Ge8yq-k"
      },
      "execution_count": null,
      "outputs": []
    },
    {
      "cell_type": "code",
      "source": [
        "pluto.draw_image_fancyPCA(pluto.df_food,alpha=0.5,bsize=2)"
      ],
      "metadata": {
        "id": "cnZN0JC40Ysi"
      },
      "execution_count": null,
      "outputs": []
    },
    {
      "cell_type": "markdown",
      "source": [
        "# Random Erasing"
      ],
      "metadata": {
        "id": "15uByYkn2LAX"
      }
    },
    {
      "cell_type": "code",
      "source": [
        "# %%writefile -a {pluto_chapter_3}\n",
        "\n",
        "@add_method(PacktDataAug)\n",
        "def draw_image_erasing(self,df,bsize=8,max_count=5):\n",
        "  aug = [fastai.vision.augment.RandomErasing(p=1.0,max_count=max_count)]\n",
        "  itfms = fastai.vision.augment.Resize(480)\n",
        "  dsl_org = self._make_data_loader(df, aug,itfms)\n",
        "  dsl_org.show_batch(max_n=bsize)\n",
        "  return dsl_org"
      ],
      "metadata": {
        "id": "I5QNeR_P2LLd"
      },
      "execution_count": null,
      "outputs": []
    },
    {
      "cell_type": "code",
      "source": [
        "pluto.dls_people = pluto.draw_image_erasing(pluto.df_people,bsize=6, max_count=5)"
      ],
      "metadata": {
        "id": "SUw9X3YO2LOm"
      },
      "execution_count": null,
      "outputs": []
    },
    {
      "cell_type": "code",
      "source": [
        "pluto.dls_food = pluto.draw_image_erasing(pluto.df_food,bsize=6,max_count=4)"
      ],
      "metadata": {
        "id": "V7FgEVbb0YwD"
      },
      "execution_count": null,
      "outputs": []
    },
    {
      "cell_type": "markdown",
      "source": [
        "# Combination"
      ],
      "metadata": {
        "id": "4OMdms3tO4V6"
      }
    },
    {
      "cell_type": "code",
      "source": [
        "#"
      ],
      "metadata": {
        "id": "4QRf0fXy0YzG"
      },
      "execution_count": null,
      "outputs": []
    },
    {
      "cell_type": "markdown",
      "source": [
        "## draw table"
      ],
      "metadata": {
        "id": "pTm8mMAkO-YJ"
      }
    },
    {
      "cell_type": "code",
      "source": [
        "# %%writefile -a {pluto_chapter_3}\n",
        "\n",
        "@add_method(PacktDataAug)\n",
        "def print_safe_parameters(self):\n",
        "  data = [['Horizontal Flip','NA','Yes','Yes','Yes','Yes','Yes',],\n",
        "    ['Vertical Flip','NA','NA','NA','Yes','Yes','NA',],\n",
        "    ['Croping and Padding','NA','pad=border','pad=border','pad=reflection','pad=reflection','pad=zeros',],\n",
        "    ['Rotation','NA','max_rotate=25.0','max_rotate=25.0','max_rotate=180.0','max_rotate=180.0','max_rotate=16.0',],\n",
        "    ['Warping','NA','magnitude=0.3','magnitude=0.3','magnitude=0.4','magnitude=0.4','magnitude=0.3',],\n",
        "    ['Lighting','brightness=0.2','brightness=0.3','brightness=0.3','brightness=0.4','brightness=0.4','brightness=0.3',],\n",
        "    ['Grayscale','NA','NA','NA','NA','NA','Yes',],\n",
        "    ['Contrast','contrast=0.1','contrast=0.3','contrast=0.3','contrast=0.3','contrast=0.4','contrast=0.4',],\n",
        "    ['Saturation','NA','saturation=3.5','saturation=2.0','saturation=3.0','saturation=3.0','saturation=2.5',],\n",
        "    ['Hue Shifting','NA','NA','NA','hue=0.15','hue=0.2','hue=0.2',],\n",
        "    ['Noise Injection','limit=(100.0, 300.0)','limit=(300.0, 500.0)','limit=(200.0, 400.0)','limit=(200.0, 400.0)','limit=(300.0, 400.0)','limit=(300.0, 500.0)',],\n",
        "    ['Sun Flare','NA','NA','radius=200','NA','NA','NA',],\n",
        "    ['Rain','NA','NA','length=20','NA','NA','NA',],\n",
        "    ['Sepia','NA','Yes','NA','NA','NA','NA',],\n",
        "    ['FancyPCA','NA','alpha=0.5','alpha=0.5','alpha=0.5','alpha=0.5','NA',],\n",
        "    ['Random Erasing','NA','max_count=3','max_count=3','max_count=4','max_count=4','NA',]]\n",
        "  # Create the pandas DataFrame\n",
        "  df = pandas.DataFrame(data, columns=['Filter','Covid-19', 'People', 'Fungi', 'Sea Animal', 'Food', 'Mall Crowd'])\n",
        "  #\n",
        "  display(df[['Filter','Covid-19', 'People', 'Fungi']].style.set_table_styles(self._fetch_larger_font()))\n",
        "  display(df[['Filter','Sea Animal', 'Food', 'Mall Crowd']].style.set_table_styles(self._fetch_larger_font()))\n",
        "  return"
      ],
      "metadata": {
        "id": "Rr_qx52jPJ83"
      },
      "execution_count": null,
      "outputs": []
    },
    {
      "cell_type": "code",
      "source": [
        "pluto.print_safe_parameters()"
      ],
      "metadata": {
        "id": "W8t4oN04PKAQ"
      },
      "execution_count": null,
      "outputs": []
    },
    {
      "cell_type": "markdown",
      "source": [
        "## draw augment covid-19"
      ],
      "metadata": {
        "id": "6wTmkF7Slmzf"
      }
    },
    {
      "cell_type": "code",
      "source": [
        "# %%writefile -a {pluto_chapter_3}\n",
        "\n",
        "class AlbumentationsTransform(DisplayedTransform):\n",
        "  split_idx,order=0,2\n",
        "  def __init__(self, train_aug): store_attr()\n",
        "  \n",
        "  def encodes(self, img: fastai.vision.core.PILImage):\n",
        "    aug_img = self.train_aug(image=numpy.array(img))['image']\n",
        "    return fastai.vision.core.PILImage.create(aug_img)"
      ],
      "metadata": {
        "id": "w8ykI6QJp4_4"
      },
      "execution_count": null,
      "outputs": []
    },
    {
      "cell_type": "code",
      "source": [
        "# %%writefile -a {pluto_chapter_3}\n",
        "\n",
        "@add_method(PacktDataAug)\n",
        "def _fetch_album_covid19(self):\n",
        "  return albumentations.Compose([\n",
        "  albumentations.GaussNoise(var_limit=(100.0, 300.0), p=0.5)\n",
        "  ])\n",
        "#\n",
        "@add_method(PacktDataAug)\n",
        "def draw_augment_covid19(self,df,bsize=15):\n",
        "  aug = [\n",
        "    fastai.vision.augment.Brightness(max_lighting=0.3,p=0.5),\n",
        "    fastai.vision.augment.Contrast(max_lighting=0.4, p=0.5),\n",
        "    AlbumentationsTransform(self._fetch_album_covid19())\n",
        "    ]\n",
        "  itfms = fastai.vision.augment.Resize(480)\n",
        "  dsl_org = self._make_data_loader(df, aug,itfms)\n",
        "  dsl_org.show_batch(max_n=bsize)\n",
        "  return dsl_org"
      ],
      "metadata": {
        "id": "tXPcdNSJPKGz"
      },
      "execution_count": null,
      "outputs": []
    },
    {
      "cell_type": "code",
      "source": [
        "pluto.dls_covid19 = pluto.draw_augment_covid19(pluto.df_covid19)"
      ],
      "metadata": {
        "id": "z3x0cf9aPKKD"
      },
      "execution_count": null,
      "outputs": []
    },
    {
      "cell_type": "markdown",
      "source": [
        "## Draw augment People"
      ],
      "metadata": {
        "id": "45nZ61SzeRZ6"
      }
    },
    {
      "cell_type": "code",
      "source": [
        "# %%writefile -a {pluto_chapter_3}\n",
        "\n",
        "@add_method(PacktDataAug)\n",
        "def _fetch_album_people(self):\n",
        "  return albumentations.Compose([\n",
        "  albumentations.ColorJitter(brightness=0.3, contrast=0.4, saturation=3.5,hue=0.0, p=0.5),\n",
        "  albumentations.ToSepia(p=0.5),\n",
        "  albumentations.FancyPCA(alpha=0.5, p=0.5),\n",
        "  albumentations.GaussNoise(var_limit=(300.0, 500.0), p=0.5)\n",
        "  ])\n",
        "#\n",
        "@add_method(PacktDataAug)\n",
        "def draw_augment_people(self,df,bsize=15):\n",
        "  aug = [\n",
        "    fastai.vision.augment.Flip(p=0.5),\n",
        "    fastai.vision.augment.Rotate(25.0,p=0.5,pad_mode='border'),\n",
        "    fastai.vision.augment.Warp(magnitude=0.3, pad_mode='border',p=0.5),\n",
        "    fastai.vision.augment.RandomErasing(p=0.5,max_count=2),\n",
        "    AlbumentationsTransform(self._fetch_album_people())\n",
        "    ]\n",
        "  itfms = fastai.vision.augment.Resize(480)\n",
        "  dsl_org = self._make_data_loader(df, aug,itfms)\n",
        "  dsl_org.show_batch(max_n=bsize)\n",
        "  return dsl_org"
      ],
      "metadata": {
        "id": "nTjOGn50PKNB"
      },
      "execution_count": null,
      "outputs": []
    },
    {
      "cell_type": "code",
      "source": [
        "pluto.dls_people = pluto.draw_augment_people(pluto.df_people)"
      ],
      "metadata": {
        "id": "jE8saIhsPKQM"
      },
      "execution_count": null,
      "outputs": []
    },
    {
      "cell_type": "markdown",
      "source": [
        "## draw augment fungi"
      ],
      "metadata": {
        "id": "I0hBZVpGjLVg"
      }
    },
    {
      "cell_type": "code",
      "source": [
        "# %%writefile -a {pluto_chapter_3}\n",
        "\n",
        "@add_method(PacktDataAug)\n",
        "def _fetch_album_fungi(self):\n",
        "  return albumentations.Compose([\n",
        "  albumentations.ColorJitter(brightness=0.3, contrast=0.4, saturation=2.0,hue=0.0, p=0.5),\n",
        "  albumentations.FancyPCA(alpha=0.5, p=0.5),\n",
        "  albumentations.RandomSunFlare(flare_roi=(0, 0, 1, 0.5),src_radius=200, always_apply=True, p=0.5),\n",
        "  albumentations.RandomRain(drop_length=20, drop_width=1.1,blur_value=1.1,always_apply=True, p=0.5),\n",
        "  albumentations.GaussNoise(var_limit=(200.0, 400.0), p=0.5)\n",
        "  ])\n",
        "#\n",
        "@add_method(PacktDataAug)\n",
        "def draw_augment_fungi(self,df,bsize=15):\n",
        "  aug = [\n",
        "    fastai.vision.augment.Flip(p=0.5),\n",
        "    fastai.vision.augment.Rotate(25.0,p=0.5,pad_mode='border'),\n",
        "    fastai.vision.augment.Warp(magnitude=0.3, pad_mode='border',p=0.5),\n",
        "    fastai.vision.augment.RandomErasing(p=0.5,max_count=2),\n",
        "    AlbumentationsTransform(self._fetch_album_fungi())\n",
        "    ]\n",
        "  itfms = fastai.vision.augment.Resize(480)\n",
        "  dsl_org = self._make_data_loader(df, aug,itfms)\n",
        "  dsl_org.show_batch(max_n=bsize)\n",
        "  return dsl_org"
      ],
      "metadata": {
        "id": "5I1RV8eFjLoZ"
      },
      "execution_count": null,
      "outputs": []
    },
    {
      "cell_type": "code",
      "source": [
        "pluto.dls_fungi = pluto.draw_augment_fungi(pluto.df_fungi)"
      ],
      "metadata": {
        "id": "c724mKaZjLr3"
      },
      "execution_count": null,
      "outputs": []
    },
    {
      "cell_type": "markdown",
      "source": [
        "## draw augment sea animal"
      ],
      "metadata": {
        "id": "p1fWrT7AmTo5"
      }
    },
    {
      "cell_type": "code",
      "source": [
        "# %%writefile -a {pluto_chapter_3}\n",
        "\n",
        "@add_method(PacktDataAug)\n",
        "def _fetch_album_sea_animal(self):\n",
        "  return albumentations.Compose([\n",
        "  albumentations.ColorJitter(brightness=0.4, contrast=0.4, saturation=2.0,hue=1.5, p=0.5),\n",
        "  albumentations.FancyPCA(alpha=0.5, p=0.5),\n",
        "  albumentations.GaussNoise(var_limit=(200.0, 400.0), p=0.5)\n",
        "  ])\n",
        "#\n",
        "@add_method(PacktDataAug)\n",
        "def draw_augment_sea_animal(self,df,bsize=15):\n",
        "  aug = [\n",
        "    fastai.vision.augment.Dihedral(p=0.5,pad_mode='reflection'),\n",
        "    fastai.vision.augment.Rotate(180.0,p=0.5,pad_mode='reflection'),\n",
        "    fastai.vision.augment.Warp(magnitude=0.3, pad_mode='reflection',p=0.5),\n",
        "    fastai.vision.augment.RandomErasing(p=0.5,max_count=2),\n",
        "    AlbumentationsTransform(self._fetch_album_sea_animal())\n",
        "    ]\n",
        "  itfms = fastai.vision.augment.Resize(480)\n",
        "  dsl_org = self._make_data_loader(df, aug,itfms)\n",
        "  dsl_org.show_batch(max_n=bsize)\n",
        "  return dsl_org"
      ],
      "metadata": {
        "id": "0fccNxFRjLvM"
      },
      "execution_count": null,
      "outputs": []
    },
    {
      "cell_type": "code",
      "source": [
        "pluto.dls_sea_animal = pluto.draw_augment_sea_animal(pluto.df_sea_animal)"
      ],
      "metadata": {
        "id": "ZAjTmOPXjLyn"
      },
      "execution_count": null,
      "outputs": []
    },
    {
      "cell_type": "markdown",
      "source": [
        "## draw augment food"
      ],
      "metadata": {
        "id": "GEKhlp-HoI15"
      }
    },
    {
      "cell_type": "code",
      "source": [
        "# %%writefile -a {pluto_chapter_3}\n",
        "\n",
        "@add_method(PacktDataAug)\n",
        "def _fetch_album_food(self):\n",
        "  return albumentations.Compose([\n",
        "  albumentations.ColorJitter(brightness=0.4, contrast=0.4, saturation=2.0,hue=1.5, p=0.5),\n",
        "  albumentations.FancyPCA(alpha=0.5, p=0.5),\n",
        "  albumentations.GaussNoise(var_limit=(200.0, 400.0), p=0.5)\n",
        "  ])\n",
        "#\n",
        "@add_method(PacktDataAug)\n",
        "def draw_augment_food(self,df,bsize=15):\n",
        "  aug = [\n",
        "    fastai.vision.augment.Dihedral(p=0.5,pad_mode='reflection'),\n",
        "    fastai.vision.augment.Rotate(180.0,p=0.5,pad_mode='reflection'),\n",
        "    fastai.vision.augment.Warp(magnitude=0.3, pad_mode='reflection',p=0.5),\n",
        "    fastai.vision.augment.RandomErasing(p=0.5,max_count=2),\n",
        "    AlbumentationsTransform(self._fetch_album_food())\n",
        "    ]\n",
        "  itfms = fastai.vision.augment.Resize(480)\n",
        "  dsl_org = self._make_data_loader(df, aug,itfms)\n",
        "  dsl_org.show_batch(max_n=bsize)\n",
        "  return dsl_org"
      ],
      "metadata": {
        "id": "tfu5Kv2NoIMP"
      },
      "execution_count": null,
      "outputs": []
    },
    {
      "cell_type": "code",
      "source": [
        "pluto.dls_food = pluto.draw_augment_food(pluto.df_food)"
      ],
      "metadata": {
        "id": "nDi1WY8VjMCA"
      },
      "execution_count": null,
      "outputs": []
    },
    {
      "cell_type": "markdown",
      "source": [
        "## draw augment mall crowd"
      ],
      "metadata": {
        "id": "YQ7m-6tnpIYz"
      }
    },
    {
      "cell_type": "code",
      "source": [
        "# %%writefile -a {pluto_chapter_3}\n",
        "\n",
        "@add_method(PacktDataAug)\n",
        "def _fetch_album_crowd(self):\n",
        "  return albumentations.Compose([\n",
        "  albumentations.ColorJitter(brightness=0.3, contrast=0.4, saturation=3.5,hue=0.0, p=0.5),\n",
        "  albumentations.ToSepia(p=0.5),\n",
        "  albumentations.FancyPCA(alpha=0.5, p=0.5),\n",
        "  albumentations.GaussNoise(var_limit=(300.0, 500.0), p=0.5)\n",
        "  ])\n",
        "#\n",
        "@add_method(PacktDataAug)\n",
        "def draw_augment_crowd(self,df,bsize=15):\n",
        "  aug = [\n",
        "    fastai.vision.augment.Flip(p=0.5),\n",
        "    fastai.vision.augment.Rotate(25.0,p=0.5,pad_mode='zeros'),\n",
        "    fastai.vision.augment.Warp(magnitude=0.3, pad_mode='zeros',p=0.5),\n",
        "    fastai.vision.augment.RandomErasing(p=0.5,max_count=2),\n",
        "    AlbumentationsTransform(self._fetch_album_crowd())\n",
        "    ]\n",
        "  itfms = fastai.vision.augment.Resize(480)\n",
        "  dsl_org = self._make_data_loader(df, aug,itfms)\n",
        "  dsl_org.show_batch(max_n=bsize)\n",
        "  return dsl_org"
      ],
      "metadata": {
        "id": "5OkMjxI0PKTa"
      },
      "execution_count": null,
      "outputs": []
    },
    {
      "cell_type": "code",
      "source": [
        "pluto.dls_crowd = pluto.draw_augment_crowd(pluto.df_crowd)"
      ],
      "metadata": {
        "id": "ZVm0_4ezPKWv"
      },
      "execution_count": null,
      "outputs": []
    },
    {
      "cell_type": "code",
      "source": [
        "# end of chapter 3\n",
        "print('end of chapter 3')"
      ],
      "metadata": {
        "id": "ZKW3Ga3zqUkF"
      },
      "execution_count": null,
      "outputs": []
    },
    {
      "cell_type": "markdown",
      "source": [
        "# (Optional) Teaser functions\n",
        "\n",
        "- These function are for the book teaser method"
      ],
      "metadata": {
        "id": "ACAfFhfxWXUu"
      }
    },
    {
      "cell_type": "code",
      "source": [
        "# %%writefile -a {pluto_chapter_3}\n",
        "\n",
        "@add_method(PacktDataAug)\n",
        "def _draw_image_teaser(self,df,aug_album,label='augment image'):\n",
        "\n",
        "  canvas, pic = matplotlib.pyplot.subplots(1, 2, figsize=(12, 6))\n",
        "  #pics = pic.flatten()\n",
        "  # select random images\n",
        "  samp = df.sample(1)\n",
        "  samp.reset_index(drop=True, inplace=True)\n",
        "  #\n",
        "  orig_img = PIL.Image.open(samp.fname[0])\n",
        "  pic[0].imshow(orig_img)\n",
        "  pic[0].set_title('Original')\n",
        "  #\n",
        "  img_numpy = numpy.array(orig_img)\n",
        "  img = aug_album(image=img_numpy)['image']\n",
        "  pic[1].imshow(img)\n",
        "  pic[1].set_title(label)\n",
        "  #\n",
        "  canvas.tight_layout()\n",
        "  self._drop_image(canvas)\n",
        "  canvas.show()\n",
        "  return"
      ],
      "metadata": {
        "id": "vmqsjZpnW3uc"
      },
      "execution_count": null,
      "outputs": []
    },
    {
      "cell_type": "code",
      "source": [
        "@add_method(PacktDataAug)\n",
        "def draw_image_teaser_brightness(self,df,brightness=0.2,label='Brightness'):\n",
        "  aug_album = albumentations.ColorJitter(brightness=brightness,\n",
        "    contrast=0.0, saturation=0.0,hue=0.0,always_apply=True, p=1.0)\n",
        "  self._draw_image_teaser(df,aug_album,label)\n",
        "  return"
      ],
      "metadata": {
        "id": "E-MLsYdPW3zZ"
      },
      "execution_count": null,
      "outputs": []
    },
    {
      "cell_type": "code",
      "source": [
        "pluto.draw_image_teaser_brightness(pluto.df_people, brightness=0.8, label='darken')"
      ],
      "metadata": {
        "id": "UdzUi9J1W34L"
      },
      "execution_count": null,
      "outputs": []
    },
    {
      "cell_type": "code",
      "source": [
        "#\n",
        "\n",
        "@add_method(PacktDataAug)\n",
        "def draw_image_teaser_flip(self,df,label='Verticle Flip'):\n",
        "  aug_album = albumentations.VerticalFlip(always_apply=True, p=1.0)\n",
        "  self._draw_image_teaser(df,aug_album,label)\n",
        "  return"
      ],
      "metadata": {
        "id": "Yv0DesecW38G"
      },
      "execution_count": null,
      "outputs": []
    },
    {
      "cell_type": "code",
      "source": [
        "pluto.draw_image_teaser_flip(pluto.df_people)"
      ],
      "metadata": {
        "id": "2APZJGV5chsv"
      },
      "execution_count": null,
      "outputs": []
    },
    {
      "cell_type": "code",
      "source": [
        "#\n",
        "\n",
        "@add_method(PacktDataAug)\n",
        "def draw_image_teaser_crop(self,df,label='Center Crop'):\n",
        "  aug_album = albumentations.CenterCrop(500, 500, always_apply=True, p=1.0)\n",
        "  self._draw_image_teaser(df,aug_album,label)\n",
        "  return"
      ],
      "metadata": {
        "id": "dIKRorQ4chwe"
      },
      "execution_count": null,
      "outputs": []
    },
    {
      "cell_type": "code",
      "source": [
        "pluto.draw_image_teaser_crop(pluto.df_people)"
      ],
      "metadata": {
        "id": "5KcbUzyFch2_"
      },
      "execution_count": null,
      "outputs": []
    },
    {
      "cell_type": "code",
      "source": [
        "# pluto.fname_id"
      ],
      "metadata": {
        "id": "5Ho5wcmKch6U"
      },
      "execution_count": null,
      "outputs": []
    },
    {
      "cell_type": "code",
      "source": [
        "#\n",
        "\n",
        "@add_method(PacktDataAug)\n",
        "def draw_image_teaser_resize(self,df,label='Resize with squishing mode'):\n",
        "  aug_album = albumentations.Resize(500,500, always_apply=True, p=1.0)\n",
        "  self._draw_image_teaser(df,aug_album,label)\n",
        "  return"
      ],
      "metadata": {
        "id": "6yaLXI-Gch9f"
      },
      "execution_count": null,
      "outputs": []
    },
    {
      "cell_type": "code",
      "source": [
        "pluto.draw_image_teaser_resize(pluto.df_people)"
      ],
      "metadata": {
        "id": "uoRQP6cKciAq"
      },
      "execution_count": null,
      "outputs": []
    },
    {
      "cell_type": "code",
      "source": [
        "albumentations.Rotate()"
      ],
      "metadata": {
        "id": "hztT3xim0Bq3"
      },
      "execution_count": null,
      "outputs": []
    },
    {
      "cell_type": "code",
      "source": [
        "#\n",
        "\n",
        "@add_method(PacktDataAug)\n",
        "def draw_image_teaser_rotate(self,df,label='Rotate and Reflection Padding'):\n",
        "  aug_album = albumentations.Rotate(limit=(40,70), always_apply=True, p=1.0)\n",
        "  self._draw_image_teaser(df,aug_album,label)\n",
        "  return"
      ],
      "metadata": {
        "id": "-GsJxvoy0BuE"
      },
      "execution_count": null,
      "outputs": []
    },
    {
      "cell_type": "code",
      "source": [
        "pluto.draw_image_teaser_rotate(pluto.df_people)"
      ],
      "metadata": {
        "id": "oMcER8vW0Bxq"
      },
      "execution_count": null,
      "outputs": []
    },
    {
      "cell_type": "code",
      "source": [
        "albumentations.GaussNoise()"
      ],
      "metadata": {
        "id": "iRRafkne0B0E"
      },
      "execution_count": null,
      "outputs": []
    },
    {
      "cell_type": "code",
      "source": [
        "#\n",
        "\n",
        "@add_method(PacktDataAug)\n",
        "def draw_image_teaser_noise(self,df,label='Noice injection using Gaussian method'):\n",
        "  aug_album = albumentations.GaussNoise((800, 1000), always_apply=True, p=1.0)\n",
        "  self._draw_image_teaser(df,aug_album,label)\n",
        "  return"
      ],
      "metadata": {
        "id": "yi1BG1bZ0B3z"
      },
      "execution_count": null,
      "outputs": []
    },
    {
      "cell_type": "code",
      "source": [
        "pluto.draw_image_teaser_noise(pluto.df_people)"
      ],
      "metadata": {
        "id": "FxoO4aZJ0B6F"
      },
      "execution_count": null,
      "outputs": []
    },
    {
      "cell_type": "code",
      "source": [
        "# pluto.fname_id"
      ],
      "metadata": {
        "id": "0eLZeo120B9V"
      },
      "execution_count": null,
      "outputs": []
    },
    {
      "cell_type": "code",
      "source": [
        "#\n",
        "\n",
        "@add_method(PacktDataAug)\n",
        "def draw_image_teaser_hue(self,df,label='Hue shifting'):\n",
        "  aug_album = albumentations.ColorJitter(brightness=0.0,\n",
        "    contrast=0.0, saturation=0.0,hue=0.5,always_apply=True, p=1.0)\n",
        "  self._draw_image_teaser(df,aug_album,label)\n",
        "  return"
      ],
      "metadata": {
        "id": "kfDdKtUyCymQ"
      },
      "execution_count": null,
      "outputs": []
    },
    {
      "cell_type": "code",
      "source": [
        "pluto.draw_image_teaser_hue(pluto.df_people)"
      ],
      "metadata": {
        "id": "arKWUjguCypH"
      },
      "execution_count": null,
      "outputs": []
    },
    {
      "cell_type": "markdown",
      "source": [
        "# Push up all changes (Optional)"
      ],
      "metadata": {
        "id": "LEj7fgaIN9_S"
      }
    },
    {
      "cell_type": "markdown",
      "source": [
        "- username: [your email or username]\n",
        "\n",
        "- password: [use the token]"
      ],
      "metadata": {
        "id": "lHXRf21BT9N8"
      }
    },
    {
      "cell_type": "code",
      "source": [
        "# import os\n",
        "# f = 'Data-Augmentation-with-Python'\n",
        "# os.chdir(f)\n",
        "# !git add -A\n",
        "# !git config --global user.email \"duc.haba@gmail.com\"\n",
        "# !git config --global user.name \"duchaba\"\n",
        "# !git commit -m \"end of session\"\n",
        "# # do the git push in the xterm console\n",
        "# #!git push"
      ],
      "metadata": {
        "id": "eSXJKJFlOEeE"
      },
      "execution_count": null,
      "outputs": []
    },
    {
      "cell_type": "code",
      "source": [
        "#use the xterm\n",
        "#git push"
      ],
      "metadata": {
        "id": "4gKeXNcuOEhM"
      },
      "execution_count": null,
      "outputs": []
    },
    {
      "cell_type": "code",
      "source": [
        "# import google.colab\n",
        "# import datetime\n",
        "# @add_method(PacktDataAug)\n",
        "# def zip_download(self,dname='/content/Data-Augmentation-with-Python/pluto_img'):\n",
        "#   d = datetime.datetime.now()\n",
        "#   d = d.strftime('%Y%m%d_')\n",
        "#   fname = f'img{d}{self.fname_id}.zip'\n",
        "#   !zip {fname} {dname}/*\n",
        "#   google.colab.files.download(fname)\n",
        "#   return"
      ],
      "metadata": {
        "id": "KxyU0319pHhl"
      },
      "execution_count": null,
      "outputs": []
    },
    {
      "cell_type": "code",
      "source": [
        "# pluto.zip_download()"
      ],
      "metadata": {
        "id": "M7_SENWOph3B"
      },
      "execution_count": null,
      "outputs": []
    },
    {
      "cell_type": "markdown",
      "metadata": {
        "id": "EzO7lDYDWeLz"
      },
      "source": [
        "# Summary "
      ]
    },
    {
      "cell_type": "markdown",
      "metadata": {
        "id": "X2iUPf3EWePd"
      },
      "source": [
        "Every chaper will begin with same base class \"PacktDataAug\".\n",
        "\n",
        "✋ FAIR WARNING:\n",
        "\n",
        "- The coding uses long and complete function path name.\n",
        "\n",
        "- I wrote the code for easy to understand and not for compactness, fast execution, nor cleaverness.\n",
        "\n",
        "- Use Xterm to debug cloud server\n",
        "\n"
      ]
    },
    {
      "cell_type": "code",
      "source": [
        "# !pip install colab-xterm\n",
        "# %load_ext colabxterm\n",
        "# %xterm"
      ],
      "metadata": {
        "id": "vXRG3KaeWbGx"
      },
      "execution_count": null,
      "outputs": []
    }
  ],
  "metadata": {
    "accelerator": "GPU",
    "colab": {
      "provenance": [],
      "toc_visible": true,
      "authorship_tag": "ABX9TyMxyZqdCDX4wlrRJMOARVsl",
      "include_colab_link": true
    },
    "gpuClass": "standard",
    "kernelspec": {
      "display_name": "Python 3",
      "name": "python3"
    },
    "language_info": {
      "name": "python"
    }
  },
  "nbformat": 4,
  "nbformat_minor": 0
}