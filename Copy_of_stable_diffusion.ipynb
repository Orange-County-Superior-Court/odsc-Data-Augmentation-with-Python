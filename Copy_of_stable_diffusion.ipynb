{
  "nbformat": 4,
  "nbformat_minor": 0,
  "metadata": {
    "colab": {
      "private_outputs": true,
      "provenance": [],
      "include_colab_link": true
    },
    "kernelspec": {
      "name": "python3",
      "display_name": "Python 3"
    },
    "language_info": {
      "name": "python"
    },
    "accelerator": "GPU",
    "gpuClass": "premium"
  },
  "cells": [
    {
      "cell_type": "markdown",
      "metadata": {
        "id": "view-in-github",
        "colab_type": "text"
      },
      "source": [
        "<a href=\"https://colab.research.google.com/github/duchaba/Data-Augmentation-with-Python/blob/main/Copy_of_stable_diffusion.ipynb\" target=\"_parent\"><img src=\"https://colab.research.google.com/assets/colab-badge.svg\" alt=\"Open In Colab\"/></a>"
      ]
    },
    {
      "cell_type": "code",
      "execution_count": null,
      "metadata": {
        "id": "QuFz5uGi-h6G"
      },
      "outputs": [],
      "source": [
        "%pip install --quiet --upgrade diffusers transformers scipy mediapy"
      ]
    },
    {
      "cell_type": "code",
      "source": [
        "!nvidia-smi -L  "
      ],
      "metadata": {
        "id": "dOM3HYIMnIbm"
      },
      "execution_count": null,
      "outputs": []
    },
    {
      "cell_type": "code",
      "source": [
        "!git config --global credential.helper store\n"
      ],
      "metadata": {
        "id": "06sYpF1zR6Y8"
      },
      "execution_count": null,
      "outputs": []
    },
    {
      "cell_type": "code",
      "source": [
        "!huggingface-cli login"
      ],
      "metadata": {
        "id": "GR4vF2bw-sHR"
      },
      "execution_count": null,
      "outputs": []
    },
    {
      "cell_type": "code",
      "source": [
        "!python --version"
      ],
      "metadata": {
        "id": "8fd0mEZj4509"
      },
      "execution_count": null,
      "outputs": []
    },
    {
      "cell_type": "code",
      "source": [
        "# !pip install --upgrade diffusers[torch]"
      ],
      "metadata": {
        "id": "3s8TB1b83SJv"
      },
      "execution_count": null,
      "outputs": []
    },
    {
      "cell_type": "code",
      "source": [
        "# !pip install diffusers[torch]"
      ],
      "metadata": {
        "id": "4GPM8yQc1LW5"
      },
      "execution_count": null,
      "outputs": []
    },
    {
      "cell_type": "code",
      "source": [
        "# !pip install accelerate"
      ],
      "metadata": {
        "id": "gsyeKi6T1Bu2"
      },
      "execution_count": null,
      "outputs": []
    },
    {
      "cell_type": "code",
      "source": [
        "from diffusers import PNDMScheduler, DDIMScheduler, LMSDiscreteScheduler\n",
        "\n",
        "scheduler = PNDMScheduler(beta_start=0.00085, beta_end=0.012, beta_schedule=\"scaled_linear\", skip_prk_steps=True)\n",
        "# scheduler = DDIMScheduler(beta_start=0.00085, beta_end=0.012, beta_schedule=\"scaled_linear\")\n",
        "# scheduler = LMSDiscreteScheduler(beta_start=0.00085, beta_end=0.012, beta_schedule=\"scaled_linear\")"
      ],
      "metadata": {
        "id": "vF9Q0xKX8gLR"
      },
      "execution_count": null,
      "outputs": []
    },
    {
      "cell_type": "code",
      "source": [
        "# https://huggingface.co/CompVis/stable-diffusion-v1-4\n",
        "# agree to the download if failed below"
      ],
      "metadata": {
        "id": "dUwLYLygsg0R"
      },
      "execution_count": null,
      "outputs": []
    },
    {
      "cell_type": "code",
      "source": [
        "import mediapy as media\n",
        "import torch\n",
        "from torch import autocast\n",
        "from diffusers import StableDiffusionPipeline\n",
        "\n",
        "#model_id = \"sd-v1-4.ckpt\"\n",
        "model_id = 'CompVis/stable-diffusion-v1-4'\n",
        "device = \"cuda\"\n",
        "remove_safety = False\n",
        "\n",
        "\n",
        "pipe = StableDiffusionPipeline.from_pretrained(model_id, \n",
        "  scheduler=scheduler, torch_dtype=torch.float16, \n",
        "  revision=\"fp16\", use_auth_token=True)\n",
        "if remove_safety:\n",
        "  pipe.safety_checker = lambda images, clip_input: (images, False)\n",
        "pipe = pipe.to(device)\n",
        "\n"
      ],
      "metadata": {
        "id": "bG2hkmSEvByV"
      },
      "execution_count": null,
      "outputs": []
    },
    {
      "cell_type": "code",
      "source": [
        "!ls -la /lib"
      ],
      "metadata": {
        "id": "qLww4oobDN4G"
      },
      "execution_count": null,
      "outputs": []
    },
    {
      "cell_type": "code",
      "source": [
        "import torch\n",
        "import torch.cuda\n",
        "import time\n",
        "import gc\n",
        "gc.enable()\n",
        "img_id = 0\n",
        "def draw_it(prompt='digital dog art deco style',bsize=4):\n",
        "  try:\n",
        "    torch.cuda.empty_cache()\n",
        "    print(\"GPU begin:\")\n",
        "    print('Allocated:', round(torch.cuda.memory_allocated(0)/1024**3,1), 'GB')\n",
        "    print('Cached:   ', round(torch.cuda.memory_reserved(0)/1024**3,1), 'GB')\n",
        "    #\n",
        "    prompts = [ prompt ] * bsize\n",
        "    with autocast(\"cuda\"):\n",
        "      images = pipe(prompts, guidance_scale=7.5, num_inference_steps=50).images  \n",
        "    #\n",
        "    media.show_images(images)\n",
        "    #\n",
        "    # for i in images:\n",
        "    #   i.save(\"output_\" + str(img_id) + \".jpg\")\n",
        "    #   img_id = img_id + 1\n",
        "    #\n",
        "    torch.cuda.empty_cache()\n",
        "    gc.collect()\n",
        "    print(\"GPU empty cache:\")\n",
        "    print('Allocated:', round(torch.cuda.memory_allocated(0)/1024**3,1), 'GB')\n",
        "    print('Cached:   ', round(torch.cuda.memory_reserved(0)/1024**3,1), 'GB')\n",
        "    time.sleep(4)\n",
        "  except (Exception, KeyboardInterrupt) as e:\n",
        "    torch.cuda.empty_cache()\n",
        "    gc.collect()\n",
        "    print(\"\\n***OPPS! Out of GPU RAM... System clearing out GPU RAM...***\")\n",
        "    print(\"\\nStored GPU RAM should be around 2.6 GB (see below):\")\n",
        "    print('Allocated:', round(torch.cuda.memory_allocated(0)/1024**3,1), 'GB')\n",
        "    print('Cached:   ', round(torch.cuda.memory_reserved(0)/1024**3,1), 'GB')\n",
        "    !nvidia-smi -L \n",
        "    print('\\nIf above is more then 2.6 GB OR NOT Telsa T4 then you might have to reset the Notebook and start from begining.')\n",
        "    time.sleep(5)\n",
        "  return "
      ],
      "metadata": {
        "id": "EIH_QcG6ztC8"
      },
      "execution_count": null,
      "outputs": []
    },
    {
      "cell_type": "markdown",
      "source": [
        "# Ready to test"
      ],
      "metadata": {
        "id": "4t_oGcJmwYjW"
      }
    },
    {
      "cell_type": "code",
      "source": [
        "draw_it(\"a house designed by frank lloyd wright\")"
      ],
      "metadata": {
        "id": "d6v9CkDfxl_I"
      },
      "execution_count": null,
      "outputs": []
    },
    {
      "cell_type": "code",
      "source": [
        "draw_it(\"a house designed by frank lloyd wright\")"
      ],
      "metadata": {
        "id": "uAwz1WdDSLV3"
      },
      "execution_count": null,
      "outputs": []
    },
    {
      "cell_type": "code",
      "source": [
        "draw_it(\"a house designed by frank lloyd wright\")"
      ],
      "metadata": {
        "id": "4IYNaAupYJDp"
      },
      "execution_count": null,
      "outputs": []
    },
    {
      "cell_type": "code",
      "source": [
        "draw_it(\"a buileint in 20 stories designed by frank lloyd wright\")"
      ],
      "metadata": {
        "id": "Cl6a3uKxaHwp"
      },
      "execution_count": null,
      "outputs": []
    },
    {
      "cell_type": "code",
      "source": [
        "draw_it(\"a house by Ludwig Mies van der Rohe\")"
      ],
      "metadata": {
        "id": "Sy6OTzgmbC7W"
      },
      "execution_count": null,
      "outputs": []
    },
    {
      "cell_type": "code",
      "source": [
        "draw_it(\"a house by Ludwig Mies van der Rohe\")"
      ],
      "metadata": {
        "id": "9rJIE6RdbcYT"
      },
      "execution_count": null,
      "outputs": []
    },
    {
      "cell_type": "code",
      "source": [
        "draw_it(\"a black modern mansion on an island by itself, award winning, 8k, ultra realistic, by Ludwig Mies van der Rohe\")"
      ],
      "metadata": {
        "id": "ORBYzcM4cCJf"
      },
      "execution_count": null,
      "outputs": []
    },
    {
      "cell_type": "code",
      "source": [
        "draw_it(\"a building designed by frank lloyd wright in cityscape illustration \")"
      ],
      "metadata": {
        "id": "IRPmr72bYDY-"
      },
      "execution_count": null,
      "outputs": []
    },
    {
      "cell_type": "code",
      "source": [
        "import time\n",
        "time.sleep(5)"
      ],
      "metadata": {
        "id": "ruf_tupEvg4L"
      },
      "execution_count": null,
      "outputs": []
    },
    {
      "cell_type": "code",
      "source": [
        "draw_it(\"teddy bear ninja mask, teemo is the newest overwatch character, kings row in the background, octane render, blender render, unreal engine, standing pose, cinematic lighting, symmetrical, never underestimate the power of the scouts code \")"
      ],
      "metadata": {
        "id": "6pkYKi1CLaEJ"
      },
      "execution_count": null,
      "outputs": []
    },
    {
      "cell_type": "code",
      "source": [
        "draw_it(\"3 d goddess close - up profile simple portrait punk with mohawk with ram skull. beautiful intricately detailed japanese crow kitsune mask and clasical japanese kimono. betta fish, jellyfish phoenix, bio luminescent, plasma, ice, water, wind, creature, artwork by tooth wu and wlop and beeple and greg rutkowski \")"
      ],
      "metadata": {
        "id": "NedvnP2zO6h8"
      },
      "execution_count": null,
      "outputs": []
    },
    {
      "cell_type": "code",
      "source": [
        "draw_it(\"eyelash closeup, smiling face, silhouette of a portrait face close - up of camaron, vector art style, medium shot, intricate, elegant, highly detailed, digital art, ffffound, art by jc leyendecker and sachin teng, eyelash close up\")"
      ],
      "metadata": {
        "id": "oO3ov8bMQGTg"
      },
      "execution_count": null,
      "outputs": []
    },
    {
      "cell_type": "code",
      "source": [
        "draw_it(\"teddy bear as japanese anime masked ninja in cityscape\")"
      ],
      "metadata": {
        "id": "DMYshqDAKCps"
      },
      "execution_count": null,
      "outputs": []
    },
    {
      "cell_type": "code",
      "source": [
        "draw_it(\"body portrait of beautiful roman young pincess wearing a flowing silk robe, wearing a crown of laurel, full body portrait of a young beautiful woman swimming low angle by terry o'neill intricate, elegant, highly detailed, digital painting, artstation, concept art, smooth, sharp focus, illustration, art by artgerm and greg rutkowski and alphonse mucha, 8 k \")"
      ],
      "metadata": {
        "id": "cjllHM_SjFXW"
      },
      "execution_count": null,
      "outputs": []
    },
    {
      "cell_type": "code",
      "source": [
        "draw_it(\"glamorous and sexy nurse in transparent blouse, beautiful, pearlescent skin, natural beauty, seductive eyes and face, elegant girl, natural beauty, very detailed face, seductive lady, full body portrait, natural lights, photorealism, summer vibrancy, cinematic, a portrait by artgerm, rossdraws, Norman Rockwell, magali villeneuve, Gil Elvgren, Alberto Vargas, Earl Moran, Enoch Bolles\")"
      ],
      "metadata": {
        "id": "RX6HKHJvmW9J"
      },
      "execution_count": null,
      "outputs": []
    },
    {
      "cell_type": "code",
      "source": [
        "draw_it(\"a laboratory, ( ( ( ( ( katniss everdeen ) ) ) ) ) as a scientist, wearing a labcoat, is holding a tiny globe, digital art, greg rutkowski, artstation \")"
      ],
      "metadata": {
        "id": "IuCNAAQan08v"
      },
      "execution_count": null,
      "outputs": []
    },
    {
      "cell_type": "code",
      "source": [
        "draw_it(\"photo of futuristic holy futuristic cyborg - robot - painter - artist creating a painting with acrylic paint and brushes in a futuristic artist studio by h. r giger, by, rich deep colors. masterpiece, intricate artwork by tooth wu and wlop and beeple, gaspar noe, james cameron, \")"
      ],
      "metadata": {
        "id": "zrzV5KtjouK3"
      },
      "execution_count": null,
      "outputs": []
    },
    {
      "cell_type": "code",
      "source": [
        "draw_it(\"a girl shopping for clothes, full shot, visible face, ambient lighting, detailed, art by ayami kojima, makoto shinkai, kilian eng \")"
      ],
      "metadata": {
        "id": "NU9VMF6spHCY"
      },
      "execution_count": null,
      "outputs": []
    },
    {
      "cell_type": "code",
      "source": [
        "draw_it(\"a female doctor checking her smartphone. a majestic portrait of a computer algorithm with heart and brain and soul connected to the computer cloud using digital energy beams. digital painting, high detail, 8 k, intricate ornamental details, avant garde, vibrant iridescent colors, green magenta and gold \")"
      ],
      "metadata": {
        "id": "62olYODXrgRI"
      },
      "execution_count": null,
      "outputs": []
    },
    {
      "cell_type": "code",
      "source": [
        "draw_it(\"multiple doctors checking their smartphones. a majestic a computer algorithm with heart and brain. digital painting, high detail, 8 k, intricate ornamental details, avant garde, vibrant iridescent colors, green magenta and gold, futuristic \")"
      ],
      "metadata": {
        "id": "CzKM1jLDsZG_"
      },
      "execution_count": null,
      "outputs": []
    },
    {
      "cell_type": "code",
      "source": [
        "draw_it(\"3 / 4 view of a portrait of cute girl in labcoat, confident pose, pixie, elegant, sharp focus, illustration, highly detailed, concept art, matte, trending on artstation, anime, art by wlop and artgerm and greg rutkowski, ilya kuvshinov, strong strokes, photo of makise kurisu from steins gate \")"
      ],
      "metadata": {
        "id": "tg_NYTlis5eI"
      },
      "execution_count": null,
      "outputs": []
    },
    {
      "cell_type": "code",
      "source": [
        "draw_it(\"retro hospital concept art, 8 k photorealistic, hd, high details, trending on artstation \")"
      ],
      "metadata": {
        "id": "ams8ho66uPZ3"
      },
      "execution_count": null,
      "outputs": []
    },
    {
      "cell_type": "code",
      "source": [
        "draw_it(\"playskool people figures entering a hospital shaped like a plus sign, the hospital is seen from outside and above, matte plastic materials, blue tones, 3 d, redshift, hydri, subsurface scattering, cgi, high quality render, ambient occlusion \")"
      ],
      "metadata": {
        "id": "6blYcXyp2v-s"
      },
      "execution_count": null,
      "outputs": []
    },
    {
      "cell_type": "code",
      "source": [
        "draw_it(\"a portrait of an anthromorphic pitbullwoman wearing a sweater and smiling at the viewer. highly detailed painting by gaston bussiere, craig mullins, j. c. leyendecker 8 k \")"
      ],
      "metadata": {
        "id": "iSMj5XZ74Jja"
      },
      "execution_count": null,
      "outputs": []
    },
    {
      "cell_type": "code",
      "source": [
        "draw_it(\"portrait of a business dog, super detailed, hyper realism, sharp focus, stylized, boxart, octane, medium shot\")"
      ],
      "metadata": {
        "id": "kwRS67hZ42gX"
      },
      "execution_count": null,
      "outputs": []
    },
    {
      "cell_type": "code",
      "source": [
        "draw_it(\"a dog that looks exactly like goofy from disney, realistic, extremely detailed, full body shot, 4 k, cute, funny, professional photography \")"
      ],
      "metadata": {
        "id": "_3r3V7fx4ZLF"
      },
      "execution_count": null,
      "outputs": []
    },
    {
      "cell_type": "code",
      "source": [
        "draw_it('The Hero of Digital Chaos in old west')"
      ],
      "metadata": {
        "id": "C7N-1_Faweb9"
      },
      "execution_count": null,
      "outputs": []
    },
    {
      "cell_type": "code",
      "source": [
        "draw_it(prompt='beautiful girl')"
      ],
      "metadata": {
        "id": "WqApMjP31E0N"
      },
      "execution_count": null,
      "outputs": []
    },
    {
      "cell_type": "code",
      "source": [
        "draw_it(prompt='robot Boris Vallejo')"
      ],
      "metadata": {
        "id": "lWFgS-eH1t7e"
      },
      "execution_count": null,
      "outputs": []
    },
    {
      "cell_type": "code",
      "source": [
        "draw_it(prompt='city Boris Vallejo')"
      ],
      "metadata": {
        "id": "Q2YOKVVt7pJ_"
      },
      "execution_count": null,
      "outputs": []
    },
    {
      "cell_type": "code",
      "source": [
        "# #prompt = \"a photo of an astronaut riding a horse on mars\"\n",
        "# #prompt = 'A dog writes computer code in green garden.'\n",
        "# prompt = \"It was a dark and storming night\"\n",
        "# num_images = 4\n",
        "\n",
        "# prompts = [ prompt ] * num_images\n",
        "# with autocast(\"cuda\"):\n",
        "#     images = pipe(prompts, guidance_scale=7.5, num_inference_steps=50).images  \n",
        "    \n",
        "# media.show_images(images)\n",
        "# images[0].save(\"output.jpg\")"
      ],
      "metadata": {
        "id": "AUc4QJfE-uR9"
      },
      "execution_count": null,
      "outputs": []
    },
    {
      "cell_type": "code",
      "source": [
        "# import torch\n",
        "# import torch.cuda\n",
        "# torch.cuda.empty_cache()"
      ],
      "metadata": {
        "id": "8Ivg1s0HrWfg"
      },
      "execution_count": null,
      "outputs": []
    },
    {
      "cell_type": "code",
      "source": [
        "!nvidia-smi"
      ],
      "metadata": {
        "id": "h8D5kYYhrsjG"
      },
      "execution_count": null,
      "outputs": []
    },
    {
      "cell_type": "code",
      "source": [
        "# prompt = \"digital dog art deco style\"\n",
        "# num_images = 4\n",
        "\n",
        "# prompts = [ prompt ] * num_images\n",
        "# with autocast(\"cuda\"):\n",
        "#     images = pipe(prompts, guidance_scale=7.5, num_inference_steps=50).images  \n",
        "    \n",
        "# media.show_images(images)\n",
        "# images[0].save(\"output.jpg\")"
      ],
      "metadata": {
        "id": "Gbj8GldPrsms"
      },
      "execution_count": null,
      "outputs": []
    },
    {
      "cell_type": "code",
      "source": [
        "# print(torch.cuda.get_device_name(0))\n",
        "# print('Memory Usage:')\n",
        "# print('Allocated:', round(torch.cuda.memory_allocated(0)/1024**3,1), 'GB')\n",
        "# print('Cached:   ', round(torch.cuda.memory_reserved(0)/1024**3,1), 'GB')"
      ],
      "metadata": {
        "id": "a1MpKzh8rsqx"
      },
      "execution_count": null,
      "outputs": []
    },
    {
      "cell_type": "code",
      "source": [
        "# torch.cuda.empty_cache()"
      ],
      "metadata": {
        "id": "aymhaeswueme"
      },
      "execution_count": null,
      "outputs": []
    },
    {
      "cell_type": "code",
      "source": [
        "# print(torch.cuda.get_device_name(0))\n",
        "# print('Memory Usage:')\n",
        "# print('Allocated:', round(torch.cuda.memory_allocated(0)/1024**3,1), 'GB')\n",
        "# print('Cached:   ', round(torch.cuda.memory_reserved(0)/1024**3,1), 'GB')"
      ],
      "metadata": {
        "id": "R9o2Zl-PuiqE"
      },
      "execution_count": null,
      "outputs": []
    },
    {
      "cell_type": "code",
      "source": [
        "# %%time\n",
        "# prompt = \"Garden architecture hospital picaso\"\n",
        "# num_images = 4\n",
        "\n",
        "# prompts = [ prompt ] * num_images\n",
        "# with autocast(\"cuda\"):\n",
        "#     images = pipe(prompts, guidance_scale=7.5, num_inference_steps=50).images  \n",
        "    \n",
        "# media.show_images(images)\n",
        "# images[0].save(\"output.jpg\")"
      ],
      "metadata": {
        "id": "0QdL863Ku_rJ"
      },
      "execution_count": null,
      "outputs": []
    },
    {
      "cell_type": "code",
      "source": [
        "# print(torch.cuda.get_device_name(0))\n",
        "# print('Memory Usage:')\n",
        "# print('Allocated:', round(torch.cuda.memory_allocated(0)/1024**3,1), 'GB')\n",
        "# print('Cached:   ', round(torch.cuda.memory_reserved(0)/1024**3,1), 'GB')\n",
        "# torch.cuda.empty_cache()\n",
        "# print('Memory Usage:')\n",
        "# print('Allocated:', round(torch.cuda.memory_allocated(0)/1024**3,1), 'GB')\n",
        "# print('Cached:   ', round(torch.cuda.memory_reserved(0)/1024**3,1), 'GB')"
      ],
      "metadata": {
        "id": "SA8lqfWXu_uh"
      },
      "execution_count": null,
      "outputs": []
    },
    {
      "cell_type": "code",
      "source": [],
      "metadata": {
        "id": "E3iyidZiu_y0"
      },
      "execution_count": null,
      "outputs": []
    },
    {
      "cell_type": "code",
      "source": [],
      "metadata": {
        "id": "9i_5uszdu_2N"
      },
      "execution_count": null,
      "outputs": []
    },
    {
      "cell_type": "code",
      "source": [],
      "metadata": {
        "id": "zHI9VRUfu_7h"
      },
      "execution_count": null,
      "outputs": []
    }
  ]
}