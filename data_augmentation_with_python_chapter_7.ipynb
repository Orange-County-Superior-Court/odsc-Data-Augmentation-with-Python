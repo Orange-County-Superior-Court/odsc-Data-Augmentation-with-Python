{
  "cells": [
    {
      "cell_type": "markdown",
      "metadata": {
        "id": "view-in-github",
        "colab_type": "text"
      },
      "source": [
        "<a href=\"https://colab.research.google.com/github/duchaba/Data-Augmentation-with-Python/blob/main/data_augmentation_with_python_chapter_7.ipynb\" target=\"_parent\"><img src=\"https://colab.research.google.com/assets/colab-badge.svg\" alt=\"Open In Colab\"/></a>"
      ]
    },
    {
      "cell_type": "markdown",
      "source": [
        "# Data Augmentation with Python, Chapter 7"
      ],
      "metadata": {
        "id": "rad13-eq4fAm"
      }
    },
    {
      "cell_type": "markdown",
      "source": [
        "## 🌻 Welcome to Chapter 5, \"Text Augmentation\"\n",
        "\n",
        "\n",
        "This chapter will cover Audio augmentation using Waveform transformation, and in particular, the following topics:   \n",
        "\n",
        "- Standard audio augmentation techniques \n",
        "\n",
        "- Filters \n",
        "\n",
        "- Audio augmentation libraries \n",
        "\n",
        "- Real-world audio datasets  \n",
        "\n",
        "- Reinforce learning through Python code (the following code)\n",
        "\n",
        "- ✋ STOP: You must set up Kaggle username and app Key in below step."
      ],
      "metadata": {
        "id": "1DlWAB8G4ijz"
      }
    },
    {
      "cell_type": "markdown",
      "source": [
        "# Load Notebook\n"
      ],
      "metadata": {
        "id": "ZZ8-JIXv6jmV"
      }
    },
    {
      "cell_type": "markdown",
      "source": [
        "- This Notebook original link is: \n",
        "  - https://github.com/PacktPublishing/Data-Augmentation-with-Python/blob/main/data_augmentation_with_python_chapter_7.ipynb"
      ],
      "metadata": {
        "id": "dOpu3yYb6rK_"
      }
    },
    {
      "cell_type": "markdown",
      "source": [
        "# GitHub Clone"
      ],
      "metadata": {
        "id": "4b52gSlp60SN"
      }
    },
    {
      "cell_type": "code",
      "source": [
        "# git version should be 2.17.1 or higher\n",
        "!git --version"
      ],
      "metadata": {
        "id": "6oeDAu1u6zWf"
      },
      "execution_count": null,
      "outputs": []
    },
    {
      "cell_type": "code",
      "source": [
        "url = 'https://github.com/PacktPublishing/Data-Augmentation-with-Python'\n",
        "# url = 'https://github.com/duchaba/Data-Augmentation-with-Python'\n",
        "!git clone {url}"
      ],
      "metadata": {
        "id": "J9buwUR767Te"
      },
      "execution_count": null,
      "outputs": []
    },
    {
      "cell_type": "markdown",
      "source": [
        "## Fetch file from URL (Optional)\n",
        "\n",
        "- Uncommend the below 2 code cells if you want to use URL and not Git Clone"
      ],
      "metadata": {
        "id": "lOawA01L7Ok0"
      }
    },
    {
      "cell_type": "code",
      "source": [
        "# import requests\n",
        "# #\n",
        "# def fetch_file(url, dst):\n",
        "#   downloaded_obj = requests.get(url)\n",
        "#   with open(dst, \"wb\") as file:\n",
        "#     file.write(downloaded_obj.content)\n",
        "#   return"
      ],
      "metadata": {
        "id": "HsmQ7rgj67Ww"
      },
      "execution_count": null,
      "outputs": []
    },
    {
      "cell_type": "code",
      "source": [
        "# url = ''\n",
        "# dst = 'pluto_chapter_1.py'\n",
        "# fetch_file(url,dst)"
      ],
      "metadata": {
        "id": "_nKp0nxT67aH"
      },
      "execution_count": null,
      "outputs": []
    },
    {
      "cell_type": "markdown",
      "source": [
        "# Run Pluto\n",
        "\n",
        "- Instantiate up Pluto, aka. \"Pluto, wake up!\""
      ],
      "metadata": {
        "id": "6462KTtr7cFQ"
      }
    },
    {
      "cell_type": "code",
      "source": [
        "# %% CARRY-OVER code install\n",
        "\n",
        "!pip install opendatasets --upgrade\n",
        "!pip install pyspellchecker "
      ],
      "metadata": {
        "id": "jCGiTw16ZxVH"
      },
      "execution_count": null,
      "outputs": []
    },
    {
      "cell_type": "code",
      "source": [
        "#load and run the pluto chapter 1 Python code.\n",
        "pluto_file = 'Data-Augmentation-with-Python/pluto/pluto_chapter_2.py'\n",
        "%run {pluto_file}"
      ],
      "metadata": {
        "id": "u3zbkOO86_WB"
      },
      "execution_count": null,
      "outputs": []
    },
    {
      "cell_type": "markdown",
      "source": [
        "## Verify Pluto"
      ],
      "metadata": {
        "id": "yhRR0JSf746h"
      }
    },
    {
      "cell_type": "code",
      "source": [
        "pluto.say_sys_info()"
      ],
      "metadata": {
        "id": "nBIw7fiI6_Zy"
      },
      "execution_count": null,
      "outputs": []
    },
    {
      "cell_type": "markdown",
      "source": [
        "## (Optional) Export to .py"
      ],
      "metadata": {
        "id": "LaURlsasaGuo"
      }
    },
    {
      "cell_type": "code",
      "source": [
        "pluto_chapter_5 = 'Data-Augmentation-with-Python/pluto/pluto_chapter_7.py'\n",
        "!cp {pluto_file} {pluto_chapter_5}"
      ],
      "metadata": {
        "id": "Gfx9Ai5Opyqp"
      },
      "execution_count": null,
      "outputs": []
    },
    {
      "cell_type": "markdown",
      "source": [
        "# ✋ Set up Kaggle username and app Key\n",
        "\n",
        "- Install the following libraries, and import it on the Notebook.\n",
        "- Follow by initialize Kaggle username, key and fetch methods.\n",
        "\n",
        "- STOP: Update your Kaggle access username or key first."
      ],
      "metadata": {
        "id": "kQ6ap39x8HyF"
      }
    },
    {
      "cell_type": "code",
      "source": [
        "# %%CARRY-OVER code \n",
        "\n",
        "# -------------------- : --------------------\n",
        "# READ ME\n",
        "# Chapter 2 begin:\n",
        "# Install the following libraries, and import it on the Notebook.\n",
        "# Follow by initialize Kaggle username, key and fetch methods.\n",
        "# STOP: Update your Kaggle access username or key first.\n",
        "# -------------------- : --------------------\n",
        "\n",
        "!pip install opendatasets --upgrade\n",
        "import opendatasets\n",
        "print(\"\\nrequired version 0.1.22 or higher: \", opendatasets.__version__)\n",
        "\n",
        "!pip install pyspellchecker \n",
        "import spellchecker\n",
        "print(\"\\nRequired version 0.7+\", spellchecker.__version__)\n",
        "\n",
        "# STOP: Update your Kaggle access username or key first.\n",
        "pluto.remember_kaggle_access_keys(\"YOUR-USERNAME\", \"YOUR-KEY\")\n",
        "pluto._write_kaggle_credit()\n",
        "import kaggle\n",
        "\n",
        "@add_method(PacktDataAug)\n",
        "def fetch_kaggle_comp_data(self,cname):\n",
        "  #self._write_kaggle_credit()  # need to run only once.\n",
        "  path = pathlib.Path(cname)\n",
        "  kaggle.api.competition_download_cli(str(path))\n",
        "  zipfile.ZipFile(f'{path}.zip').extractall(path)\n",
        "  return\n",
        "\n",
        "@add_method(PacktDataAug)\n",
        "def fetch_kaggle_dataset(self,url,dest=\"kaggle\"):\n",
        "  #self._write_kaggle_credit()    # need to run only once.\n",
        "  opendatasets.download(url,data_dir=dest)\n",
        "  return\n",
        "# -------------------- : --------------------\n"
      ],
      "metadata": {
        "id": "sf4Obdp-77CL"
      },
      "execution_count": null,
      "outputs": []
    },
    {
      "cell_type": "markdown",
      "source": [
        "# Fetch Kaggle Data"
      ],
      "metadata": {
        "id": "5BfHiMQE8XWp"
      }
    },
    {
      "cell_type": "markdown",
      "source": [
        "## Musical Emotions Classification"
      ],
      "metadata": {
        "id": "WSWTfhPU9YjQ"
      }
    },
    {
      "cell_type": "code",
      "source": [
        "%%time\n",
        "url = 'https://www.kaggle.com/datasets/kingofarmy/musical-emotions-classification'\n",
        "pluto.fetch_kaggle_dataset(url)"
      ],
      "metadata": {
        "id": "_TEFhsYs77Go"
      },
      "execution_count": null,
      "outputs": []
    },
    {
      "cell_type": "code",
      "source": [
        "f = 'kaggle/musical-emotions-classification/Train.csv'\n",
        "pluto.df_music_data = pluto.fetch_df(f)\n",
        "pluto.df_music_data.head(3)"
      ],
      "metadata": {
        "id": "_GHi9DnM77Kj"
      },
      "execution_count": null,
      "outputs": []
    },
    {
      "cell_type": "code",
      "source": [
        "# # /content/kaggle/musical-emotions-classification/Audio_Files/Audio_Files/Train/Happy/Happy10200.wav\n",
        "# # remove white space in directory and filename\n",
        "# # run this until no error/output\n",
        "# f = 'kaggle/sea-animals-image-dataste'\n",
        "# #!find {f} -name \"* *\" -type d | rename 's/ /_/g'\n",
        "# !find {f} -name \"* *\" -type f | rename 's/ /_/g'"
      ],
      "metadata": {
        "id": "a4eZj8aBKj-g"
      },
      "execution_count": null,
      "outputs": []
    },
    {
      "cell_type": "code",
      "source": [
        "# %%writefile -a {pluto_chapter_7}\n",
        "\n",
        "pluto.version = 7.0\n",
        "# augment full path\n",
        "@add_method(PacktDataAug)\n",
        "def _append_music_full_path(self,x):\n",
        "  y = re.findall('([a-zA-Z ]*)\\d*.*', x)[0]\n",
        "  return (f'kaggle/musical-emotions-classification/Audio_Files/Audio_Files/Train/{y}/{x}')\n",
        "#\n",
        "@add_method(PacktDataAug)\n",
        "def fetch_music_full_path(self, df):\n",
        "  df['fname'] = df.ImageID.apply(self._append_music_full_path)\n",
        "  return df"
      ],
      "metadata": {
        "id": "5zK1p7UBJoEW"
      },
      "execution_count": null,
      "outputs": []
    },
    {
      "cell_type": "code",
      "source": [
        "pluto.fetch_music_full_path(pluto.df_music_data)\n",
        "pluto.df_music_data.head(3)"
      ],
      "metadata": {
        "id": "M1Q_FAadP-Wm"
      },
      "execution_count": null,
      "outputs": []
    },
    {
      "cell_type": "markdown",
      "source": [
        "## Human Speech"
      ],
      "metadata": {
        "id": "5TDs0Iz0RCXb"
      }
    },
    {
      "cell_type": "code",
      "source": [
        "%%time\n",
        "url = 'https://www.kaggle.com/datasets/ejlok1/cremad'\n",
        "pluto.fetch_kaggle_dataset(url)"
      ],
      "metadata": {
        "id": "Q9o4H58gRBcO"
      },
      "execution_count": null,
      "outputs": []
    },
    {
      "cell_type": "code",
      "source": [
        "# /content/kaggle/cremad/AudioWAV/1001_DFA_ANG_XX.wav\n",
        "# change method name to make_dir_dframe\n",
        "f = 'kaggle/cremad/AudioWAV'\n",
        "pluto.df_voice_data = pluto.make_dir_dataframe(f)\n",
        "pluto.df_voice_data.head(3)"
      ],
      "metadata": {
        "id": "3zq3-nbPOFoG"
      },
      "execution_count": null,
      "outputs": []
    },
    {
      "cell_type": "code",
      "source": [
        "pluto.df_voice_data.head(3)"
      ],
      "metadata": {
        "id": "bOGSVseohWVQ"
      },
      "execution_count": null,
      "outputs": []
    },
    {
      "cell_type": "markdown",
      "source": [
        "## Urban sound"
      ],
      "metadata": {
        "id": "0kxU64ydU4Js"
      }
    },
    {
      "cell_type": "code",
      "source": [
        "%%time\n",
        "url = 'https://www.kaggle.com/datasets/rupakroy/urban-sound-8k'\n",
        "pluto.fetch_kaggle_dataset(url)"
      ],
      "metadata": {
        "id": "NUGSqM4wUaDH"
      },
      "execution_count": null,
      "outputs": []
    },
    {
      "cell_type": "code",
      "source": [
        "# /content/kaggle/urban-sound-8k/UrbanSound8K/UrbanSound8K/audio/fold1\n",
        "# change method name to make_dir_dframe\n",
        "f = 'kaggle/urban-sound-8k/UrbanSound8K/UrbanSound8K/audio'\n",
        "pluto.df_sound_data = pluto.make_dir_dataframe(f)\n",
        "pluto.df_sound_data.head(3)"
      ],
      "metadata": {
        "id": "ry1HB_qDUaGv"
      },
      "execution_count": null,
      "outputs": []
    },
    {
      "cell_type": "markdown",
      "source": [
        "# View and Listen"
      ],
      "metadata": {
        "id": "VaB7rJ4IgL_E"
      }
    },
    {
      "cell_type": "code",
      "source": [
        "# %%writefile -a {pluto_chapter_7}\n",
        "\n",
        "import IPython\n",
        "import IPython.display\n",
        "import librosa\n",
        "import librosa.display\n",
        "import matplotlib\n",
        "import pandas\n",
        "import numpy\n",
        "import re"
      ],
      "metadata": {
        "id": "VbrcB_i5gd7A"
      },
      "execution_count": null,
      "outputs": []
    },
    {
      "cell_type": "code",
      "source": [
        "# %%writefile -a {pluto_chapter_7}\n",
        "\n",
        "@add_method(PacktDataAug)\n",
        "def _draw_area_with_neg(self,ndata,pic,tcolor='#007bff',bcolor='#ffc107',alpha=0.75,istart=0,izero=0):\n",
        "  nlen = len(ndata)\n",
        "  i = numpy.arange(istart, istart+nlen)\n",
        "  xzero = numpy.zeros(nlen)\n",
        "  xzero += izero\n",
        "  # plot line\n",
        "  pic.plot(i,ndata, linewidth=0.0)  # invisible line for shading\n",
        "  pic.plot(i,xzero,color='gray',linewidth=0.5) # base line\n",
        "\n",
        "  # fill top/positive section\n",
        "  pic.fill_between(\n",
        "    i, xzero, ndata, where=(ndata >= xzero), \n",
        "    interpolate=True, color=tcolor, alpha=alpha, \n",
        "    label=\"Positive\"\n",
        "  )\n",
        "  # fill bottom/negative section\n",
        "  pic.fill_between(\n",
        "    i, xzero, ndata, where=(ndata < xzero), \n",
        "    interpolate=True, color=bcolor, alpha=alpha, \n",
        "    label=\"Negative\"\n",
        "  )\n",
        "  return\n",
        "#\n",
        "@add_method(PacktDataAug)\n",
        "def _fetch_audio_data(self,lname):\n",
        "  # select random record\n",
        "  # samp = df.sample(xsize)\n",
        "  # samp.reset_index(drop=True, inplace=True)\n",
        "  data_amp, sam_rate = librosa.load(lname, mono=True)\n",
        "  fname = re.findall('[^\\/]+$', lname)\n",
        "  return data_amp, sam_rate, fname[0]\n",
        "#\n",
        "@add_method(PacktDataAug)\n",
        "def _draw_audio(self,data_amp, sam_rate, fname):\n",
        "  # define constant\n",
        "  zlen = 100\n",
        "  nrow = 2\n",
        "  ncol = 1\n",
        "  w = 11\n",
        "  h = 6\n",
        "  title = ['', 'Zoom In: From Mid-point to 100+']\n",
        "  ylabel = ['Waveform Amplitude']\n",
        "  #\n",
        "  # define graph\n",
        "  canvas, pic = matplotlib.pyplot.subplots(nrow, ncol, figsize=(w, h))\n",
        "  pics = pic.flatten()\n",
        "  # draw original\n",
        "  dlen = len(data_amp)\n",
        "  self._draw_area_with_neg(data_amp,pic[0])\n",
        "  pics[0].set_title(f'{title[0]} {fname}', fontsize=18.)\n",
        "  pics[0].set_xlabel(f'Second: Total {dlen/sam_rate:.2f} sec., Sampling Rate: {sam_rate/1000:.2f} kHz', fontsize=16.)\n",
        "  pics[0].set_ylabel(ylabel[0])\n",
        "  #\n",
        "  # overide tick with time\n",
        "  loc = numpy.array(pics[0].get_xticks())\n",
        "  b = loc / sam_rate\n",
        "  b = numpy.round(b,1)\n",
        "  pics[0].set_xticklabels(b)\n",
        "  pics[0].grid()\n",
        "  #\n",
        "  # draw zoom\n",
        "  mid = int(len(data_amp) / 2)\n",
        "  end = mid + zlen\n",
        "  self._draw_area_with_neg(data_amp[mid:end],pic[1])\n",
        "  pics[1].set_title(title[1],fontsize=18.)\n",
        "  pics[1].set_xlabel(f'Time Series Index: Mid-point at {mid/sam_rate:.2f} sec. ({mid} ts)', fontsize=16.)\n",
        "  pics[1].set_ylabel(ylabel[0])\n",
        "  pics[1].grid()\n",
        "  # \n",
        "  # display and save image\n",
        "  canvas.tight_layout()\n",
        "  self._drop_image(canvas)\n",
        "  canvas.show()\n",
        "  # \n",
        "  return \n",
        "#\n",
        "@add_method(PacktDataAug)\n",
        "def draw_audio(self,df):\n",
        "  samp = df.sample(1)\n",
        "  samp.reset_index(drop=True, inplace=True)\n",
        "  data_amp, sam_rate, fname = self._fetch_audio_data(samp.fname[0])\n",
        "  self._draw_audio(data_amp, sam_rate, 'Original: ' + fname)\n",
        "  # display audio \n",
        "  display(IPython.display.Audio(data_amp,rate=sam_rate))\n",
        "  return\n",
        "#"
      ],
      "metadata": {
        "id": "jeC4EsXlaFc9"
      },
      "execution_count": null,
      "outputs": []
    },
    {
      "cell_type": "code",
      "source": [
        "pluto.draw_audio(pluto.df_music_data)"
      ],
      "metadata": {
        "id": "19TFbZJEq-4X"
      },
      "execution_count": null,
      "outputs": []
    },
    {
      "cell_type": "code",
      "source": [
        "pluto.draw_audio(pluto.df_voice_data)"
      ],
      "metadata": {
        "id": "GxEjwIfNsHik"
      },
      "execution_count": null,
      "outputs": []
    },
    {
      "cell_type": "code",
      "source": [
        "pluto.draw_audio(pluto.df_sound_data)"
      ],
      "metadata": {
        "id": "kHEWRjv4sHl6"
      },
      "execution_count": null,
      "outputs": []
    },
    {
      "cell_type": "markdown",
      "source": [
        "# Audio Control D-scale \n",
        "\n",
        "- pitches D, E, F♯, G, A, B, and C♯"
      ],
      "metadata": {
        "id": "KOTYk5JHhPWI"
      }
    },
    {
      "cell_type": "code",
      "source": [
        "# %%writefile -a {pluto_chapter_7}\n",
        "\n",
        "f = 'Data-Augmentation-with-Python/pluto_data/control-d-major.mp3'\n",
        "data_amp, sam_rate, fname = pluto._fetch_audio_data(f)\n",
        "pluto.audio_control_dmajor = [data_amp, sam_rate, fname, f]\n",
        "pluto._draw_audio(data_amp, sam_rate, 'Original: ' + fname)\n",
        "# display audio \n",
        "display(IPython.display.Audio(data_amp, rate=sam_rate))"
      ],
      "metadata": {
        "id": "mg-sQtNhsHrs"
      },
      "execution_count": null,
      "outputs": []
    },
    {
      "cell_type": "code",
      "source": [
        "pluto.audio_control_dmajor"
      ],
      "metadata": {
        "id": "PZMNzjv-0nUv"
      },
      "execution_count": null,
      "outputs": []
    },
    {
      "cell_type": "markdown",
      "source": [
        "# Augmentation standard functions\n",
        "\n",
        "- basic audio augmentation\n",
        "  - Time shifting\n",
        "  - Time stretching\n",
        "  - Pitch scaling\n",
        "  - Noise addition\n",
        "  - Polarity Inversion\n",
        "- Filters and masking\n",
        "  - Filters\n"
      ],
      "metadata": {
        "id": "rAzmu0VyhwW0"
      }
    },
    {
      "cell_type": "markdown",
      "source": [
        "# Time shift"
      ],
      "metadata": {
        "id": "PukgLsehH7RK"
      }
    },
    {
      "cell_type": "code",
      "source": [
        "# %CARRY-OVER\n",
        "\n",
        "!pip install audiomentations"
      ],
      "metadata": {
        "id": "KTxX760Qr9rT"
      },
      "execution_count": null,
      "outputs": []
    },
    {
      "cell_type": "code",
      "source": [
        "# %%writefile -a {pluto_chapter_7}\n",
        "\n",
        "import audiomentations\n",
        "#\n",
        "@add_method(PacktDataAug)\n",
        "def _fetch_1_sample(self, df, dsize=1):\n",
        "  p = df.sample(dsize)\n",
        "  p.reset_index(drop=True, inplace=True)\n",
        "  return p.fname[0]\n",
        "#\n",
        "@add_method(PacktDataAug)\n",
        "def _audio_transform(self, df, xtransform, title=''):\n",
        "  if (type(df) is list):\n",
        "    data_amp, sam_rate, fname, lname = self.audio_control_dmajor\n",
        "  else:\n",
        "    lname = self._fetch_1_sample(df)\n",
        "    data_amp, sam_rate, fname = self._fetch_audio_data(lname)\n",
        "  #\n",
        "  xaug = xtransform(data_amp, sample_rate=sam_rate)\n",
        "  # augmented\n",
        "  self._draw_audio(xaug, sam_rate, title + ' Augmented: ' + fname)\n",
        "  display(IPython.display.Audio(xaug, rate=sam_rate))\n",
        "  # original\n",
        "  self._draw_audio(data_amp, sam_rate, 'Original: ' + fname)\n",
        "  display(IPython.display.Audio(data_amp, rate=sam_rate))\n",
        "  return"
      ],
      "metadata": {
        "id": "6WFJJUPJB9mu"
      },
      "execution_count": null,
      "outputs": []
    },
    {
      "cell_type": "code",
      "source": [
        "# %%writefile -a {pluto_chapter_7}\n",
        "\n",
        "@add_method(PacktDataAug)\n",
        "def play_aug_time_shift(self, df, min_fraction=-0.2,max_fraction=0.8,rollover=True,title='Time Shift'):\n",
        "  xtransform = audiomentations.Shift(\n",
        "    min_fraction = min_fraction,\n",
        "    max_fraction = max_fraction,\n",
        "    rollover = rollover,\n",
        "    p=1.0\n",
        "  )\n",
        "  self._audio_transform(df, xtransform, title=title)\n",
        "  return"
      ],
      "metadata": {
        "id": "V5FLws7qC6NO"
      },
      "execution_count": null,
      "outputs": []
    },
    {
      "cell_type": "code",
      "source": [
        "pluto.play_aug_time_shift(pluto.df_music_data, min_fraction=0.5)"
      ],
      "metadata": {
        "id": "pgH4RMspMitm"
      },
      "execution_count": null,
      "outputs": []
    },
    {
      "cell_type": "code",
      "source": [
        "pluto.play_aug_time_shift(pluto.df_voice_data, min_fraction=0.5)"
      ],
      "metadata": {
        "id": "zC2H1WnCMiw1"
      },
      "execution_count": null,
      "outputs": []
    },
    {
      "cell_type": "code",
      "source": [
        "pluto.play_aug_time_shift(pluto.df_sound_data, min_fraction=0.5)"
      ],
      "metadata": {
        "id": "yQfIr19EMizv"
      },
      "execution_count": null,
      "outputs": []
    },
    {
      "cell_type": "code",
      "source": [
        "pluto.play_aug_time_shift(pluto.audio_control_dmajor, min_fraction=0.2)"
      ],
      "metadata": {
        "id": "u15bwOFWMi3f"
      },
      "execution_count": null,
      "outputs": []
    },
    {
      "cell_type": "markdown",
      "source": [
        "# Time stretch"
      ],
      "metadata": {
        "id": "1EWF8w9DxGP9"
      }
    },
    {
      "cell_type": "code",
      "source": [
        "# %%writefile -a {pluto_chapter_7}\n",
        "\n",
        "@add_method(PacktDataAug)\n",
        "def play_aug_time_stretch(self, df, min_rate=0.2,max_rate=6.8,leave_length_unchanged=True,title='Time Stretch'):\n",
        "  xtransform = audiomentations.TimeStretch(\n",
        "    min_rate = min_rate,\n",
        "    max_rate = max_rate,\n",
        "    leave_length_unchanged = leave_length_unchanged,\n",
        "    p=1.0\n",
        "  )\n",
        "  self._audio_transform(df, xtransform, title=title)\n",
        "  return\n",
        "  # librosa.effects.time_stretch under the hood "
      ],
      "metadata": {
        "id": "AvtnmRBJMi7e"
      },
      "execution_count": null,
      "outputs": []
    },
    {
      "cell_type": "code",
      "source": [
        "pluto.play_aug_time_stretch(pluto.audio_control_dmajor, max_rate=5.4)"
      ],
      "metadata": {
        "id": "-5SWv7o2hvmM"
      },
      "execution_count": null,
      "outputs": []
    },
    {
      "cell_type": "code",
      "source": [
        "pluto.play_aug_time_stretch(pluto.df_music_data, max_rate=3.0)"
      ],
      "metadata": {
        "id": "bw7E0ohgx2E0"
      },
      "execution_count": null,
      "outputs": []
    },
    {
      "cell_type": "code",
      "source": [
        "pluto.play_aug_time_stretch(pluto.df_voice_data, max_rate=3.5)"
      ],
      "metadata": {
        "id": "S0MZ_zi_x2Il"
      },
      "execution_count": null,
      "outputs": []
    },
    {
      "cell_type": "code",
      "source": [
        "pluto.play_aug_time_stretch(pluto.df_sound_data, max_rate=2.5)\n"
      ],
      "metadata": {
        "id": "_84BezWZx2Mn"
      },
      "execution_count": null,
      "outputs": []
    },
    {
      "cell_type": "code",
      "source": [
        "pluto.fname_id"
      ],
      "metadata": {
        "id": "H3Is8metx2R8"
      },
      "execution_count": null,
      "outputs": []
    },
    {
      "cell_type": "markdown",
      "source": [
        "# Pitch scaling"
      ],
      "metadata": {
        "id": "VY71UYRI4H3-"
      }
    },
    {
      "cell_type": "code",
      "source": [
        "# %%writefile -a {pluto_chapter_7}\n",
        "\n",
        "@add_method(PacktDataAug)\n",
        "def play_aug_pitch_scaling(self, df, min_semitones=-6.0,max_semitones=6.0,title='Pitch Scaling'):\n",
        "  xtransform = audiomentations.PitchShift(\n",
        "    min_semitones = min_semitones,\n",
        "    max_semitones = max_semitones,\n",
        "    p=1.0)\n",
        "  self._audio_transform(df, xtransform, title=title)\n",
        "  return"
      ],
      "metadata": {
        "id": "2TMvLcLv4N0T"
      },
      "execution_count": null,
      "outputs": []
    },
    {
      "cell_type": "code",
      "source": [
        "pluto.play_aug_pitch_scaling(pluto.audio_control_dmajor,min_semitones=-6.0,max_semitones=6.0)"
      ],
      "metadata": {
        "id": "nR-8pnQT4N34"
      },
      "execution_count": null,
      "outputs": []
    },
    {
      "cell_type": "code",
      "source": [
        "pluto.fname_id"
      ],
      "metadata": {
        "id": "jMfcBNPS4N6p"
      },
      "execution_count": null,
      "outputs": []
    },
    {
      "cell_type": "code",
      "source": [
        "pluto.play_aug_pitch_scaling(pluto.df_music_data,min_semitones=-11.0, max_semitones=-9.0)"
      ],
      "metadata": {
        "id": "VnKRiTYe4N-2"
      },
      "execution_count": null,
      "outputs": []
    },
    {
      "cell_type": "code",
      "source": [
        "pluto.play_aug_pitch_scaling(pluto.df_voice_data,min_semitones=-6.0, max_semitones=6.0)"
      ],
      "metadata": {
        "id": "-5M0Wmiy4OEG"
      },
      "execution_count": null,
      "outputs": []
    },
    {
      "cell_type": "code",
      "source": [
        "pluto.play_aug_pitch_scaling(pluto.df_sound_data,min_semitones=4.0, max_semitones=11.0)"
      ],
      "metadata": {
        "id": "6Xr7R0Sr7kVh"
      },
      "execution_count": null,
      "outputs": []
    },
    {
      "cell_type": "markdown",
      "source": [
        "# Noise injection, add Gaussian noise"
      ],
      "metadata": {
        "id": "rcNZA9Kl9tMY"
      }
    },
    {
      "cell_type": "code",
      "source": [
        "# %%writefile -a {pluto_chapter_7}\n",
        "\n",
        "@add_method(PacktDataAug)\n",
        "def play_aug_noise_injection(self, df, min_amplitude=0.002,max_amplitude=0.2,title='Gaussian noise injection'):\n",
        "  xtransform = audiomentations.AddGaussianNoise(\n",
        "    min_amplitude = min_amplitude,\n",
        "    max_amplitude = max_amplitude,\n",
        "    p=1.0)\n",
        "  self._audio_transform(df, xtransform, title=title)\n",
        "  return"
      ],
      "metadata": {
        "id": "cgPOfP4g9tfg"
      },
      "execution_count": null,
      "outputs": []
    },
    {
      "cell_type": "code",
      "source": [
        "pluto.play_aug_noise_injection(pluto.audio_control_dmajor, min_amplitude=0.02,max_amplitude=0.05)"
      ],
      "metadata": {
        "id": "cV7Fi5Rd9tir"
      },
      "execution_count": null,
      "outputs": []
    },
    {
      "cell_type": "code",
      "source": [
        "pluto.fname_id"
      ],
      "metadata": {
        "id": "_vfUBvnm9tlv"
      },
      "execution_count": null,
      "outputs": []
    },
    {
      "cell_type": "code",
      "source": [
        "pluto.play_aug_noise_injection(pluto.df_music_data, max_amplitude=0.01)"
      ],
      "metadata": {
        "id": "lF1OdXFv9tph"
      },
      "execution_count": null,
      "outputs": []
    },
    {
      "cell_type": "code",
      "source": [
        "pluto.play_aug_noise_injection(pluto.df_voice_data, max_amplitude=0.01)"
      ],
      "metadata": {
        "id": "XkLvL-KY7kbD"
      },
      "execution_count": null,
      "outputs": []
    },
    {
      "cell_type": "code",
      "source": [
        "pluto.play_aug_noise_injection(pluto.df_sound_data, max_amplitude=0.022)"
      ],
      "metadata": {
        "id": "Onk3dHLXDfn3"
      },
      "execution_count": null,
      "outputs": []
    },
    {
      "cell_type": "markdown",
      "source": [
        "# Polarity Inversion"
      ],
      "metadata": {
        "id": "5JSmgvZnF4n5"
      }
    },
    {
      "cell_type": "code",
      "source": [
        "# %%writefile -a {pluto_chapter_7}\n",
        "\n",
        "@add_method(PacktDataAug)\n",
        "def play_aug_polar_inverse(self, df, title='Polarity inversion'):\n",
        "  xtransform = audiomentations.PolarityInversion(\n",
        "    p=1.0)\n",
        "  self._audio_transform(df, xtransform, title=title)\n",
        "  return"
      ],
      "metadata": {
        "id": "cu83SaDoF40t"
      },
      "execution_count": null,
      "outputs": []
    },
    {
      "cell_type": "code",
      "source": [
        "pluto.play_aug_polar_inverse(pluto.audio_control_dmajor)"
      ],
      "metadata": {
        "id": "etIYC71qF47G"
      },
      "execution_count": null,
      "outputs": []
    },
    {
      "cell_type": "code",
      "source": [
        "pluto.play_aug_polar_inverse(pluto.df_voice_data)"
      ],
      "metadata": {
        "id": "j_5G88ynDfr1"
      },
      "execution_count": null,
      "outputs": []
    },
    {
      "cell_type": "markdown",
      "source": [
        "# Low pass Filter"
      ],
      "metadata": {
        "id": "XuNqAvhhJmiG"
      }
    },
    {
      "cell_type": "code",
      "source": [
        "# %%writefile -a {pluto_chapter_7}\n",
        "\n",
        "@add_method(PacktDataAug)\n",
        "def play_aug_low_pass_filter(self, df, \n",
        "  min_cutoff_freq=150, max_cutoff_freq=7500,\n",
        "  min_rolloff=12, max_rolloff=24,\n",
        "  title='Low pass filter'):\n",
        "  xtransform = audiomentations.LowPassFilter(\n",
        "    min_cutoff_freq = min_cutoff_freq,\n",
        "    max_cutoff_freq = max_cutoff_freq,\n",
        "    min_rolloff = min_rolloff,\n",
        "    max_rolloff = max_rolloff,\n",
        "    p=1.0)\n",
        "  self._audio_transform(df, xtransform, title=title)\n",
        "  return"
      ],
      "metadata": {
        "id": "4TY1ALSIJpwH"
      },
      "execution_count": null,
      "outputs": []
    },
    {
      "cell_type": "code",
      "source": [
        "pluto.play_aug_low_pass_filter(pluto.audio_control_dmajor)"
      ],
      "metadata": {
        "id": "wxdSfke3Jpza"
      },
      "execution_count": null,
      "outputs": []
    },
    {
      "cell_type": "code",
      "source": [
        "pluto.play_aug_low_pass_filter(pluto.df_music_data)"
      ],
      "metadata": {
        "id": "lmSI3FeCJp95"
      },
      "execution_count": null,
      "outputs": []
    },
    {
      "cell_type": "code",
      "source": [
        "pluto.play_aug_low_pass_filter(pluto.df_voice_data)"
      ],
      "metadata": {
        "id": "6vt_YXOwJqFE"
      },
      "execution_count": null,
      "outputs": []
    },
    {
      "cell_type": "code",
      "source": [
        "pluto.play_aug_low_pass_filter(pluto.df_sound_data)"
      ],
      "metadata": {
        "id": "eBySWhVaDfyX"
      },
      "execution_count": null,
      "outputs": []
    },
    {
      "cell_type": "markdown",
      "source": [
        "#High pass filter"
      ],
      "metadata": {
        "id": "ac8gYYuaPtXJ"
      }
    },
    {
      "cell_type": "code",
      "source": [
        "# %%writefile -a {pluto_chapter_7}\n",
        "\n",
        "@add_method(PacktDataAug)\n",
        "def play_aug_high_pass_filter(self, df, \n",
        "  min_cutoff_freq=20, max_cutoff_freq=2400,\n",
        "  min_rolloff=12, max_rolloff=24,\n",
        "  title='High pass filter'):\n",
        "  xtransform = audiomentations.HighPassFilter(\n",
        "    min_cutoff_freq = min_cutoff_freq,\n",
        "    max_cutoff_freq = max_cutoff_freq,\n",
        "    min_rolloff = min_rolloff,\n",
        "    max_rolloff = max_rolloff,\n",
        "    p=1.0)\n",
        "  self._audio_transform(df, xtransform, title=title)\n",
        "  return"
      ],
      "metadata": {
        "id": "m5KvMy9aOvci"
      },
      "execution_count": null,
      "outputs": []
    },
    {
      "cell_type": "code",
      "source": [
        "pluto.play_aug_high_pass_filter(pluto.audio_control_dmajor)"
      ],
      "metadata": {
        "id": "0pSH7NkEOvft"
      },
      "execution_count": null,
      "outputs": []
    },
    {
      "cell_type": "code",
      "source": [
        "pluto.play_aug_high_pass_filter(pluto.df_music_data)"
      ],
      "metadata": {
        "id": "9W9vfnPrOvmE"
      },
      "execution_count": null,
      "outputs": []
    },
    {
      "cell_type": "code",
      "source": [
        "pluto.play_aug_high_pass_filter(pluto.df_voice_data)"
      ],
      "metadata": {
        "id": "jlV3urETSAEh"
      },
      "execution_count": null,
      "outputs": []
    },
    {
      "cell_type": "code",
      "source": [
        "pluto.play_aug_high_pass_filter(pluto.df_sound_data)"
      ],
      "metadata": {
        "id": "Wzo4Tg3QSALp"
      },
      "execution_count": null,
      "outputs": []
    },
    {
      "cell_type": "markdown",
      "source": [
        "# Band pass filter"
      ],
      "metadata": {
        "id": "vPARs4o0R9cW"
      }
    },
    {
      "cell_type": "code",
      "source": [
        "# %%writefile -a {pluto_chapter_7}\n",
        "\n",
        "@add_method(PacktDataAug)\n",
        "def play_aug_band_pass_filter(self, df, \n",
        "  min_center_freq=200, max_center_freq=4000,\n",
        "  min_bandwidth_fraction=0.5,max_bandwidth_fraction=1.99,\n",
        "  min_rolloff=12, max_rolloff=24,\n",
        "  title='Band pass filter'):\n",
        "  xtransform = audiomentations.BandPassFilter(\n",
        "    min_center_freq = min_center_freq,\n",
        "    max_center_freq = max_center_freq,\n",
        "    min_bandwidth_fraction = min_bandwidth_fraction,\n",
        "    max_bandwidth_fraction = max_bandwidth_fraction,\n",
        "    min_rolloff = min_rolloff,\n",
        "    max_rolloff = max_rolloff,\n",
        "    p=1.0)\n",
        "  self._audio_transform(df, xtransform, title=title)\n",
        "  return"
      ],
      "metadata": {
        "id": "L2izp4R1R9qq"
      },
      "execution_count": null,
      "outputs": []
    },
    {
      "cell_type": "code",
      "source": [
        "pluto.play_aug_band_pass_filter(pluto.audio_control_dmajor)"
      ],
      "metadata": {
        "id": "AJvzrDMBR9uQ"
      },
      "execution_count": null,
      "outputs": []
    },
    {
      "cell_type": "code",
      "source": [
        "pluto.play_aug_band_pass_filter(pluto.df_music_data)"
      ],
      "metadata": {
        "id": "hSh4Ni1BR90-"
      },
      "execution_count": null,
      "outputs": []
    },
    {
      "cell_type": "code",
      "source": [
        "pluto.play_aug_band_pass_filter(pluto.df_voice_data)"
      ],
      "metadata": {
        "id": "LD9ruyJAR97N"
      },
      "execution_count": null,
      "outputs": []
    },
    {
      "cell_type": "code",
      "source": [
        "pluto.play_aug_band_pass_filter(pluto.df_sound_data)"
      ],
      "metadata": {
        "id": "Vdm9EjhIR9-Q"
      },
      "execution_count": null,
      "outputs": []
    },
    {
      "cell_type": "markdown",
      "source": [
        "# Sneak peek (Optional)"
      ],
      "metadata": {
        "id": "DdR2XCt2iYXT"
      }
    },
    {
      "cell_type": "code",
      "source": [
        "pluto.text_marry_lamb = 'Mary had a little lamb, whose fleece was white as snow. And everywhere that Mary went, the lamb was sure to go.'"
      ],
      "metadata": {
        "id": "bdU2Iu38gKfp"
      },
      "execution_count": null,
      "outputs": []
    },
    {
      "cell_type": "code",
      "source": [
        "x = numpy.array([ord(c) for c in pluto.text_marry_lamb])"
      ],
      "metadata": {
        "id": "81uDBwK2iXN5"
      },
      "execution_count": null,
      "outputs": []
    },
    {
      "cell_type": "code",
      "source": [
        "k = pandas.DataFrame(x, columns=['tdata'])\n",
        "k.head()"
      ],
      "metadata": {
        "id": "CTTp4kdDjkk-"
      },
      "execution_count": null,
      "outputs": []
    },
    {
      "cell_type": "code",
      "source": [
        "canvas, pic = matplotlib.pyplot.subplots(1, 1, figsize=(11, 4))\n",
        "# pics = pic.flatten()\n",
        "pluto._draw_area_with_neg(x,pic,izero=64)\n",
        "pic.set_title('Text Time-series graph: Marry had a little lamb...', fontsize=18.)\n",
        "pic.set_xlabel('Character, letters are blue, punctuations are yellow', fontsize=16.)\n",
        "pic.set_ylabel('ASCII value')\n",
        "pic.grid()\n",
        "# \n",
        "# display and save image\n",
        "canvas.tight_layout()\n",
        "pluto._drop_image(canvas)\n",
        "canvas.show()"
      ],
      "metadata": {
        "id": "3-9UVyIMjkoF"
      },
      "execution_count": null,
      "outputs": []
    },
    {
      "cell_type": "markdown",
      "source": [
        "# Push up all changes (Optional)"
      ],
      "metadata": {
        "id": "LEj7fgaIN9_S"
      }
    },
    {
      "cell_type": "markdown",
      "source": [
        "- username: duchaba\n",
        "\n",
        "- password: [use the token]"
      ],
      "metadata": {
        "id": "lHXRf21BT9N8"
      }
    },
    {
      "cell_type": "code",
      "source": [
        "# import os\n",
        "# f = 'Data-Augmentation-with-Python'\n",
        "# os.chdir(f)\n",
        "# !git add -A\n",
        "# !git config --global user.email \"duc.haba@gmail.com\"\n",
        "# !git config --global user.name \"duchaba\"\n",
        "# !git commit -m \"end of session\"\n",
        "# # do the git push in the xterm console\n",
        "# #!git push"
      ],
      "metadata": {
        "id": "eSXJKJFlOEeE"
      },
      "execution_count": null,
      "outputs": []
    },
    {
      "cell_type": "code",
      "source": [
        "# %%script false --no-raise-error  #temporary stop execute for export file"
      ],
      "metadata": {
        "id": "JMJgBjC1Px5A"
      },
      "execution_count": null,
      "outputs": []
    },
    {
      "cell_type": "markdown",
      "metadata": {
        "id": "EzO7lDYDWeLz"
      },
      "source": [
        "# Summary "
      ]
    },
    {
      "cell_type": "markdown",
      "metadata": {
        "id": "X2iUPf3EWePd"
      },
      "source": [
        "Every chaper will begin with same base class \"PacktDataAug\".\n",
        "\n",
        "✋ FAIR WARNING:\n",
        "\n",
        "- The coding uses long and complete function path name.\n",
        "\n",
        "- Pluto wrote the code for easy to understand and not for compactness, fast execution, nor cleaverness.\n",
        "\n",
        "- Use Xterm to debug cloud server\n",
        "\n"
      ]
    },
    {
      "cell_type": "code",
      "source": [
        "# !pip install colab-xterm\n",
        "# %load_ext colabxterm\n",
        "# %xterm"
      ],
      "metadata": {
        "id": "vXRG3KaeWbGx"
      },
      "execution_count": null,
      "outputs": []
    }
  ],
  "metadata": {
    "kernelspec": {
      "display_name": "nlpaug_dev",
      "language": "python",
      "name": "nlpaug_dev"
    },
    "language_info": {
      "codemirror_mode": {
        "name": "ipython",
        "version": 3
      },
      "file_extension": ".py",
      "mimetype": "text/x-python",
      "name": "python",
      "nbconvert_exporter": "python",
      "pygments_lexer": "ipython3",
      "version": "3.8.5"
    },
    "colab": {
      "provenance": [],
      "toc_visible": true,
      "include_colab_link": true
    }
  },
  "nbformat": 4,
  "nbformat_minor": 0
}